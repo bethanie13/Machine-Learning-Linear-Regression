{
 "cells": [
  {
   "cell_type": "markdown",
   "metadata": {},
   "source": [
    "### Bethanie Williams\n",
    "### CSC 5220 Data Mining and Machine Learning\n",
    "### Lab 2 Assignment \n",
    "### Date: 9/17/20"
   ]
  },
  {
   "cell_type": "code",
   "execution_count": 1,
   "metadata": {},
   "outputs": [],
   "source": [
    "import pandas as pd\n",
    "import numpy as np\n",
    "import matplotlib   # import python libraries that I will need to use\n",
    "import pylab\n",
    "import sklearn\n",
    "import scipy"
   ]
  },
  {
   "cell_type": "code",
   "execution_count": 2,
   "metadata": {},
   "outputs": [
    {
     "name": "stderr",
     "output_type": "stream",
     "text": [
      "C:\\Users\\betha\\anaconda3\\lib\\site-packages\\sklearn\\utils\\deprecation.py:143: FutureWarning: The sklearn.datasets.samples_generator module is  deprecated in version 0.22 and will be removed in version 0.24. The corresponding classes / functions should instead be imported from sklearn.datasets. Anything that cannot be imported from sklearn.datasets is now part of the private API.\n",
      "  warnings.warn(message, FutureWarning)\n"
     ]
    }
   ],
   "source": [
    "from pandas import read_csv\n",
    "from matplotlib import pyplot as plt\n",
    "from pandas.plotting import scatter_matrix\n",
    "from sklearn import linear_model\n",
    "from sklearn.datasets.samples_generator import make_regression \n",
    "from sklearn.linear_model import LinearRegression\n",
    "from sklearn.model_selection import learning_curve\n",
    "from sklearn.preprocessing import PolynomialFeatures\n",
    "from sklearn.linear_model import Ridge\n",
    "from sklearn.metrics import mean_squared_error\n",
    "from sklearn.metrics import r2_score"
   ]
  },
  {
   "cell_type": "markdown",
   "metadata": {},
   "source": [
    "## Step 1:"
   ]
  },
  {
   "cell_type": "code",
   "execution_count": 3,
   "metadata": {},
   "outputs": [
    {
     "name": "stdout",
     "output_type": "stream",
     "text": [
      "    x_training  y_training   x_test    y_test    x_val      y_val\n",
      "0     -15.9368      2.1343 -33.3180   3.31690 -16.7465   4.170200\n",
      "1     -29.1530      1.1733 -37.9122   5.39770 -14.5775   4.067300\n",
      "2      36.1895     34.3591 -51.2069   0.13043  34.5158  31.873100\n",
      "3      37.4922     36.8380  -6.1326   6.19260 -47.0101  10.623700\n",
      "4     -48.0588      2.8090  21.2612  17.08850  36.9751  31.836000\n",
      "5      -8.9415      2.1211 -40.3195   0.79951 -40.6861   4.959400\n",
      "6      15.3078     14.7103 -14.5415   2.82480  -4.4720   4.451600\n",
      "7     -34.7063      2.6142  32.5598  28.62120  26.5336  22.276300\n",
      "8       1.3892      3.7402  13.3934  17.04640 -42.7977  -0.000044\n",
      "9     -44.3838      3.7317  44.2099  55.38440  25.3741  20.503800\n",
      "10      7.0135      7.6277  -1.1427   4.07940 -31.1096   3.858300\n",
      "11     22.7627     22.7524 -12.7669   8.27040  27.3118  19.365100\n",
      "12         NaN         NaN  34.0545  31.32360  -3.2639   4.883800\n",
      "13         NaN         NaN  39.2235  39.15910  -1.8183  11.097200\n",
      "14         NaN         NaN   1.9745   8.08730 -40.7197   7.461700\n",
      "15         NaN         NaN  29.6218  24.11130 -50.0132   1.476900\n",
      "16         NaN         NaN -23.6696   2.47740 -17.4118   2.719200\n",
      "17         NaN         NaN  -9.0118   6.56610   3.5882  10.926900\n",
      "18         NaN         NaN -55.9406   6.03810   7.0855   8.348700\n",
      "19         NaN         NaN -35.7086   4.69270  46.2824  52.781900\n",
      "20         NaN         NaN   9.5102  10.83000  14.6123  13.357300\n"
     ]
    }
   ],
   "source": [
    "dataset = read_csv(r'C:\\Users\\betha\\OneDrive\\Documents\\CSC5220\\Lab2_dataset.csv')  # importing csv\n",
    "print(dataset)"
   ]
  },
  {
   "cell_type": "code",
   "execution_count": 4,
   "metadata": {},
   "outputs": [
    {
     "name": "stdout",
     "output_type": "stream",
     "text": [
      "Training Set: \n",
      "    x_training  y_training\n",
      "0     -15.9368      2.1343\n",
      "1     -29.1530      1.1733\n",
      "2      36.1895     34.3591\n",
      "3      37.4922     36.8380\n",
      "4     -48.0588      2.8090\n",
      "5      -8.9415      2.1211\n",
      "6      15.3078     14.7103\n",
      "7     -34.7063      2.6142\n",
      "8       1.3892      3.7402\n",
      "9     -44.3838      3.7317\n",
      "10      7.0135      7.6277\n",
      "11     22.7627     22.7524\n",
      "12         NaN         NaN\n",
      "13         NaN         NaN\n",
      "14         NaN         NaN\n",
      "15         NaN         NaN\n",
      "16         NaN         NaN\n",
      "17         NaN         NaN\n",
      "18         NaN         NaN\n",
      "19         NaN         NaN\n",
      "20         NaN         NaN\n",
      "\n",
      "Test Set:\n",
      "     x_test    y_test\n",
      "0  -33.3180   3.31690\n",
      "1  -37.9122   5.39770\n",
      "2  -51.2069   0.13043\n",
      "3   -6.1326   6.19260\n",
      "4   21.2612  17.08850\n",
      "5  -40.3195   0.79951\n",
      "6  -14.5415   2.82480\n",
      "7   32.5598  28.62120\n",
      "8   13.3934  17.04640\n",
      "9   44.2099  55.38440\n",
      "10  -1.1427   4.07940\n",
      "11 -12.7669   8.27040\n",
      "12  34.0545  31.32360\n",
      "13  39.2235  39.15910\n",
      "14   1.9745   8.08730\n",
      "15  29.6218  24.11130\n",
      "16 -23.6696   2.47740\n",
      "17  -9.0118   6.56610\n",
      "18 -55.9406   6.03810\n",
      "19 -35.7086   4.69270\n",
      "20   9.5102  10.83000\n",
      "\n",
      "Validation Set:\n",
      "      x_val      y_val\n",
      "0  -16.7465   4.170200\n",
      "1  -14.5775   4.067300\n",
      "2   34.5158  31.873100\n",
      "3  -47.0101  10.623700\n",
      "4   36.9751  31.836000\n",
      "5  -40.6861   4.959400\n",
      "6   -4.4720   4.451600\n",
      "7   26.5336  22.276300\n",
      "8  -42.7977  -0.000044\n",
      "9   25.3741  20.503800\n",
      "10 -31.1096   3.858300\n",
      "11  27.3118  19.365100\n",
      "12  -3.2639   4.883800\n",
      "13  -1.8183  11.097200\n",
      "14 -40.7197   7.461700\n",
      "15 -50.0132   1.476900\n",
      "16 -17.4118   2.719200\n",
      "17   3.5882  10.926900\n",
      "18   7.0855   8.348700\n",
      "19  46.2824  52.781900\n",
      "20  14.6123  13.357300\n",
      "\n"
     ]
    }
   ],
   "source": [
    "print(\"Training Set: \")  # defining training set\n",
    "x_training = dataset.iloc[:12, :1]  # gets rows until the 12th row and first two columns\n",
    "y_training = dataset.iloc[:12, 1:2]\n",
    "training_set = print(dataset[[\"x_training\", \"y_training\"]])\n",
    "print()\n",
    "\n",
    "print(\"Test Set:\")  # defining test set\n",
    "x_testing = dataset.iloc[:, 2:3]  # gets all rows and next two columns\n",
    "y_testing = dataset.iloc[:, 3:4]\n",
    "testing_set =  print(dataset[[\"x_test\", \"y_test\"]])\n",
    "print()\n",
    "\n",
    "print(\"Validation Set:\")  # defining validation set\n",
    "x_validate = dataset.iloc[:, 4:5]  # gets all rows and last two columns\n",
    "y_validate = dataset.iloc[:, 5:6]\n",
    "validation_set =  print(dataset[[\"x_val\", \"y_val\"]])\n",
    "print()"
   ]
  },
  {
   "cell_type": "code",
   "execution_count": 5,
   "metadata": {},
   "outputs": [],
   "source": [
    "# Turning data sets into arrays\n",
    "x = np.array(x_training.values)  # array = dataset.values\n",
    "x = x[np.logical_not(np.isnan(x))]  # remove nan values from my array\n",
    "# print(x)\n",
    "# print()\n",
    "\n",
    "y = np.array(y_training.values)\n",
    "y = y[np.logical_not(np.isnan(y))]  # remove nan values from my array\n",
    "# print(y)\n",
    "# print()\n",
    "\n",
    "x_test = np.array(x_testing.values)\n",
    "# print(x_test)\n",
    "# print()\n",
    "\n",
    "y_test = np.array(y_testing.values)\n",
    "# print(y_test)\n",
    "# print()\n",
    "\n",
    "x_val = np.array(x_validate.values)\n",
    "# print(x_val)\n",
    "# print()\n",
    "\n",
    "y_val = np.array(y_validate.values)\n",
    "# print(y_val)\n",
    "# print()"
   ]
  },
  {
   "cell_type": "code",
   "execution_count": 6,
   "metadata": {},
   "outputs": [
    {
     "name": "stdout",
     "output_type": "stream",
     "text": [
      "Training Data:\n",
      "\n",
      "[-15.9368 -29.153   36.1895  37.4922 -48.0588  -8.9415  15.3078 -34.7063\n",
      "   1.3892 -44.3838   7.0135  22.7627]\n",
      "\n",
      "[ 2.1343  1.1733 34.3591 36.838   2.809   2.1211 14.7103  2.6142  3.7402\n",
      "  3.7317  7.6277 22.7524]\n"
     ]
    }
   ],
   "source": [
    "print(\"Training Data:\") # print training data out to ensure correct values\n",
    "print()\n",
    "\n",
    "print(x)  # printing x training values\n",
    "print()\n",
    "print(y)  # printing y training values"
   ]
  },
  {
   "cell_type": "markdown",
   "metadata": {},
   "source": [
    "###############################################################################################################################"
   ]
  },
  {
   "cell_type": "markdown",
   "metadata": {},
   "source": [
    "## Step 2:"
   ]
  },
  {
   "cell_type": "code",
   "execution_count": 7,
   "metadata": {},
   "outputs": [
    {
     "data": {
      "image/png": "[encoded data removed]",
      "text/plain": [
       "<Figure size 432x288 with 1 Axes>"
      ]
     },
     "metadata": {
      "needs_background": "light"
     },
     "output_type": "display_data"
    }
   ],
   "source": [
    "x_train = dataset['x_training'].tolist()  # plotting training data\n",
    "y_train = dataset['y_training'].tolist()\n",
    "plt.scatter(x_train, y_train)  # scattter plot of data\n",
    "plt.xlabel('x-training')  # labels x-axis\n",
    "plt.ylabel('y-training')  # labels y-axis\n",
    "plt.show()  # displays scatter plot"
   ]
  },
  {
   "cell_type": "markdown",
   "metadata": {},
   "source": [
    "###############################################################################################################################"
   ]
  },
  {
   "cell_type": "markdown",
   "metadata": {},
   "source": [
    "## Step 3:"
   ]
  },
  {
   "cell_type": "code",
   "execution_count": 8,
   "metadata": {},
   "outputs": [],
   "source": [
    "def gradient_descent(alpha, x, y, lamb=0, conv=0.0001, max_iter=10000): # input alpha=learning rate, x and = data,\n",
    "    converged = False                                                   #  convergence thresh= 0.0001, max_iter = 10000\n",
    "    iteration = 0 # set iteration counter to 0\n",
    "    m = x.shape[0] # number of samples\n",
    "    t_n = ([0.0,0.0])  # initial theta\n",
    "    num_thetas = len(t_n) # length of theta array\n",
    "\n",
    "    # total error, J(theta)\n",
    "    J = sum([(t_n[0] + t_n[1]*x[i] - y[i])**2 for i in range(m)]) + (lamb * sum(t_n[i] ** 2 for i in range(num_thetas)))\n",
    "\n",
    "    while not converged:# Iterate Loop until convergence has happened\n",
    "        \n",
    "        # for each training sample, compute the gradient (d/d_theta j(theta))\n",
    "        grad0 = 1.0/m * sum([(t_n[0] + t_n[1]*x[i] - y[i]) for i in range(m)]) \n",
    "        grad1 = 1.0/m * sum([(t_n[0] + t_n[1]*x[i] - y[i])*x[i] for i in range(m)])\n",
    "\n",
    "        # update the theta_temp\n",
    "        temp0 = t_n[0] - alpha * grad0\n",
    "        temp1 = ((1.0 -((alpha * lamb)/m)) * t_n[1]) - alpha * grad1\n",
    "    \n",
    "        # update theta\n",
    "        t_n[0] = (temp0)\n",
    "        t_n[1] = (temp1)\n",
    "\n",
    "        # mean squared error\n",
    "        e = sum([ (t_n[0] + t_n[1]*x[i] - y[i])**2 for i in range(m)]) + (lamb * sum([t_n[i]**2 for i in range(num_thetas)])) \n",
    "        \n",
    "        if abs(J-e) <= conv: \n",
    "            print('Converged, iterations: ', iteration, '!!!')\n",
    "            converged = True\n",
    "    \n",
    "        J = e   # update error \n",
    "        iteration += 1  # update iter\n",
    "    \n",
    "        if iteration == max_iter:\n",
    "            print('Max interactions exceeded!')\n",
    "            converged = True\n",
    "            \n",
    "        for i in range(num_thetas):\n",
    "            y_predict = t_n[0] + t_n[1]*x\n",
    "    \n",
    "    print(\"Theta0 =\", t_n[0], \"Theta1 =\", t_n[1]) # theta0 is y-intercept, theta1 is slope\n",
    "\n",
    "    return t_n[0], t_n[1]  # returns theta0 and theta1"
   ]
  },
  {
   "cell_type": "code",
   "execution_count": 9,
   "metadata": {},
   "outputs": [
    {
     "name": "stdout",
     "output_type": "stream",
     "text": [
      "Converged, iterations:  5445 !!!\n",
      "Theta0 = 13.021432891787487 Theta1 = 0.36738026698713894\n"
     ]
    }
   ],
   "source": [
    "theta0, theta1= gradient_descent(0.001, x, y)\n",
    "# print (theta0, theta1)"
   ]
  },
  {
   "cell_type": "markdown",
   "metadata": {},
   "source": [
    "################################################################################################################################"
   ]
  },
  {
   "cell_type": "markdown",
   "metadata": {},
   "source": [
    "## Step 4:"
   ]
  },
  {
   "cell_type": "code",
   "execution_count": 10,
   "metadata": {},
   "outputs": [],
   "source": [
    "def work_properly(alpha, x, y, lamb=0, conv=0.0001, max_iter=10000): # input alpha=learning rate, x and = data,\n",
    "    converged = False                                                   #  convergence thresh= 0.0001, max_iter = 10000\n",
    "    iteration = 0  # set iteration counter to 0\n",
    "    m = x.shape[0] # number of samples\n",
    "    t_n = ([0.0,0.0]) # initial theta\n",
    "    num_thetas = len(t_n) # length of theta array\n",
    "\n",
    "    # total error, J(theta)\n",
    "    J = sum([(t_n[0] + t_n[1]*x[i] - y[i])**2 for i in range(m)]) + (lamb * sum(t_n[i] ** 2 for i in range(num_thetas)))\n",
    "\n",
    "    while not converged: # Iterate Loop until convergence has happened\n",
    "        \n",
    "        # for each training sample, compute the gradient (d/d_theta j(theta))\n",
    "        grad0 = 1.0/m * sum([(t_n[0] + t_n[1]*x[i] - y[i]) for i in range(m)]) \n",
    "        grad1 = 1.0/m * sum([(t_n[0] + t_n[1]*x[i] - y[i])*x[i] for i in range(m)])\n",
    "\n",
    "        # update the theta_temp\n",
    "        temp0 = t_n[0] - alpha * grad0\n",
    "        temp1 = ((1.0 -((alpha * lamb)/m)) * t_n[1]) - alpha * grad1\n",
    "    \n",
    "        # update theta\n",
    "        t_n[0] = (temp0)\n",
    "        t_n[1] = (temp1)\n",
    "\n",
    "        # mean squared error\n",
    "        e = sum([ (t_n[0] + t_n[1]*x[i] - y[i])**2 for i in range(m)]) + (lamb * sum([t_n[i]**2 for i in range(num_thetas)])) \n",
    "        \n",
    "        if abs(J-e) <= conv:\n",
    "            converged = True\n",
    "    \n",
    "        J = e   # update error \n",
    "        iteration += 1  # update iter\n",
    "    \n",
    "        if iteration == max_iter:\n",
    "            print('Max interactions exceeded!')\n",
    "            converged = True\n",
    "        \n",
    "        for i in range(num_thetas):\n",
    "            y_predict = t_n[0] + t_n[1]*x\n",
    "\n",
    "            plt.plot(iteration, J, 'o')\n",
    "            plt.xlabel('Iterations')  # labels x-axis\n",
    "            plt.ylabel('J theta')  # labels y-axis\n",
    "\n",
    "\n",
    "    return J, iteration-1"
   ]
  },
  {
   "cell_type": "code",
   "execution_count": 11,
   "metadata": {},
   "outputs": [
    {
     "name": "stdout",
     "output_type": "stream",
     "text": [
      "Jtheta and Number of Iterations:\n",
      "(537.024955872586, 5445)\n"
     ]
    },
    {
     "data": {
      "image/png": "[encoded data removed]",
      "text/plain": [
       "<Figure size 432x288 with 1 Axes>"
      ]
     },
     "metadata": {
      "needs_background": "light"
     },
     "output_type": "display_data"
    }
   ],
   "source": [
    "print(\"Jtheta and Number of Iterations:\")\n",
    "results= work_properly(0.001, x, y)\n",
    "print (results)"
   ]
  },
  {
   "cell_type": "markdown",
   "metadata": {},
   "source": [
    "################################################################################################################################"
   ]
  },
  {
   "cell_type": "markdown",
   "metadata": {},
   "source": [
    "## Step 5:"
   ]
  },
  {
   "cell_type": "code",
   "execution_count": 12,
   "metadata": {},
   "outputs": [
    {
     "name": "stdout",
     "output_type": "stream",
     "text": [
      "[0.7810571563099895, -0.9067612662823201, -5.790971701796238, 10.76843666646216, 20.832378224254445, -1.7911557830004607, 7.679172739394007, 24.983260908835334, 17.941903759653034, 29.263277757262202, 12.601627460701284, 8.331125761189384, 25.53238419390101, 27.431372793957532, 13.746825228953593, 23.903897684427122, 4.325688924308704, 9.71067540175279, -7.530039671633258, -0.09720210994946044, 16.515292706888577]\n"
     ]
    }
   ],
   "source": [
    " def regression_prediction(t0, t1, x):\n",
    "    prediction = t0\n",
    "    prediction += t1*x\n",
    "    return prediction\n",
    "\n",
    "test_predicted_values = []\n",
    "\n",
    "for i in np.nditer(x_test):\n",
    "    test_predicted_value = regression_prediction(theta0, theta1, i)\n",
    "    test_predicted_values.append(test_predicted_value)\n",
    "print(test_predicted_values)"
   ]
  },
  {
   "cell_type": "code",
   "execution_count": 13,
   "metadata": {},
   "outputs": [],
   "source": [
    "# regression_prediction(theta0, theta1, x_test)"
   ]
  },
  {
   "cell_type": "markdown",
   "metadata": {},
   "source": [
    "################################################################################################################################"
   ]
  },
  {
   "cell_type": "markdown",
   "metadata": {},
   "source": [
    "## Step 6:"
   ]
  },
  {
   "cell_type": "code",
   "execution_count": 14,
   "metadata": {},
   "outputs": [
    {
     "name": "stdout",
     "output_type": "stream",
     "text": [
      "MSE: [65.29849453]\n"
     ]
    }
   ],
   "source": [
    "def evaluate_MSE(pred, ytest):\n",
    "    m = x_test.shape[0]\n",
    "    MSE = (1/(m))*sum([(pred[i]-ytest[i])**2 for i in range(m)])\n",
    "#     print(MSE)\n",
    "    return MSE\n",
    "              \n",
    "evaluation = evaluate_MSE(test_predicted_values, y_test)\n",
    "print(\"MSE:\", evaluation)"
   ]
  },
  {
   "cell_type": "code",
   "execution_count": 15,
   "metadata": {},
   "outputs": [],
   "source": [
    "# evaluate_MSE(prediction, y_test)"
   ]
  },
  {
   "cell_type": "markdown",
   "metadata": {},
   "source": [
    "################################################################################################################################"
   ]
  },
  {
   "cell_type": "markdown",
   "metadata": {},
   "source": [
    "## Step 7:"
   ]
  },
  {
   "cell_type": "code",
   "execution_count": 52,
   "metadata": {},
   "outputs": [],
   "source": [
    "def plot_test():\n",
    "    x_2d = np.reshape(x, (-1,1))\n",
    "    x_2d_test = np.reshape(x_test, (-1,1))\n",
    "    skit = linear_model.LinearRegression()  # using skit learn\n",
    "    skit.fit(x_2d, y)   # fitting data\n",
    "    y_test_predict = skit.predict(x_2d_test) # predicting y test value\n",
    "\n",
    "    plt.scatter(x_2d, y, c= \"blue\", label = \"original data\")\n",
    "    plt.plot(x_test, test_predicted_values, label = \"my linear version\")\n",
    "    plt.plot(x_test, y_test_predict, linestyle = \":\", c= \"orange\", label = \"skit version\")\n",
    "    plt.xlabel('x')  # labels x-axis\n",
    "    plt.ylabel('y')  # labels y-axis\n",
    "    plt.legend(loc = \"best\")  # puts legend in best location\n",
    "    plt.show()"
   ]
  },
  {
   "cell_type": "code",
   "execution_count": 53,
   "metadata": {},
   "outputs": [
    {
     "data": {
      "image/png": "[encoded data removed]",
      "text/plain": [
       "<Figure size 432x288 with 1 Axes>"
      ]
     },
     "metadata": {
      "needs_background": "light"
     },
     "output_type": "display_data"
    }
   ],
   "source": [
    "plot_test()"
   ]
  },
  {
   "cell_type": "code",
   "execution_count": 18,
   "metadata": {},
   "outputs": [],
   "source": [
    "################################################################################################################################"
   ]
  },
  {
   "cell_type": "markdown",
   "metadata": {},
   "source": [
    "## Step 8:"
   ]
  },
  {
   "cell_type": "code",
   "execution_count": 21,
   "metadata": {},
   "outputs": [],
   "source": [
    "# def learning_curves():\n",
    "#      # instantiate\n",
    "#     lg = LinearRegression()\n",
    "\n",
    "#     # fit\n",
    "#     x_2d = np.reshape(x, (-1,1))\n",
    "#     lg.fit(x_2d, y)\n",
    "    \n",
    "    \n",
    "#     train_sizes, training_set, testing_set = learning_curve(lg, x_2d, y, train_sizes=np.linspace(.1, 1.0, 5))\n",
    "    \n",
    "#     train_set_mean = np.mean(training_set, axis=1)\n",
    "#     train_set_std = np.std(training_set, axis=1)\n",
    "#     test_set_mean = np.mean(testing_set, axis=1)\n",
    "#     test_set_std = np.std(testing_set, axis=1)\n",
    "    \n",
    "#     plt.figure()\n",
    "#     plt.title(\"RandomForestClassifier\")\n",
    "#     plt.legend(loc=\"best\")\n",
    "#     plt.xlabel(\"Training examples\")\n",
    "#     plt.ylabel(\"Score\")\n",
    "#     plt.gca().invert_yaxis()\n",
    "    \n",
    "#     # plot the std deviation as a transparent range at each training set size\n",
    "#     plt.fill_between(train_sizes, train_set_mean - train_set_std, train_set_mean + train_set_std, alpha=0.01, color=\"r\")\n",
    "#     plt.fill_between(train_sizes, test_set_mean - test_set_std, test_set_mean + test_set_std, alpha=0.01, color=\"g\")\n",
    "    \n",
    "    \n",
    "#     # plot the average training and test score lines at each training set size\n",
    "#     plt.plot(train_sizes, train_set_mean, 'o-', color=\"r\", label=\"Training score\")\n",
    "#     plt.plot(train_sizes, test_set_mean, 'o-', color=\"g\", label=\"Cross-validation score\")\n",
    "    \n",
    "#     plt.show()\n",
    "\n",
    "# def learning_curves(x, y, x_val, y_val):\n",
    "\n",
    "# def regression_for_validation(t0, t1, x):\n",
    "#     prediction = t0\n",
    "#     prediction += t1*x\n",
    "#     return prediction\n",
    "\n",
    "# test_predicted_values = []\n",
    "\n",
    "# for i in np.nditer(x_val):\n",
    "#     test_predicted_value = regression_prediction(theta0, theta1, i)\n",
    "#     test_predicted_values.append(test_predicted_value)\n",
    "# print(test_predicted_values)\n",
    "# print()\n",
    "\n",
    "\n",
    "# def regression_for_train(t0, t1, x):\n",
    "#     prediction = t0\n",
    "#     prediction += t1*x\n",
    "#     return prediction\n",
    "\n",
    "# test_predicted_values = []\n",
    "\n",
    "# for i in np.nditer(x):\n",
    "#     test_predicted_value = regression_prediction(theta0, theta1, i)\n",
    "#     test_predicted_values.append(test_predicted_value)\n",
    "# print(test_predicted_values)\n",
    "# print()\n",
    "\n",
    "#     train = [None] * 12\n",
    "#     validation = [None] * 12\n",
    "\n",
    "# for i in range(1,12):\n",
    "#     gradient_descent(0.001, x[0:i], y[0:i])\n",
    "#     train[i] = theta0 + theta1 * x[i]\n",
    "#     val[i] = theta0 + theta1 * x_val[i]\n",
    "#     print()\n",
    "    \n",
    "# print(\"Train Split Arrays\", train)\n",
    "# print()\n",
    "# print(\"Validate Split Array\", val)\n",
    "# print()\n",
    "\n",
    "# MSE_train = [None] *12\n",
    "# MSE_validation = [None] * 12\n",
    "\n",
    "# for i in range (1,12):\n",
    "#     MSE_train[i] = evaluate_MSE([x][0:i], train[i])\n",
    "#     MSE_validation[i] = evaluate_MSE(y_val[0:i], val[i])\n",
    "    \n",
    "# print(MSE_train)\n",
    "# print()\n",
    "# print(MSE_validation)\n",
    "    \n",
    "    \n",
    "# # def evaluate_MSE(pred, y):\n",
    "# #     m = len(pred)\n",
    "# #     MSE = (1/(m))*sum([(pred[i]-y[i])**2 for i in range(m)])\n",
    "# #     #     print(MSE)\n",
    "# #     return MSE\n",
    "\n",
    "# # evaluation = evaluate_MSE(test_predicted_values, y)\n",
    "# # print(\"MSE:\", evaluation)\n",
    "# # print()\n",
    "\n",
    "# # def evaluate_MSE(pred, y_val):\n",
    "# #     m = len(pred)\n",
    "# #     MSE = (1/(m))*sum([(pred[i]-y_val[i])**2 for i in range(m)])\n",
    "# #     #     print(MSE)\n",
    "# #     return MSE\n",
    "\n",
    "# # evaluation = evaluate_MSE(test_predicted_values, y_val)\n",
    "# # print(\"MSE:\", evaluation)\n",
    "# # print()\n",
    "\n",
    "# plt.plot(x[i], y[i], c='r', label = \"my linear version\")\n",
    "# # plt.plot(x_test, y_test_predict, linestyle = \":\", c= \"r\", label = \"skit version\")\n",
    "# plt.xlabel('training')  # labels x-axis\n",
    "# plt.ylabel('validate')  # labels y-axis\n",
    "# plt.legend(loc = \"best\")  # puts legend in best location\n",
    "# plt.show()       \n",
    "#     def MSE(pred, ytest):\n",
    "#         m = x.shape[0]\n",
    "#         MSE = (1/(m))*sum([(pred[i]-ytest[i])**2 for i in range(m)])\n",
    "#     #     print(MSE)\n",
    "#         return MSE\n",
    "    \n",
    "#         def MSE(pred, ytest):\n",
    "#             j = x_val.shape[0]\n",
    "#             MSE = (1/(m))*sum([(pred[i]-ytest[i])**2 for i in range(m)])\n",
    "#         #     print(MSE)\n",
    "#             return MSE\n",
    "\n",
    "# evaluation = evaluate_MSE(test_predicted_values, y_test)\n",
    "# print(\"MSE:\", evaluation)m = x.shape[0]\n",
    "   \n",
    "    \n",
    "#     j = x_val.shape[0]\n",
    "#     MSE = (1/(m))*sum([(pred[i]-y_val[i])**2 for i in range(j)])\n",
    "#     print(MSE)\n",
    "              \n",
    "    \n",
    "    "
   ]
  },
  {
   "cell_type": "code",
   "execution_count": 22,
   "metadata": {},
   "outputs": [],
   "source": [
    "# learning_curves(x,y,x_val,y_val)"
   ]
  },
  {
   "cell_type": "markdown",
   "metadata": {},
   "source": [
    "###############################################################################################################################"
   ]
  },
  {
   "cell_type": "markdown",
   "metadata": {},
   "source": [
    "## Step 9:"
   ]
  },
  {
   "cell_type": "code",
   "execution_count": 54,
   "metadata": {},
   "outputs": [],
   "source": [
    "def normalization_func(x):\n",
    "    normalized_array = []\n",
    "    for i in x:\n",
    "        normalize= (i-np.min(x))/(np.max(x)-np.min(x))\n",
    "        normalized_array.append(normalize)\n",
    "    return normalized_array\n",
    "        "
   ]
  },
  {
   "cell_type": "code",
   "execution_count": 55,
   "metadata": {},
   "outputs": [
    {
     "data": {
      "text/plain": [
       "[0.37547194071372636,\n",
       " 0.22098865004500237,\n",
       " 0.9847728255660367,\n",
       " 1.0,\n",
       " 0.0,\n",
       " 0.4572395413262265,\n",
       " 0.740688010660308,\n",
       " 0.15607649238465945,\n",
       " 0.5779944126895069,\n",
       " 0.042956832766420004,\n",
       " 0.643736484669963,\n",
       " 0.8278278453787801]"
      ]
     },
     "execution_count": 55,
     "metadata": {},
     "output_type": "execute_result"
    }
   ],
   "source": [
    "normalization_func(x)"
   ]
  },
  {
   "cell_type": "markdown",
   "metadata": {},
   "source": [
    "###############################################################################################################################"
   ]
  },
  {
   "cell_type": "markdown",
   "metadata": {},
   "source": [
    "## Step 10:"
   ]
  },
  {
   "cell_type": "code",
   "execution_count": 44,
   "metadata": {},
   "outputs": [],
   "source": [
    "def polynomial_descent(alpha, x, y, lamb=0, conv=0.0001, max_iter=10000): # input alpha=learning rate, x and = data,\n",
    "    converged = False                                                   #  convergence thresh= 0.0001, max_iter = 10000                                                 \n",
    "    iteration = 0  # set iteration counter to 0\n",
    "    normalizing_x = normalization_func(x) # making x values be normalized\n",
    "    m = x.shape[0] # number of samples\n",
    "    t_n = [0.0, 0.0, 0.0, 0.0, 0.0, 0.0, 0.0, 0.0, 0.0]   # initial thetas\n",
    "    num_thetas = len(t_n) # length of theta array\n",
    "\n",
    "    # total error, J(theta)\n",
    "    J = sum([ (t_n[0] + t_n[1]*x[i] + t_n[2]*x[i] **2 + t_n[3]*x[i] **3 + t_n[4]*x[i] **4 + t_n[5]*x[i] **5 + \n",
    "                t_n[6]*x[i] **6 + t_n[7]*x[i] **7 + t_n[8]*x[i] **8 - y[i])**2 for i in range(m)]) + (lamb * sum([t_n[i]**2 for i in range(num_thetas)])) \n",
    "\n",
    "    while not converged: # Iterate Loop until convergence has happened\n",
    "        \n",
    "        # for each training sample, compute the gradient (d/d_theta j(theta))\n",
    "        grad0 = 1.0/m * sum([(t_n[0] + t_n[1]*x[i] - y[i]) for i in range(m)]) \n",
    "        grad1 = 1.0/m * sum([(t_n[0] + t_n[1]*x[i] - y[i])*x[i] for i in range(m)])\n",
    "        grad2 = 1.0/m * sum([(t_n[0] + t_n[1]*x[i] + t_n[2]*x[i] - y[i])*x[i] for i in range(m)])\n",
    "        grad3 = 1.0/m * sum([(t_n[0] + t_n[1]*x[i] +t_n[2]*x[i] + t_n[3]*x[i] - y[i])*x[i] for i in range(m)])\n",
    "        grad4 = 1.0/m * sum([(t_n[0] + t_n[1]*x[i] + t_n[2]*x[i] +t_n[3]*x[i] + t_n[4]*x[i]  - y[i])*x[i] for i in range(m)])\n",
    "        grad5 = 1.0/m * sum([(t_n[0] + t_n[1]*x[i] + t_n[2]*x[i] + t_n[3]*x[i] +t_n[4]*x[i] + t_n[5]*x[i] - y[i])*x[i] for i in range(m)])\n",
    "        grad6 = 1.0/m * sum([(t_n[0] + t_n[1]*x[i] + t_n[2]*x[i] + t_n[3]*x[i] + t_n[4]*x[i] +t_n[5]*x[i] + t_n[6]*x[i] - y[i])*x[i] for i in range(m)])\n",
    "        grad7 = 1.0/m * sum([(t_n[0] + t_n[1]*x[i] + t_n[2]*x[i] + t_n[3]*x[i] + t_n[4]*x[i] +t_n[5]*x[i] + t_n[6]*x[i] + t_n[7]*x[i] - y[i])*x[i] for i in range(m)])\n",
    "        grad8 = 1.0/m * sum([(t_n[0] + t_n[1]*x[i] + t_n[2]*x[i] + t_n[3]*x[i] + t_n[4]*x[i] +t_n[5]*x[i] + t_n[6]*x[i] + t_n[7]*x[i] + t_n[8]*x[i] - y[i])*x[i] for i in range(m)])\n",
    "\n",
    "        # update the theta_temp\n",
    "        temp0 = t_n[0] - alpha * grad0\n",
    "        temp1 = ((1.0 -((alpha * lamb)/m)) * t_n[1]) - alpha * grad1\n",
    "        temp2 = ((1.0 -((alpha * lamb)/m)) * t_n[2]) - alpha * grad2\n",
    "        temp3 = ((1.0 -((alpha * lamb)/m)) * t_n[3]) - alpha * grad3\n",
    "        temp4 = ((1.0 -((alpha * lamb)/m)) * t_n[4]) - alpha * grad4\n",
    "        temp5 = ((1.0 -((alpha * lamb)/m)) * t_n[5]) - alpha * grad5\n",
    "        temp6 = ((1.0 -((alpha * lamb)/m)) * t_n[6]) - alpha * grad6\n",
    "        temp7 = ((1.0 -((alpha * lamb)/m)) * t_n[7]) - alpha * grad7\n",
    "        temp8 = ((1.0 -((alpha * lamb)/m)) * t_n[8]) - alpha * grad8\n",
    "        \n",
    "    \n",
    "        # update theta\n",
    "        t_n[0] = (temp0)\n",
    "        t_n[1] = (temp1)\n",
    "        t_n[2] = (temp2)\n",
    "        t_n[3] = (temp3)\n",
    "        t_n[4] = (temp4)\n",
    "        t_n[5] = (temp5)\n",
    "        t_n[6] = (temp6)\n",
    "        t_n[7] = (temp7)\n",
    "        t_n[8] = (temp8)\n",
    "        \n",
    "\n",
    "        # mean squared error\n",
    "        e = sum([ (t_n[0] + t_n[1]*x[i] + t_n[2]*x[i] **2 + t_n[3]*x[i] **3 + t_n[4]*x[i] **4 + t_n[5]*x[i] **5 + \n",
    "                   t_n[6]*x[i] **6 + t_n[7]*x[i] **7 + t_n[8]*x[i] **8 - y[i])**2 for i in range(m)]) + (lamb * sum([t_n[i]**2 for i in range(num_thetas)])) \n",
    "        \n",
    "        if abs(J-e) <= conv:\n",
    "            converged = True\n",
    "    \n",
    "        J = e   # update error \n",
    "        iteration += 1  # update iter\n",
    "    \n",
    "        if iteration == max_iter:\n",
    "            converged = True\n",
    "        \n",
    "#         for i in range(num_thetas):\n",
    "#             y_predict = t_n[0] + t_n[1]*x\n",
    "    \n",
    "#     polynum_features = PolynomialFeatures(degree=degree)\n",
    "#     x_2d = np.reshape(x_test, (-1,1))\n",
    "\n",
    "#     # transforms the existing features to higher degree features.\n",
    "#     x_train_poly = polynum_features.fit_transform(x_2d)\n",
    "\n",
    "#     # fit the transformed features to Linear Regression\n",
    "#     poly_model = LinearRegression()\n",
    "#     poly_model.fit(x_train_poly, y_test)\n",
    "\n",
    "#     # predicting on training data-set\n",
    "#     y_train_predicted = poly_model.predict(x_train_poly)\n",
    "\n",
    "#     # evaluating the model on training dataset\n",
    "#     mse_train = mean_squared_error(y_test, y_train_predicted)\n",
    "\n",
    "#     print(\"MSE of training set is {}\".format(mse_train))\n",
    "    \n",
    "#     polynum_features = PolynomialFeatures(8)\n",
    "#     x_2d = np.reshape(x, (-1,1))\n",
    "#     x_train =polynum_features.fit_transform(x_2d)\n",
    "#     rdg = Ridge(alpha = 0.5, normalize= True)\n",
    "#     rdg.fit(x_train, y)\n",
    "#     plt.plot(x_train, y)    \n",
    "    eighth_degree =  t_n[0] + t_n[1]*x + t_n[2]*x**2 + t_n[3]*x**3 + t_n[4]*x**4 + t_n[5]*x**5 + t_n[6]*x**6 + t_n[7]*x**7 + t_n[8]*x**8\n",
    "    normalizing_eighth_degree = normalization_func(eighth_degree)\n",
    "    plt.plot(normalizing_eighth_degree, 'k-')\n",
    "    plt.plot(normalizing_x, 'g*')\n",
    "    plt.xlabel('x')  # labels x-axis\n",
    "    plt.ylabel('y')  # labels y-axis\n",
    "    \n",
    "#     return t_n[0], t_n[1], t_n[2], t_n[3], t_n[4], t_n[5], t_n[6], t_n[7], + t_n[8]"
   ]
  },
  {
   "cell_type": "code",
   "execution_count": 45,
   "metadata": {
    "scrolled": true
   },
   "outputs": [
    {
     "data": {
      "image/png": "[encoded data removed]",
      "text/plain": [
       "<Figure size 432x288 with 1 Axes>"
      ]
     },
     "metadata": {
      "needs_background": "light"
     },
     "output_type": "display_data"
    }
   ],
   "source": [
    "polynomial_descent(0.001, x, y)"
   ]
  },
  {
   "cell_type": "code",
   "execution_count": null,
   "metadata": {},
   "outputs": [],
   "source": []
  },
  {
   "cell_type": "markdown",
   "metadata": {},
   "source": [
    "###############################################################################################################################"
   ]
  },
  {
   "cell_type": "markdown",
   "metadata": {},
   "source": [
    "## Step 11"
   ]
  },
  {
   "cell_type": "code",
   "execution_count": null,
   "metadata": {},
   "outputs": [],
   "source": []
  },
  {
   "cell_type": "markdown",
   "metadata": {},
   "source": [
    "################################################################################################################################"
   ]
  },
  {
   "cell_type": "markdown",
   "metadata": {},
   "source": [
    "## Step 12:"
   ]
  },
  {
   "cell_type": "code",
   "execution_count": null,
   "metadata": {},
   "outputs": [],
   "source": [
    "def regression_validation_func(t0, t1, xval):\n",
    "    f_theta = t0\n",
    "    f_theta += t1*xval\n",
    "    return f_theta\n",
    "\n",
    "validate_predicted_values = []\n",
    "\n",
    "for i in np.nditer(x_val):\n",
    "    val_predicted_value = regression_validation_func(theta0, theta1, i)\n",
    "    validate_predicted_values.append(val_predicted_value)\n",
    "print(validate_predicted_values)"
   ]
  },
  {
   "cell_type": "code",
   "execution_count": null,
   "metadata": {},
   "outputs": [],
   "source": [
    "def evaluate_validation_func(pred, yval):\n",
    "    m = x_val.shape[0]\n",
    "    MSE = (1/(2*m))*sum([(pred[i]-yval[i])**2 for i in range(m)])\n",
    "    return MSE\n",
    "              \n",
    "evaluation = evaluate_validation_func(validate_predicted_values, y_val)\n",
    "print(\"MSE:\", evaluation)"
   ]
  },
  {
   "cell_type": "code",
   "execution_count": null,
   "metadata": {},
   "outputs": [],
   "source": [
    "def exhaustive_search(t0, t1, x_val, y_val):\n",
    "    lamb = [0, 0.001, 0.003, 0.01, 0.03, 0.1, 0.3, 1, 3, 10]\n",
    "    m = x_val.shape[0]\n",
    "    arr = []\n",
    "\n",
    "    for i in lamb:\n",
    "        hi = (lamb) * (t0**2 + t1**2)\n",
    "        J_bye = sum([(t0 + t1*x_val[i] - y_val[i])**2 for i in range(m)])\n",
    "        J_total = hi + J_bye\n",
    "        print(J_total)\n",
    "\n",
    "hpo = exhaustive_search(theta0, theta1, x_val, y_val)\n",
    "print(hpo)"
   ]
  },
  {
   "cell_type": "markdown",
   "metadata": {},
   "source": [
    "################################################################################################################################"
   ]
  },
  {
   "cell_type": "markdown",
   "metadata": {},
   "source": [
    "## Step 13"
   ]
  },
  {
   "cell_type": "code",
   "execution_count": null,
   "metadata": {},
   "outputs": [],
   "source": []
  }
 ],
 "metadata": {
  "kernelspec": {
   "display_name": "Python 3",
   "language": "python",
   "name": "python3"
  },
  "language_info": {
   "codemirror_mode": {
    "name": "ipython",
    "version": 3
   },
   "file_extension": ".py",
   "mimetype": "text/x-python",
   "name": "python",
   "nbconvert_exporter": "python",
   "pygments_lexer": "ipython3",
   "version": "3.8.3"
  }
 },
 "nbformat": 4,
 "nbformat_minor": 2
}
