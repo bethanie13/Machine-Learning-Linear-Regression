{
 "cells": [
  {
   "cell_type": "markdown",
   "metadata": {},
   "source": [
    "#### Bethanie Williams\n",
    "#### CSC 5220 Data Mining and Machine Learning\n",
    "####  Lab 2 Assignment \n",
    "#### Date: 9/17/20"
   ]
  },
  {
   "cell_type": "code",
   "execution_count": 311,
   "metadata": {},
   "outputs": [],
   "source": [
    "import pandas as pd\n",
    "import numpy as np\n",
    "import matplotlib   # import python libraries that I will need to use\n",
    "import pylab\n",
    "import sklearn\n",
    "import scipy"
   ]
  },
  {
   "cell_type": "code",
   "execution_count": 312,
   "metadata": {},
   "outputs": [],
   "source": [
    "from pandas import read_csv\n",
    "from matplotlib import pyplot as plt\n",
    "from pandas.plotting import scatter_matrix\n",
    "from sklearn import linear_model \n",
    "from sklearn.linear_model import LinearRegression\n",
    "from sklearn.model_selection import learning_curve\n",
    "from sklearn.preprocessing import PolynomialFeatures\n",
    "from scipy import optimize\n",
    "from sklearn.linear_model import Ridge\n",
    "from sklearn.metrics import mean_squared_error\n",
    "from sklearn.metrics import r2_score"
   ]
  },
  {
   "cell_type": "markdown",
   "metadata": {},
   "source": [
    "## Step 1:"
   ]
  },
  {
   "cell_type": "code",
   "execution_count": 313,
   "metadata": {},
   "outputs": [
    {
     "name": "stdout",
     "output_type": "stream",
     "text": [
      "          X        y    Xtest     ytest     Xval       yval\n",
      "0  -15.9368   2.1343 -33.3180   3.31690 -16.7465   4.170200\n",
      "1  -29.1530   1.1733 -37.9122   5.39770 -14.5775   4.067300\n",
      "2   36.1895  34.3591 -51.2069   0.13043  34.5158  31.873100\n",
      "3   37.4922  36.8380  -6.1326   6.19260 -47.0101  10.623700\n",
      "4  -48.0588   2.8090  21.2612  17.08850  36.9751  31.836000\n",
      "5   -8.9415   2.1211 -40.3195   0.79951 -40.6861   4.959400\n",
      "6   15.3078  14.7103 -14.5415   2.82480  -4.4720   4.451600\n",
      "7  -34.7063   2.6142  32.5598  28.62120  26.5336  22.276300\n",
      "8    1.3892   3.7402  13.3934  17.04640 -42.7977  -0.000044\n",
      "9  -44.3838   3.7317  44.2099  55.38440  25.3741  20.503800\n",
      "10   7.0135   7.6277  -1.1427   4.07940 -31.1096   3.858300\n",
      "11  22.7627  22.7524 -12.7669   8.27040  27.3118  19.365100\n",
      "12      NaN      NaN  34.0545  31.32360  -3.2639   4.883800\n",
      "13      NaN      NaN  39.2235  39.15910  -1.8183  11.097200\n",
      "14      NaN      NaN   1.9745   8.08730 -40.7197   7.461700\n",
      "15      NaN      NaN  29.6218  24.11130 -50.0132   1.476900\n",
      "16      NaN      NaN -23.6696   2.47740 -17.4118   2.719200\n",
      "17      NaN      NaN  -9.0118   6.56610   3.5882  10.926900\n",
      "18      NaN      NaN -55.9406   6.03810   7.0855   8.348700\n",
      "19      NaN      NaN -35.7086   4.69270  46.2824  52.781900\n",
      "20      NaN      NaN   9.5102  10.83000  14.6123  13.357300\n"
     ]
    }
   ],
   "source": [
    "dataset = read_csv(r'C:\\Users\\betha\\OneDrive\\Documents\\CSC 5220\\Lab2_dataset.csv')  # importing csv\n",
    "print(dataset)  # you will probably need to change the file directory"
   ]
  },
  {
   "cell_type": "code",
   "execution_count": 314,
   "metadata": {},
   "outputs": [
    {
     "name": "stdout",
     "output_type": "stream",
     "text": [
      "Training Set: \n",
      "          X        y\n",
      "0  -15.9368   2.1343\n",
      "1  -29.1530   1.1733\n",
      "2   36.1895  34.3591\n",
      "3   37.4922  36.8380\n",
      "4  -48.0588   2.8090\n",
      "5   -8.9415   2.1211\n",
      "6   15.3078  14.7103\n",
      "7  -34.7063   2.6142\n",
      "8    1.3892   3.7402\n",
      "9  -44.3838   3.7317\n",
      "10   7.0135   7.6277\n",
      "11  22.7627  22.7524\n",
      "12      NaN      NaN\n",
      "13      NaN      NaN\n",
      "14      NaN      NaN\n",
      "15      NaN      NaN\n",
      "16      NaN      NaN\n",
      "17      NaN      NaN\n",
      "18      NaN      NaN\n",
      "19      NaN      NaN\n",
      "20      NaN      NaN\n",
      "\n",
      "Test Set:\n",
      "      Xtest     ytest\n",
      "0  -33.3180   3.31690\n",
      "1  -37.9122   5.39770\n",
      "2  -51.2069   0.13043\n",
      "3   -6.1326   6.19260\n",
      "4   21.2612  17.08850\n",
      "5  -40.3195   0.79951\n",
      "6  -14.5415   2.82480\n",
      "7   32.5598  28.62120\n",
      "8   13.3934  17.04640\n",
      "9   44.2099  55.38440\n",
      "10  -1.1427   4.07940\n",
      "11 -12.7669   8.27040\n",
      "12  34.0545  31.32360\n",
      "13  39.2235  39.15910\n",
      "14   1.9745   8.08730\n",
      "15  29.6218  24.11130\n",
      "16 -23.6696   2.47740\n",
      "17  -9.0118   6.56610\n",
      "18 -55.9406   6.03810\n",
      "19 -35.7086   4.69270\n",
      "20   9.5102  10.83000\n",
      "\n",
      "Validation Set:\n",
      "       Xval       yval\n",
      "0  -16.7465   4.170200\n",
      "1  -14.5775   4.067300\n",
      "2   34.5158  31.873100\n",
      "3  -47.0101  10.623700\n",
      "4   36.9751  31.836000\n",
      "5  -40.6861   4.959400\n",
      "6   -4.4720   4.451600\n",
      "7   26.5336  22.276300\n",
      "8  -42.7977  -0.000044\n",
      "9   25.3741  20.503800\n",
      "10 -31.1096   3.858300\n",
      "11  27.3118  19.365100\n",
      "12  -3.2639   4.883800\n",
      "13  -1.8183  11.097200\n",
      "14 -40.7197   7.461700\n",
      "15 -50.0132   1.476900\n",
      "16 -17.4118   2.719200\n",
      "17   3.5882  10.926900\n",
      "18   7.0855   8.348700\n",
      "19  46.2824  52.781900\n",
      "20  14.6123  13.357300\n",
      "\n"
     ]
    }
   ],
   "source": [
    "print(\"Training Set: \")  # defining training set\n",
    "x_training = dataset.iloc[:12, :1]  # gets rows until the 12th row and first two columns\n",
    "y_training = dataset.iloc[:12, 1:2]\n",
    "training_set = print(dataset[[\"X\", \"y\"]])\n",
    "print()\n",
    "\n",
    "print(\"Test Set:\")  # defining test set\n",
    "x_testing = dataset.iloc[:, 2:3]  # gets all rows and next two columns\n",
    "y_testing = dataset.iloc[:, 3:4]\n",
    "testing_set =  print(dataset[[\"Xtest\", \"ytest\"]])\n",
    "print()\n",
    "\n",
    "print(\"Validation Set:\")  # defining validation set\n",
    "x_validate = dataset.iloc[:, 4:5]  # gets all rows and last two columns\n",
    "y_validate = dataset.iloc[:, 5:6]\n",
    "validation_set =  print(dataset[[\"Xval\", \"yval\"]])\n",
    "print()"
   ]
  },
  {
   "cell_type": "code",
   "execution_count": 315,
   "metadata": {},
   "outputs": [],
   "source": [
    "# Turning data sets into arrays\n",
    "x = np.array(x_training.values)  # array = dataset.values\n",
    "x = x[np.logical_not(np.isnan(x))]  # remove nan values from my array\n",
    "# print(x)\n",
    "# print()\n",
    "\n",
    "y = np.array(y_training.values)\n",
    "y = y[np.logical_not(np.isnan(y))]  # remove nan values from my array\n",
    "# print(y)\n",
    "# print()\n",
    "\n",
    "x_test = np.array(x_testing.values)\n",
    "# print(x_test)\n",
    "# print()\n",
    "\n",
    "y_test = np.array(y_testing.values)\n",
    "# print(y_test)\n",
    "# print()\n",
    "\n",
    "x_val = np.array(x_validate.values)\n",
    "# print(x_val)\n",
    "# print()\n",
    "\n",
    "y_val = np.array(y_validate.values)\n",
    "# print(y_val)\n",
    "# print()"
   ]
  },
  {
   "cell_type": "code",
   "execution_count": 316,
   "metadata": {},
   "outputs": [
    {
     "name": "stdout",
     "output_type": "stream",
     "text": [
      "Training Data:\n",
      "\n",
      "[-15.9368 -29.153   36.1895  37.4922 -48.0588  -8.9415  15.3078 -34.7063\n",
      "   1.3892 -44.3838   7.0135  22.7627]\n",
      "\n",
      "[ 2.1343  1.1733 34.3591 36.838   2.809   2.1211 14.7103  2.6142  3.7402\n",
      "  3.7317  7.6277 22.7524]\n"
     ]
    }
   ],
   "source": [
    "print(\"Training Data:\") # print training data out to ensure correct values\n",
    "print()\n",
    "\n",
    "print(x)  # printing x training values\n",
    "print()\n",
    "print(y)  # printing y training values"
   ]
  },
  {
   "cell_type": "markdown",
   "metadata": {},
   "source": [
    "###############################################################################################################################"
   ]
  },
  {
   "cell_type": "markdown",
   "metadata": {},
   "source": [
    "## Step 2:"
   ]
  },
  {
   "cell_type": "code",
   "execution_count": 317,
   "metadata": {},
   "outputs": [
    {
     "data": {
      "image/png": "[encoded data removed]",
      "text/plain": [
       "<Figure size 432x288 with 1 Axes>"
      ]
     },
     "metadata": {
      "needs_background": "light"
     },
     "output_type": "display_data"
    }
   ],
   "source": [
    "plt.title(\"Training Data\")\n",
    "x_train = dataset['X'].tolist()  # plotting training data\n",
    "y_train = dataset['y'].tolist()\n",
    "plt.scatter(x_train, y_train)  # scatter plot of data\n",
    "plt.xlabel('Change in water level (x)')  # labels x-axis\n",
    "plt.ylabel('Water flowing out of the dam (y)')  # labels y-axis\n",
    "plt.show()  # displays scatter plot"
   ]
  },
  {
   "cell_type": "markdown",
   "metadata": {},
   "source": [
    "###############################################################################################################################"
   ]
  },
  {
   "cell_type": "markdown",
   "metadata": {},
   "source": [
    "## Step 3:"
   ]
  },
  {
   "cell_type": "code",
   "execution_count": 318,
   "metadata": {},
   "outputs": [],
   "source": [
    "def gradient_descent(alpha, x, y, lamb=0, conv=0.0001, max_iter=10000): # input alpha=learning rate, x and = data,\n",
    "    converged = False                                                   #  convergence thresh= 0.0001, max_iter = 10000\n",
    "    iteration = 0 # set iteration counter to 0\n",
    "    m = x.shape[0] # number of samples\n",
    "    t_n = ([0.0,0.0])  # initial theta\n",
    "    num_thetas = len(t_n) # length of theta array\n",
    "\n",
    "    # total error, J(theta)\n",
    "    J = sum([(t_n[0] + t_n[1]*x[i] - y[i])**2 for i in range(m)]) + (lamb * sum(t_n[i] ** 2 for i in range(num_thetas)))\n",
    "\n",
    "    while not converged:# Iterate Loop until convergence has happened\n",
    "        \n",
    "        # for each training sample, compute the gradient (d/d_theta j(theta))\n",
    "        grad0 = 1.0/m * sum([(t_n[0] + t_n[1]*x[i] - y[i]) for i in range(m)]) \n",
    "        grad1 = 1.0/m * sum([(t_n[0] + t_n[1]*x[i] - y[i])*x[i] for i in range(m)])\n",
    "\n",
    "        # update the theta_temp\n",
    "        temp0 = t_n[0] - alpha * grad0\n",
    "        temp1 = ((1.0 -((alpha * lamb)/m)) * t_n[1]) - alpha * grad1\n",
    "    \n",
    "        # update theta\n",
    "        t_n[0] = (temp0)\n",
    "        t_n[1] = (temp1)\n",
    "\n",
    "        # mean squared error\n",
    "        e = sum([ (t_n[0] + t_n[1]*x[i] - y[i])**2 for i in range(m)]) + (lamb * sum([t_n[i]**2 for i in range(num_thetas)])) \n",
    "        \n",
    "        if abs(J-e) <= conv: \n",
    "            print('Converged, iterations: ', iteration, '!!!')\n",
    "            converged = True\n",
    "    \n",
    "        J = e   # update error \n",
    "        iteration += 1  # update iter\n",
    "    \n",
    "        if iteration == max_iter:\n",
    "            print('Max interactions exceeded!')\n",
    "            converged = True\n",
    "            \n",
    "        for i in range(num_thetas):\n",
    "            y_predict = t_n[0] + t_n[1]*x\n",
    "    \n",
    "    print(\"Theta0 =\", t_n[0], \"Theta1 =\", t_n[1]) # theta0 is y-intercept, theta1 is slope\n",
    "\n",
    "    return t_n[0], t_n[1]  # returns theta0 and theta1"
   ]
  },
  {
   "cell_type": "code",
   "execution_count": 319,
   "metadata": {},
   "outputs": [
    {
     "name": "stdout",
     "output_type": "stream",
     "text": [
      "Converged, iterations:  5445 !!!\n",
      "Theta0 = 13.021432891787487 Theta1 = 0.36738026698713894\n"
     ]
    }
   ],
   "source": [
    "theta0, theta1= gradient_descent(0.001, x, y)\n",
    "# print (theta0, theta1)"
   ]
  },
  {
   "cell_type": "markdown",
   "metadata": {},
   "source": [
    "################################################################################################################################"
   ]
  },
  {
   "cell_type": "markdown",
   "metadata": {},
   "source": [
    "## Step 4:"
   ]
  },
  {
   "cell_type": "code",
   "execution_count": 320,
   "metadata": {},
   "outputs": [],
   "source": [
    "def work_properly(alpha, x, y, lamb=0, conv=0.0001, max_iter=10000): # input alpha=learning rate, x and = data,\n",
    "    converged = False                                                   #  convergence thresh= 0.0001, max_iter = 10000\n",
    "    iteration = 0  # set iteration counter to 0\n",
    "    m = x.shape[0] # number of samples\n",
    "    t_n = ([0.0,0.0]) # initial theta\n",
    "    num_thetas = len(t_n) # length of theta array\n",
    "\n",
    "    # total error, J(theta)\n",
    "    J = sum([(t_n[0] + t_n[1]*x[i] - y[i])**2 for i in range(m)]) + (lamb * sum(t_n[i] ** 2 for i in range(num_thetas)))\n",
    "\n",
    "    while not converged: # Iterate Loop until convergence has happened\n",
    "        \n",
    "        # for each training sample, compute the gradient (d/d_theta j(theta))\n",
    "        grad0 = 1.0/m * sum([(t_n[0] + t_n[1]*x[i] - y[i]) for i in range(m)]) \n",
    "        grad1 = 1.0/m * sum([(t_n[0] + t_n[1]*x[i] - y[i])*x[i] for i in range(m)])\n",
    "\n",
    "        # update the theta_temp\n",
    "        temp0 = t_n[0] - alpha * grad0\n",
    "        temp1 = ((1.0 -((alpha * lamb)/m)) * t_n[1]) - alpha * grad1\n",
    "    \n",
    "        # update theta\n",
    "        t_n[0] = (temp0)\n",
    "        t_n[1] = (temp1)\n",
    "\n",
    "        # mean squared error\n",
    "        e = sum([ (t_n[0] + t_n[1]*x[i] - y[i])**2 for i in range(m)]) + (lamb * sum([t_n[i]**2 for i in range(num_thetas)])) \n",
    "        \n",
    "        if abs(J-e) <= conv:\n",
    "            converged = True\n",
    "    \n",
    "        J = e   # update error \n",
    "        iteration += 1  # update iter\n",
    "    \n",
    "        if iteration == max_iter:\n",
    "            print('Max interactions exceeded!')\n",
    "            converged = True\n",
    "        \n",
    "        for i in range(num_thetas):\n",
    "            y_predict = t_n[0] + t_n[1]*x\n",
    "\n",
    "            plt.plot(iteration, J, 'o')\n",
    "            plt.xlabel('Iterations')  # labels x-axis\n",
    "            plt.ylabel('J theta')  # labels y-axis\n",
    "\n",
    "\n",
    "    return J, iteration-1"
   ]
  },
  {
   "cell_type": "code",
   "execution_count": 321,
   "metadata": {},
   "outputs": [
    {
     "name": "stdout",
     "output_type": "stream",
     "text": [
      "Jtheta and Number of Iterations:\n",
      "(537.024955872586, 5445)\n"
     ]
    },
    {
     "data": {
      "image/png": "[encoded data removed]",
      "text/plain": [
       "<Figure size 432x288 with 1 Axes>"
      ]
     },
     "metadata": {
      "needs_background": "light"
     },
     "output_type": "display_data"
    }
   ],
   "source": [
    "print(\"Jtheta and Number of Iterations:\")\n",
    "results= work_properly(0.001, x, y)\n",
    "print (results)"
   ]
  },
  {
   "cell_type": "markdown",
   "metadata": {},
   "source": [
    "################################################################################################################################"
   ]
  },
  {
   "cell_type": "markdown",
   "metadata": {},
   "source": [
    "## Step 5:"
   ]
  },
  {
   "cell_type": "code",
   "execution_count": 322,
   "metadata": {},
   "outputs": [
    {
     "name": "stdout",
     "output_type": "stream",
     "text": [
      "[0.7810571563099895, -0.9067612662823201, -5.790971701796238, 10.76843666646216, 20.832378224254445, -1.7911557830004607, 7.679172739394007, 24.983260908835334, 17.941903759653034, 29.263277757262202, 12.601627460701284, 8.331125761189384, 25.53238419390101, 27.431372793957532, 13.746825228953593, 23.903897684427122, 4.325688924308704, 9.71067540175279, -7.530039671633258, -0.09720210994946044, 16.515292706888577]\n"
     ]
    }
   ],
   "source": [
    " def linear_regression_prediction(t0, t1, x):\n",
    "    regression = t0  # linear regression thet0 + theta1 * x\n",
    "    regression += t1*x\n",
    "    return regression\n",
    "\n",
    "test_predicted_values = []  # make empty array for predicted values\n",
    "\n",
    "for i in np.nditer(x_test):  # use test data in linear regression \n",
    "    test_predicted_value = linear_regression_prediction(theta0, theta1, i)\n",
    "    test_predicted_values.append(test_predicted_value)\n",
    "print(test_predicted_values)  # will use these predicted values for the MSE"
   ]
  },
  {
   "cell_type": "code",
   "execution_count": 323,
   "metadata": {},
   "outputs": [],
   "source": [
    "# regression_prediction(theta0, theta1, x_test)"
   ]
  },
  {
   "cell_type": "markdown",
   "metadata": {},
   "source": [
    "################################################################################################################################"
   ]
  },
  {
   "cell_type": "markdown",
   "metadata": {},
   "source": [
    "## Step 6:"
   ]
  },
  {
   "cell_type": "code",
   "execution_count": 325,
   "metadata": {},
   "outputs": [],
   "source": [
    "def evaluate_MSE(pred, ytest, m):  # for MSE we use the predicted y values and test data\n",
    "    MSE = (1/(m))*sum([(pred[i]-ytest[i])**2 for i in range(m)])\n",
    "    return MSE\n",
    "\n",
    "train = x.shape[0]    # the length of all our sets of data\n",
    "test = x_test.shape[0]\n",
    "validate = x_val.shape[0]"
   ]
  },
  {
   "cell_type": "code",
   "execution_count": 326,
   "metadata": {},
   "outputs": [
    {
     "name": "stdout",
     "output_type": "stream",
     "text": [
      "MSE:\n"
     ]
    },
    {
     "data": {
      "text/plain": [
       "array([65.29849453])"
      ]
     },
     "execution_count": 326,
     "metadata": {},
     "output_type": "execute_result"
    }
   ],
   "source": [
    "print(\"MSE:\")\n",
    "evaluate_MSE(test_predicted_values, y_test, test)"
   ]
  },
  {
   "cell_type": "markdown",
   "metadata": {},
   "source": [
    "################################################################################################################################"
   ]
  },
  {
   "cell_type": "markdown",
   "metadata": {},
   "source": [
    "## Step 7:"
   ]
  },
  {
   "cell_type": "code",
   "execution_count": 327,
   "metadata": {},
   "outputs": [],
   "source": [
    "def plot_test():\n",
    "    x_2d = np.reshape(x, (-1,1))  # need to reshape arrays for two dimensions\n",
    "    x_2d_test = np.reshape(x_test, (-1,1))\n",
    "    skit = linear_model.LinearRegression()  # using skit learn\n",
    "    skit.fit(x_2d, y)   # fitting data\n",
    "    y_test_predict = skit.predict(x_2d_test) # predicting y test value\n",
    "\n",
    "    plt.scatter(x_2d, y, c= \"blue\", label = \"original data\")\n",
    "    plt.plot(x_test, test_predicted_values, label = \"my linear version\")\n",
    "    plt.plot(x_test, y_test_predict, linestyle = \":\", c= \"orange\", label = \"skit version\")\n",
    "    plt.xlabel('x')  # labels x-axis\n",
    "    plt.ylabel('y')  # labels y-axis\n",
    "    plt.legend(loc = \"best\")  # puts legend in best location\n",
    "    plt.show()"
   ]
  },
  {
   "cell_type": "code",
   "execution_count": 328,
   "metadata": {},
   "outputs": [
    {
     "data": {
      "image/png": "[encoded data removed]",
      "text/plain": [
       "<Figure size 432x288 with 1 Axes>"
      ]
     },
     "metadata": {
      "needs_background": "light"
     },
     "output_type": "display_data"
    }
   ],
   "source": [
    "plot_test()  # my model overlaps with skit version"
   ]
  },
  {
   "cell_type": "code",
   "execution_count": 329,
   "metadata": {},
   "outputs": [],
   "source": [
    "################################################################################################################################"
   ]
  },
  {
   "cell_type": "markdown",
   "metadata": {},
   "source": [
    "## Step 8:"
   ]
  },
  {
   "cell_type": "code",
   "execution_count": 330,
   "metadata": {},
   "outputs": [],
   "source": [
    "def learning_curves(x, y, x_val, y_val, size = 12):\n",
    "    validation_error = []\n",
    "    training_error = []  # create empty arrays for errors of both validation and training data\n",
    "    \n",
    "\n",
    "    for i in range(1,13):\n",
    "        theta0, theta1 = gradient_descent(0.001, x[0:i], y[0:i])  # call gradient descent \n",
    "        validation_predictions = regression_prediction(theta0, theta1, x_val)  # call regression function for both validation \n",
    "        training_predictions = regression_prediction(theta0, theta1, x[0:i])  # and training\n",
    "        MSE_validation = evaluate_MSE(validation_predictions, y_val, len(y_val))  # call MSE to evaluate training and validation\n",
    "        MSE_train = evaluate_MSE(training_predictions, y[0:i], i)\n",
    "        validation_error.append(MSE_validation)  # put MSE error into the empty error we had\n",
    "        training_error.append(MSE_train)\n",
    "\n",
    "    \n",
    "    plt.title(\"Learning Curves\")\n",
    "    plt.xlabel('Number of Training Examples')  # labels x-axis\n",
    "    plt.ylabel('Error')  # labels y-axis \n",
    "    plt.plot(range(len(x)), validation_error, c= \"blue\", label=\"validation\")\n",
    "    plt.plot(range(len(x)), training_error, c=\"r\", label= \"training\")\n",
    "    plt.legend(loc = \"best\") # puts legend in best location\n",
    "    plt.show()\n"
   ]
  },
  {
   "cell_type": "code",
   "execution_count": 331,
   "metadata": {},
   "outputs": [
    {
     "name": "stdout",
     "output_type": "stream",
     "text": [
      "Converged, iterations:  17 !!!\n",
      "Theta0 = 0.008328552579825068 Theta1 = -0.13273047675415606\n",
      "Converged, iterations:  6303 !!!\n",
      "Theta0 = 1.2931434851907957 Theta1 = -0.00899052578731535\n",
      "Converged, iterations:  4736 !!!\n",
      "Theta0 = 14.024627880980153 Theta1 = 0.5386408768155477\n",
      "Converged, iterations:  5089 !!!\n",
      "Theta0 = 14.506356227670068 Theta1 = 0.5607412030617652\n",
      "Converged, iterations:  5198 !!!\n",
      "Theta0 = 17.112663007251403 Theta1 = 0.44942834907624657\n",
      "Converged, iterations:  5218 !!!\n",
      "Theta0 = 15.311730433159068 Theta1 = 0.45699057902188095\n",
      "Converged, iterations:  5142 !!!\n",
      "Theta0 = 14.18205298561993 Theta1 = 0.436644827863477\n",
      "Converged, iterations:  5381 !!!\n",
      "Theta0 = 14.541423430049319 Theta1 = 0.4226150038570011\n",
      "Converged, iterations:  5317 !!!\n",
      "Theta0 = 13.219810961947283 Theta1 = 0.4125273006340378\n",
      "Converged, iterations:  5673 !!!\n",
      "Theta0 = 13.776451358209943 Theta1 = 0.37707994774154846\n",
      "Converged, iterations:  5554 !!!\n",
      "Theta0 = 12.865195774171497 Theta1 = 0.36280457677238914\n",
      "Converged, iterations:  5445 !!!\n",
      "Theta0 = 13.021432891787487 Theta1 = 0.36738026698713894\n"
     ]
    },
    {
     "data": {
      "image/png": "[encoded data removed]",
      "text/plain": [
       "<Figure size 432x288 with 1 Axes>"
      ]
     },
     "metadata": {
      "needs_background": "light"
     },
     "output_type": "display_data"
    }
   ],
   "source": [
    "learning_curves(x, y, x_val, y_val)"
   ]
  },
  {
   "cell_type": "markdown",
   "metadata": {},
   "source": [
    "###############################################################################################################################"
   ]
  },
  {
   "cell_type": "markdown",
   "metadata": {},
   "source": [
    "## Step 9:"
   ]
  },
  {
   "cell_type": "code",
   "execution_count": 332,
   "metadata": {},
   "outputs": [],
   "source": [
    "def normalization_func(x):  # reference to slide 14\n",
    "    normalized_array = []   # empty normalization array\n",
    "    for i in x:\n",
    "        normalize= (i-np.min(x))/(np.max(x)-np.min(x))  # normalization equation \n",
    "        normalized_array.append(normalize)\n",
    "    return normalized_array"
   ]
  },
  {
   "cell_type": "code",
   "execution_count": 333,
   "metadata": {},
   "outputs": [
    {
     "data": {
      "text/plain": [
       "[0.37547194071372636,\n",
       " 0.22098865004500237,\n",
       " 0.9847728255660367,\n",
       " 1.0,\n",
       " 0.0,\n",
       " 0.4572395413262265,\n",
       " 0.740688010660308,\n",
       " 0.15607649238465945,\n",
       " 0.5779944126895069,\n",
       " 0.042956832766420004,\n",
       " 0.643736484669963,\n",
       " 0.8278278453787801]"
      ]
     },
     "execution_count": 333,
     "metadata": {},
     "output_type": "execute_result"
    }
   ],
   "source": [
    "normalization_func(x)"
   ]
  },
  {
   "cell_type": "markdown",
   "metadata": {},
   "source": [
    "###############################################################################################################################"
   ]
  },
  {
   "cell_type": "markdown",
   "metadata": {},
   "source": [
    "## Step 10: The Beginning of Chaos"
   ]
  },
  {
   "cell_type": "code",
   "execution_count": 286,
   "metadata": {},
   "outputs": [
    {
     "name": "stdout",
     "output_type": "stream",
     "text": [
      "X Training Values:\n"
     ]
    }
   ],
   "source": [
    "print(\"X Training Values:\")\n",
    "xTrain1 = np.power(x, 1)\n",
    "xTrain2 = np.power(x, 2)\n",
    "xTrain3 = np.power(x, 3)   # trying to normalize x training data\n",
    "xTrain4 = np.power(x, 4)\n",
    "xTrain5 = np.power(x, 5)\n",
    "xTrain6 = np.power(x, 6)\n",
    "xTrain7 = np.power(x, 7)\n",
    "xTrain8 = np.power(x, 8)\n",
    "\n",
    "normalized_x1= []\n",
    "normalized_x2 = []\n",
    "normalized_x3 = []\n",
    "normalized_x4 = []\n",
    "normalized_x5= []\n",
    "normalized_x6= []\n",
    "normalized_x7 = []\n",
    "normalized_x8 = []\n",
    "\n",
    "def poly_normalization_func(xTrain1, xTrain2, xTrain3, xTrain4, xTrain5,xTrain6, xTrain7, xTrain8):\n",
    "    for i in xTrain1:\n",
    "        normalized_x1_value = (i - np.min(xTrain1))/(np.max(xTrain1) - np.min(xTrain1))\n",
    "        normalized_x1.append(normalized_x1_value)\n",
    "    for i in xTrain2:\n",
    "        normalized_x2_value = (i - np.min(xTrain2))/(np.max(xTrain2) - np.min(xTrain2))\n",
    "        normalized_x2.append(normalized_x2_value)\n",
    "    for i in xTrain3:\n",
    "        normalized_x3_value = (i - np.min(xTrain3))/(np.max(xTrain3) - np.min(xTrain3))\n",
    "        normalized_x3.append(normalized_x3_value)\n",
    "    for i in xTrain4:\n",
    "        normalized_x4_value = (i - np.min(xTrain4))/(np.max(xTrain4) - np.min(xTrain4))\n",
    "        normalized_x4.append(normalized_x4_value)\n",
    "    for i in xTrain5:\n",
    "        normalized_x5_value = (i - np.min(xTrain5))/(np.max(xTrain5) - np.min(xTrain5))\n",
    "        normalized_x5.append(normalized_x5_value)\n",
    "    for i in xTrain6:\n",
    "        normalized_x6_value = (i - np.min(xTrain6))/(np.max(xTrain6) - np.min(xTrain6))\n",
    "        normalized_x6.append(normalized_x6_value)\n",
    "    for i in xTrain7:\n",
    "        normalized_x7_value = (i - np.min(xTrain7))/(np.max(xTrain7) - np.min(xTrain7))\n",
    "        normalized_x7.append(normalized_x7_value)\n",
    "    for i in xTrain8:\n",
    "        normalized_x8_value = (i - np.min(xTrain8))/(np.max(xTrain8) - np.min(xTrain8))\n",
    "        normalized_x8.append(normalized_x8_value)\n",
    "    \n",
    "    return normalized_x1, normalized_x2, normalized_x3, normalized_x4, normalized_x5, normalized_x6, normalized_x7, normalized_x8   "
   ]
  },
  {
   "cell_type": "code",
   "execution_count": 287,
   "metadata": {},
   "outputs": [
    {
     "data": {
      "text/plain": [
       "([0.37547194071372636,\n",
       "  0.22098865004500237,\n",
       "  0.9847728255660367,\n",
       "  1.0,\n",
       "  0.0,\n",
       "  0.4572395413262265,\n",
       "  0.740688010660308,\n",
       "  0.15607649238465945,\n",
       "  0.5779944126895069,\n",
       "  0.042956832766420004,\n",
       "  0.643736484669963,\n",
       "  0.8278278453787801],\n",
       " [0.1092211769412796,\n",
       "  0.36744844579607744,\n",
       "  0.5666852786242714,\n",
       "  0.608278373946728,\n",
       "  1.0,\n",
       "  0.033808521117274795,\n",
       "  0.10070503668625114,\n",
       "  0.5211196448645976,\n",
       "  0.0,\n",
       "  0.8527868227655104,\n",
       "  0.02047880105440637,\n",
       "  0.22368874770198308],\n",
       " [0.65333542423457,\n",
       "  0.5267052792495867,\n",
       "  0.9675943705346362,\n",
       "  1.0,\n",
       "  0.0,\n",
       "  0.6736944287661688,\n",
       "  0.699973742798373,\n",
       "  0.4226882741324858,\n",
       "  0.6780777881738568,\n",
       "  0.1439600203981261,\n",
       "  0.6801688481016964,\n",
       "  0.750109353670279],\n",
       " [0.012091718480202693,\n",
       "  0.13540646001987003,\n",
       "  0.3215422167963618,\n",
       "  0.37040044077365736,\n",
       "  1.0,\n",
       "  0.0011975592662426232,\n",
       "  0.010292722703156938,\n",
       "  0.2719823765242842,\n",
       "  0.0,\n",
       "  0.7274549876974183,\n",
       "  0.00045287547137723666,\n",
       "  0.05032661110512135],\n",
       " [0.7727073429807312,\n",
       "  0.7120930783479485,\n",
       "  0.9636671176873058,\n",
       "  1.0,\n",
       "  0.0,\n",
       "  0.775645389742013,\n",
       "  0.7783620119954345,\n",
       "  0.6234351756078078,\n",
       "  0.7758183660616718,\n",
       "  0.25460222061392124,\n",
       "  0.7758697038325608,\n",
       "  0.7943116458709903],\n",
       " [0.0013297469698726433,\n",
       "  0.049826682879300616,\n",
       "  0.182329928184421,\n",
       "  0.22542808121885619,\n",
       "  1.0,\n",
       "  4.147807974239878e-05,\n",
       "  0.0010443327536117832,\n",
       "  0.1418444547619473,\n",
       "  0.0,\n",
       "  0.6204536719101212,\n",
       "  9.659286425349735e-06,\n",
       "  0.011290289827785436],\n",
       " [0.8500637502427716,\n",
       "  0.8247338915083772,\n",
       "  0.967203215974159,\n",
       "  1.0,\n",
       "  0.0,\n",
       "  0.8504321951234184,\n",
       "  0.8507216510633666,\n",
       "  0.7633241871421037,\n",
       "  0.8504387581808119,\n",
       "  0.36313028392661273,\n",
       "  0.8504399570477986,\n",
       "  0.8549865335818461],\n",
       " [0.00014622633602370664,\n",
       "  0.01833507288903065,\n",
       "  0.10338970180198029,\n",
       "  0.1371968121617693,\n",
       "  1.0,\n",
       "  1.4358184162848184e-06,\n",
       "  0.00010595436504999935,\n",
       "  0.07397468963000713,\n",
       "  0.0,\n",
       "  0.5291910359738992,\n",
       "  2.0572828294556743e-07,\n",
       "  0.0025328345226912864])"
      ]
     },
     "execution_count": 287,
     "metadata": {},
     "output_type": "execute_result"
    }
   ],
   "source": [
    "poly_normalization_func(xTrain1, xTrain2, xTrain3, xTrain4, xTrain5, xTrain6, xTrain7, xTrain8)\n"
   ]
  },
  {
   "cell_type": "code",
   "execution_count": 288,
   "metadata": {},
   "outputs": [
    {
     "name": "stdout",
     "output_type": "stream",
     "text": [
      "X Testing Values:\n"
     ]
    }
   ],
   "source": [
    "print(\"X Testing Values:\")\n",
    "xTest1 = np.power(x_test, 1)\n",
    "xTest2 = np.power(x_test, 2)\n",
    "xTest3 = np.power(x_test, 3)  # trying to normalize testing data\n",
    "xTest4 = np.power(x_test, 4)\n",
    "xTest5 = np.power(x_test, 5)\n",
    "xTest6 = np.power(x_test, 6)\n",
    "xTest7 = np.power(x_test, 7)\n",
    "xTest8 = np.power(x_test, 8)\n",
    "\n",
    "normalized_x1_test= []\n",
    "normalized_x2_test = []\n",
    "normalized_x3_test = []\n",
    "normalized_x4_test = []\n",
    "normalized_x5_test= []\n",
    "normalized_x6_test= []\n",
    "normalized_x7_test = []\n",
    "normalized_x8_test = []\n",
    "\n",
    "def poly_normalization_test_func(xTest1, xTest2, xTest3, xTest4, xTest5,xTest6, xTest7, xTest8):\n",
    "    for i in xTest1:\n",
    "        normalized_x1_test_value = (i - np.min(xTest1))/(np.max(xTest1) - np.min(xTest1))\n",
    "        normalized_x1_test.append(normalized_x1_test_value)\n",
    "    for i in xTest2:\n",
    "        normalized_x2_test_value = (i - np.min(xTest2))/(np.max(xTest2) - np.min(xTest2))\n",
    "        normalized_x2_test.append(normalized_x2_test_value)\n",
    "    for i in xTest3:\n",
    "        normalized_x3_test_value = (i - np.min(xTest3))/(np.max(xTest3) - np.min(xTest3))\n",
    "        normalized_x3_test.append(normalized_x3_test_value)\n",
    "    for i in xTest4:\n",
    "        normalized_x4_test_value = (i - np.min(xTest4))/(np.max(xTest4) - np.min(xTest4))\n",
    "        normalized_x4_test.append(normalized_x4_test_value)\n",
    "    for i in xTest5:\n",
    "        normalized_x5_test_value = (i - np.min(xTest5))/(np.max(xTest5) - np.min(xTest5))\n",
    "        normalized_x5_test.append(normalized_x5_test_value)\n",
    "    for i in xTest6:\n",
    "        normalized_x6_test_value = (i - np.min(xTest6))/(np.max(xTest6) - np.min(xTest6))\n",
    "        normalized_x6_test.append(normalized_x6_test_value)\n",
    "    for i in xTest7:\n",
    "        normalized_x7_test_value = (i - np.min(xTest7))/(np.max(xTest7) - np.min(xTest7))\n",
    "        normalized_x7_test.append(normalized_x7_test_value)\n",
    "    for i in xTest8:\n",
    "        normalized_x8_test_value = (i - np.min(xTest8))/(np.max(xTest8) - np.min(xTest8))\n",
    "        normalized_x8_test.append(normalized_x8_test_value)\n",
    "    \n",
    "    return normalized_x1_test, normalized_x2_test, normalized_x3_test, normalized_x4_test, normalized_x5_test, normalized_x6_test, normalized_x7_test, normalized_x8_test   "
   ]
  },
  {
   "cell_type": "code",
   "execution_count": 289,
   "metadata": {},
   "outputs": [
    {
     "data": {
      "text/plain": [
       "([array([0.22588604]),\n",
       "  array([0.18001308]),\n",
       "  array([0.04726586]),\n",
       "  array([0.49733152]),\n",
       "  array([0.77085786]),\n",
       "  array([0.15597626]),\n",
       "  array([0.41336888]),\n",
       "  array([0.88367407]),\n",
       "  array([0.69229809]),\n",
       "  array([1.]),\n",
       "  array([0.54715553]),\n",
       "  array([0.43108821]),\n",
       "  array([0.89859861]),\n",
       "  array([0.95021093]),\n",
       "  array([0.57828069]),\n",
       "  array([0.85433822]),\n",
       "  array([0.32222505]),\n",
       "  array([0.46858278]),\n",
       "  array([0.]),\n",
       "  array([0.20201597]),\n",
       "  array([0.65352445])],\n",
       " [array([0.35446529]),\n",
       "  array([0.459082]),\n",
       "  array([0.83785268]),\n",
       "  array([0.01160566]),\n",
       "  array([0.14409411]),\n",
       "  array([0.51928803]),\n",
       "  array([0.06718237]),\n",
       "  array([0.33849731]),\n",
       "  array([0.0569293]),\n",
       "  array([0.62441861]),\n",
       "  array([0.]),\n",
       "  array([0.05168979]),\n",
       "  array([0.37032818]),\n",
       "  array([0.49141787]),\n",
       "  array([0.00082892]),\n",
       "  array([0.28009357]),\n",
       "  array([0.17868803]),\n",
       "  array([0.02554528]),\n",
       "  array([1.]),\n",
       "  array([0.40721868]),\n",
       "  array([0.02849644])],\n",
       " [array([0.52806655]),\n",
       "  array([0.46111125]),\n",
       "  array([0.15598836]),\n",
       "  array([0.66864014]),\n",
       "  array([0.70627982]),\n",
       "  array([0.41883683]),\n",
       "  array([0.65776213]),\n",
       "  array([0.80153892]),\n",
       "  array([0.67871098]),\n",
       "  array([1.]),\n",
       "  array([0.66951653]),\n",
       "  array([0.66156358]),\n",
       "  array([0.82056752]),\n",
       "  array([0.90031526]),\n",
       "  array([0.66955168]),\n",
       "  array([0.76892947]),\n",
       "  array([0.6188049]),\n",
       "  array([0.66672314]),\n",
       "  array([0.]),\n",
       "  array([0.4953808]),\n",
       "  array([0.67281191])],\n",
       " [array([0.12583652]),\n",
       "  array([0.21096343]),\n",
       "  array([0.70211043]),\n",
       "  array([0.00014426]),\n",
       "  array([0.02086599]),\n",
       "  array([0.2698683]),\n",
       "  array([0.00456575]),\n",
       "  array([0.11476722]),\n",
       "  array([0.00328573]),\n",
       "  array([0.39009423]),\n",
       "  array([0.]),\n",
       "  array([0.00271272]),\n",
       "  array([0.13733748]),\n",
       "  array([0.2417]),\n",
       "  array([1.37799289e-06]),\n",
       "  array([0.07862061]),\n",
       "  array([0.03205184]),\n",
       "  array([0.00067333]),\n",
       "  array([1.]),\n",
       "  array([0.16602842]),\n",
       "  array([0.00083514])],\n",
       " [array([0.70706866]),\n",
       "  array([0.65507191]),\n",
       "  array([0.27310587]),\n",
       "  array([0.76434334]),\n",
       "  array([0.7704172]),\n",
       "  array([0.61568129]),\n",
       "  array([0.76344823]),\n",
       "  array([0.81541398]),\n",
       "  array([0.76495677]),\n",
       "  array([1.]),\n",
       "  array([0.76435544]),\n",
       "  array([0.76388219]),\n",
       "  array([0.82826006]),\n",
       "  array([0.89389174]),\n",
       "  array([0.76435548]),\n",
       "  array([0.79617667]),\n",
       "  array([0.75398936]),\n",
       "  array([0.76427251]),\n",
       "  array([0.]),\n",
       "  array([0.68334819]),\n",
       "  array([0.76446398])],\n",
       " [array([0.04463863]),\n",
       "  array([0.09689719]),\n",
       "  array([0.58831265]),\n",
       "  array([1.73574904e-06]),\n",
       "  array([0.00301414]),\n",
       "  array([0.14019357]),\n",
       "  array([0.00030853]),\n",
       "  array([0.03888012]),\n",
       "  array([0.00018836]),\n",
       "  array([0.2436433]),\n",
       "  array([0.]),\n",
       "  array([0.0001413]),\n",
       "  array([0.05089608]),\n",
       "  array([0.11882706]),\n",
       "  array([1.86101081e-09]),\n",
       "  array([0.02204479]),\n",
       "  array([0.00573829]),\n",
       "  array([1.74785235e-05]),\n",
       "  array([1.]),\n",
       "  array([0.067651]),\n",
       "  array([2.41420349e-05])],\n",
       " [array([0.81624434]),\n",
       "  array([0.78347191]),\n",
       "  array([0.38696059]),\n",
       "  array([0.83853806]),\n",
       "  array([0.83949883]),\n",
       "  array([0.75380787]),\n",
       "  array([0.83847097]),\n",
       "  array([0.85751424]),\n",
       "  array([0.83857603]),\n",
       "  array([1.]),\n",
       "  array([0.83853822]),\n",
       "  array([0.83851117]),\n",
       "  array([0.86451914]),\n",
       "  array([0.90840286]),\n",
       "  array([0.83853822]),\n",
       "  array([0.84832665]),\n",
       "  array([0.83650225]),\n",
       "  array([0.83853585]),\n",
       "  array([0.]),\n",
       "  array([0.80232703]),\n",
       "  array([0.83854166])],\n",
       " [array([0.01583487]),\n",
       "  array([0.04450563]),\n",
       "  array([0.49295913]),\n",
       "  array([2.08612111e-08]),\n",
       "  array([0.0004354]),\n",
       "  array([0.07282897]),\n",
       "  array([2.08476304e-05]),\n",
       "  array([0.01317155]),\n",
       "  array([1.07971654e-05]),\n",
       "  array([0.15217359]),\n",
       "  array([0.]),\n",
       "  array([7.35981148e-06]),\n",
       "  array([0.01886162]),\n",
       "  array([0.05841896]),\n",
       "  array([2.37870471e-12]),\n",
       "  array([0.00618123]),\n",
       "  array([0.00102733]),\n",
       "  array([4.53602426e-07]),\n",
       "  array([1.]),\n",
       "  array([0.02756548]),\n",
       "  array([6.97750605e-07])])"
      ]
     },
     "execution_count": 289,
     "metadata": {},
     "output_type": "execute_result"
    }
   ],
   "source": [
    "poly_normalization_test_func(xTest1, xTest2, xTest3, xTest4, xTest5, xTest6, xTest7, xTest8)"
   ]
  },
  {
   "cell_type": "code",
   "execution_count": 290,
   "metadata": {},
   "outputs": [],
   "source": [
    "xtest_n1, xtest_n2, xtest_n3, xtest_n4, xtest_n5, xtest_n6, xtest_n7, xtest_n8 = poly_normalization_test_func(xTest1, xTest2, xTest3, xTest4, xTest5, xTest6, xTest7, xTest8)"
   ]
  },
  {
   "cell_type": "code",
   "execution_count": 291,
   "metadata": {},
   "outputs": [
    {
     "name": "stdout",
     "output_type": "stream",
     "text": [
      "Optimization terminated successfully.\n",
      "         Current function value: 32.164042\n",
      "         Iterations: 1944\n",
      "         Function evaluations: 2801\n",
      "[  3.20710303  32.10263538  37.01001192  32.96185212  -9.08116473\n",
      " -14.74005298  -1.85361776 -32.87260059 -26.35602325]\n"
     ]
    }
   ],
   "source": [
    "def j_theta(theta_n, normalized_x1, normalized_x2, normalized_x3, normalized_x4, normalized_x5, normalized_x6, normalized_x7, normalized_x8, y):\n",
    "    m = x.shape[0]\n",
    "    j_theta = (1/2*m)*sum([((theta_n[0] + theta_n[1]*normalized_x1[i] + theta_n[2]*normalized_x2[i] + theta_n[3]*normalized_x3[i] + theta_n[4]*normalized_x4[i] + theta_n[5]*normalized_x5[i] + theta_n[6]*normalized_x6[i] + theta_n[7]*normalized_x7[i] + theta_n[8]*normalized_x8[i]) - y[i]) ** 2 for i in range(m)]) \n",
    "    return j_theta \n",
    "\n",
    "theta_n = [1, 1, 1, 1, 1, 1, 1, 1, 1]  # fill array with ones\n",
    "optimal_thetas = optimize.fmin(j_theta, theta_n, args = (normalized_x1, normalized_x2, normalized_x3, normalized_x4, normalized_x5, normalized_x6, normalized_x7, normalized_x8, y), maxfun = 10000)\n",
    "print(optimal_thetas)   \n"
   ]
  },
  {
   "cell_type": "code",
   "execution_count": 292,
   "metadata": {},
   "outputs": [],
   "source": [
    "# xn1, xn2, xn3, xn4, xn5, xn6, xn7, xn8 = poly_normalization_func(xTrain1, xTrain2, xTrain3, xTrain4, xTrain5, xTrain6, xTrain7, xTrain8)"
   ]
  },
  {
   "cell_type": "code",
   "execution_count": 293,
   "metadata": {},
   "outputs": [
    {
     "name": "stdout",
     "output_type": "stream",
     "text": [
      "[3.554565226776866e+23, 9.98405558253729e+23, 1.1045243168953053e+25, 4.793281014649884e+17, 9.640216556503682e+21, 1.6333336260824265e+24, 4.711955254511142e+20, 2.92489348920052e+23, 2.378757289652235e+20, 3.3840882158197487e+24, 782385345560.8849, 1.666253874575718e+20, 4.1894513684504926e+23, 1.298472401442547e+24, 48935998533155.34, 1.3718629843268782e+23, 2.3111226762155176e+22, 1.0328405561984266e+19, 2.239942805297038e+25, 6.185616873376164e+23, 1.5287744107145783e+19, 3.554565226776866e+23, 9.98405558253729e+23, 1.1045243168953053e+25, 4.793281014649884e+17, 9.640216556503682e+21, 1.6333336260824265e+24, 4.711955254511142e+20, 2.92489348920052e+23, 2.378757289652235e+20, 3.3840882158197487e+24, 782385345560.8849, 1.666253874575718e+20, 4.1894513684504926e+23, 1.298472401442547e+24, 48935998533155.34, 1.3718629843268782e+23, 2.3111226762155176e+22, 1.0328405561984266e+19, 2.239942805297038e+25, 6.185616873376164e+23, 1.5287744107145783e+19]\n"
     ]
    }
   ],
   "source": [
    "def poly_regression_prediction(optimal_thetas, x):\n",
    "    regression = optimal_thetas[0] + optimal_thetas[1]*x + (optimal_thetas[2]*x)**2 + (optimal_thetas[3]*x)**3 + (optimal_thetas[4]*x)**4 + (optimal_thetas[5]*x)**5 + (optimal_thetas[6]*x)**6 + (optimal_thetas[7]*x)**7 + (optimal_thetas[8]*x)**8\n",
    "    return regression\n",
    "\n",
    "poly_test_predicted_values = []  # need my x_test values to be normalized but could not get it to work right\n",
    "\n",
    "for i in np.nditer(x_test):  # use test data in linear regression \n",
    "    poly_test_predicted_value = poly_regression_prediction(optimal_thetas, i)\n",
    "    poly_test_predicted_values.append(test_predicted_value)\n",
    "print(test_predicted_values)  # will use these predicted values for the MSE"
   ]
  },
  {
   "cell_type": "code",
   "execution_count": 294,
   "metadata": {},
   "outputs": [],
   "source": [
    "def evaluate_poly_MSE(pred, ytest, m):  # for MSE we use the predicted y values and test data\n",
    "    MSE = (1/(m))*sum([(pred[i]-ytest[i])**2 for i in range(m)])\n",
    "    return MSE\n",
    "\n",
    "train = x.shape[0]    # the length of all our sets of data\n",
    "test = x_test.shape[0]\n",
    "validate = x_val.shape[0]"
   ]
  },
  {
   "cell_type": "code",
   "execution_count": 295,
   "metadata": {},
   "outputs": [
    {
     "name": "stdout",
     "output_type": "stream",
     "text": [
      "MSE:\n"
     ]
    },
    {
     "data": {
      "text/plain": [
       "array([2.3371512e+38])"
      ]
     },
     "execution_count": 295,
     "metadata": {},
     "output_type": "execute_result"
    }
   ],
   "source": [
    "print(\"MSE:\")\n",
    "evaluate_MSE(poly_test_predicted_values, y_test, test  # the MSE should be small but my test is not normalized properly"
   ]
  },
  {
   "cell_type": "code",
   "execution_count": 296,
   "metadata": {},
   "outputs": [],
   "source": [
    "def plot_poly(): # attempt 1 at plotting\n",
    "    jtheta = (1/2*m)*sum([((theta_n[0] + theta_n[1]*normalized_x1 + theta_n[2]*(normalized_x1)**2 + theta_n[3]*(normalized_x1)**3 + theta_n[4]*(normalized_x1)**4  + theta_n[5]*(normalized_x1)**5  + theta_n[6]*(normalized_x1)**6  + theta_n[7]*(normalized_x1)**7 + theta_n[8]*(normalized_x1)**8 - y[i])) ** 2 for i in range(m)]) \n",
    "#     x1, x2, x3, x4, x5, x6, x7, x8 =  poly_normalization_func(xTrain1, xTrain2, xTrain3, xTrain4, xTrain5, xTrain6, xTrain7, xTrain8)\n",
    "#     normalization_x_values = x1, x2, x3, x4, x5, x6, x7, x8 \n",
    "    #     normalizing_eighth_degree = normalization_func(eighth_degree)\n",
    "#     zip(*sorted(zip(normalizing_eighth_degree, y)))\n",
    "#     normalizing_eighth_degree.sort()\n",
    "#     plt.plot(normalizing_x, y, c= \"blue\", label = \"original data\")\n",
    "    plt.plot(j_theta, y, 'o', c='blue')\n",
    "#     plt.plot(normalizing_eighth_degree, y, c = \"r\", linestyle = ':')\n",
    "    plt.xlabel('x')  # labels x-axis\n",
    "    plt.ylabel('y')  # labels y-axis"
   ]
  },
  {
   "cell_type": "code",
   "execution_count": 297,
   "metadata": {},
   "outputs": [
    {
     "ename": "TypeError",
     "evalue": "unsupported operand type(s) for +: 'int' and 'list'",
     "output_type": "error",
     "traceback": [
      "\u001b[1;31m---------------------------------------------------------------------------\u001b[0m",
      "\u001b[1;31mTypeError\u001b[0m                                 Traceback (most recent call last)",
      "\u001b[1;32m<ipython-input-297-b858455cc824>\u001b[0m in \u001b[0;36m<module>\u001b[1;34m\u001b[0m\n\u001b[1;32m----> 1\u001b[1;33m \u001b[0mplot_poly\u001b[0m\u001b[1;33m(\u001b[0m\u001b[1;33m)\u001b[0m\u001b[1;33m\u001b[0m\u001b[1;33m\u001b[0m\u001b[0m\n\u001b[0m",
      "\u001b[1;32m<ipython-input-296-b50050c919c9>\u001b[0m in \u001b[0;36mplot_poly\u001b[1;34m()\u001b[0m\n\u001b[0;32m      1\u001b[0m \u001b[1;32mdef\u001b[0m \u001b[0mplot_poly\u001b[0m\u001b[1;33m(\u001b[0m\u001b[1;33m)\u001b[0m\u001b[1;33m:\u001b[0m\u001b[1;33m\u001b[0m\u001b[1;33m\u001b[0m\u001b[0m\n\u001b[1;32m----> 2\u001b[1;33m     \u001b[0mjtheta\u001b[0m \u001b[1;33m=\u001b[0m \u001b[1;33m(\u001b[0m\u001b[1;36m1\u001b[0m\u001b[1;33m/\u001b[0m\u001b[1;36m2\u001b[0m\u001b[1;33m*\u001b[0m\u001b[0mm\u001b[0m\u001b[1;33m)\u001b[0m\u001b[1;33m*\u001b[0m\u001b[0msum\u001b[0m\u001b[1;33m(\u001b[0m\u001b[1;33m[\u001b[0m\u001b[1;33m(\u001b[0m\u001b[1;33m(\u001b[0m\u001b[0mtheta_n\u001b[0m\u001b[1;33m[\u001b[0m\u001b[1;36m0\u001b[0m\u001b[1;33m]\u001b[0m \u001b[1;33m+\u001b[0m \u001b[0mtheta_n\u001b[0m\u001b[1;33m[\u001b[0m\u001b[1;36m1\u001b[0m\u001b[1;33m]\u001b[0m\u001b[1;33m*\u001b[0m\u001b[0mnormalized_x1\u001b[0m \u001b[1;33m+\u001b[0m \u001b[0mtheta_n\u001b[0m\u001b[1;33m[\u001b[0m\u001b[1;36m2\u001b[0m\u001b[1;33m]\u001b[0m\u001b[1;33m*\u001b[0m\u001b[1;33m(\u001b[0m\u001b[0mnormalized_x1\u001b[0m\u001b[1;33m)\u001b[0m\u001b[1;33m**\u001b[0m\u001b[1;36m2\u001b[0m \u001b[1;33m+\u001b[0m \u001b[0mtheta_n\u001b[0m\u001b[1;33m[\u001b[0m\u001b[1;36m3\u001b[0m\u001b[1;33m]\u001b[0m\u001b[1;33m*\u001b[0m\u001b[1;33m(\u001b[0m\u001b[0mnormalized_x1\u001b[0m\u001b[1;33m)\u001b[0m\u001b[1;33m**\u001b[0m\u001b[1;36m3\u001b[0m \u001b[1;33m+\u001b[0m \u001b[0mtheta_n\u001b[0m\u001b[1;33m[\u001b[0m\u001b[1;36m4\u001b[0m\u001b[1;33m]\u001b[0m\u001b[1;33m*\u001b[0m\u001b[1;33m(\u001b[0m\u001b[0mnormalized_x1\u001b[0m\u001b[1;33m)\u001b[0m\u001b[1;33m**\u001b[0m\u001b[1;36m4\u001b[0m  \u001b[1;33m+\u001b[0m \u001b[0mtheta_n\u001b[0m\u001b[1;33m[\u001b[0m\u001b[1;36m5\u001b[0m\u001b[1;33m]\u001b[0m\u001b[1;33m*\u001b[0m\u001b[1;33m(\u001b[0m\u001b[0mnormalized_x1\u001b[0m\u001b[1;33m)\u001b[0m\u001b[1;33m**\u001b[0m\u001b[1;36m5\u001b[0m  \u001b[1;33m+\u001b[0m \u001b[0mtheta_n\u001b[0m\u001b[1;33m[\u001b[0m\u001b[1;36m6\u001b[0m\u001b[1;33m]\u001b[0m\u001b[1;33m*\u001b[0m\u001b[1;33m(\u001b[0m\u001b[0mnormalized_x1\u001b[0m\u001b[1;33m)\u001b[0m\u001b[1;33m**\u001b[0m\u001b[1;36m6\u001b[0m  \u001b[1;33m+\u001b[0m \u001b[0mtheta_n\u001b[0m\u001b[1;33m[\u001b[0m\u001b[1;36m7\u001b[0m\u001b[1;33m]\u001b[0m\u001b[1;33m*\u001b[0m\u001b[1;33m(\u001b[0m\u001b[0mnormalized_x1\u001b[0m\u001b[1;33m)\u001b[0m\u001b[1;33m**\u001b[0m\u001b[1;36m7\u001b[0m \u001b[1;33m+\u001b[0m \u001b[0mtheta_n\u001b[0m\u001b[1;33m[\u001b[0m\u001b[1;36m8\u001b[0m\u001b[1;33m]\u001b[0m\u001b[1;33m*\u001b[0m\u001b[1;33m(\u001b[0m\u001b[0mnormalized_x1\u001b[0m\u001b[1;33m)\u001b[0m\u001b[1;33m**\u001b[0m\u001b[1;36m8\u001b[0m \u001b[1;33m-\u001b[0m \u001b[0my\u001b[0m\u001b[1;33m[\u001b[0m\u001b[0mi\u001b[0m\u001b[1;33m]\u001b[0m\u001b[1;33m)\u001b[0m\u001b[1;33m)\u001b[0m \u001b[1;33m**\u001b[0m \u001b[1;36m2\u001b[0m \u001b[1;32mfor\u001b[0m \u001b[0mi\u001b[0m \u001b[1;32min\u001b[0m \u001b[0mrange\u001b[0m\u001b[1;33m(\u001b[0m\u001b[0mm\u001b[0m\u001b[1;33m)\u001b[0m\u001b[1;33m]\u001b[0m\u001b[1;33m)\u001b[0m\u001b[1;33m\u001b[0m\u001b[1;33m\u001b[0m\u001b[0m\n\u001b[0m\u001b[0;32m      3\u001b[0m \u001b[1;31m#     x1, x2, x3, x4, x5, x6, x7, x8 =  poly_normalization_func(xTrain1, xTrain2, xTrain3, xTrain4, xTrain5, xTrain6, xTrain7, xTrain8)\u001b[0m\u001b[1;33m\u001b[0m\u001b[1;33m\u001b[0m\u001b[1;33m\u001b[0m\u001b[0m\n\u001b[0;32m      4\u001b[0m \u001b[1;31m#     normalization_x_values = x1, x2, x3, x4, x5, x6, x7, x8\u001b[0m\u001b[1;33m\u001b[0m\u001b[1;33m\u001b[0m\u001b[1;33m\u001b[0m\u001b[0m\n\u001b[0;32m      5\u001b[0m     \u001b[1;31m#     normalizing_eighth_degree = normalization_func(eighth_degree)\u001b[0m\u001b[1;33m\u001b[0m\u001b[1;33m\u001b[0m\u001b[1;33m\u001b[0m\u001b[0m\n",
      "\u001b[1;32m<ipython-input-296-b50050c919c9>\u001b[0m in \u001b[0;36m<listcomp>\u001b[1;34m(.0)\u001b[0m\n\u001b[0;32m      1\u001b[0m \u001b[1;32mdef\u001b[0m \u001b[0mplot_poly\u001b[0m\u001b[1;33m(\u001b[0m\u001b[1;33m)\u001b[0m\u001b[1;33m:\u001b[0m\u001b[1;33m\u001b[0m\u001b[1;33m\u001b[0m\u001b[0m\n\u001b[1;32m----> 2\u001b[1;33m     \u001b[0mjtheta\u001b[0m \u001b[1;33m=\u001b[0m \u001b[1;33m(\u001b[0m\u001b[1;36m1\u001b[0m\u001b[1;33m/\u001b[0m\u001b[1;36m2\u001b[0m\u001b[1;33m*\u001b[0m\u001b[0mm\u001b[0m\u001b[1;33m)\u001b[0m\u001b[1;33m*\u001b[0m\u001b[0msum\u001b[0m\u001b[1;33m(\u001b[0m\u001b[1;33m[\u001b[0m\u001b[1;33m(\u001b[0m\u001b[1;33m(\u001b[0m\u001b[0mtheta_n\u001b[0m\u001b[1;33m[\u001b[0m\u001b[1;36m0\u001b[0m\u001b[1;33m]\u001b[0m \u001b[1;33m+\u001b[0m \u001b[0mtheta_n\u001b[0m\u001b[1;33m[\u001b[0m\u001b[1;36m1\u001b[0m\u001b[1;33m]\u001b[0m\u001b[1;33m*\u001b[0m\u001b[0mnormalized_x1\u001b[0m \u001b[1;33m+\u001b[0m \u001b[0mtheta_n\u001b[0m\u001b[1;33m[\u001b[0m\u001b[1;36m2\u001b[0m\u001b[1;33m]\u001b[0m\u001b[1;33m*\u001b[0m\u001b[1;33m(\u001b[0m\u001b[0mnormalized_x1\u001b[0m\u001b[1;33m)\u001b[0m\u001b[1;33m**\u001b[0m\u001b[1;36m2\u001b[0m \u001b[1;33m+\u001b[0m \u001b[0mtheta_n\u001b[0m\u001b[1;33m[\u001b[0m\u001b[1;36m3\u001b[0m\u001b[1;33m]\u001b[0m\u001b[1;33m*\u001b[0m\u001b[1;33m(\u001b[0m\u001b[0mnormalized_x1\u001b[0m\u001b[1;33m)\u001b[0m\u001b[1;33m**\u001b[0m\u001b[1;36m3\u001b[0m \u001b[1;33m+\u001b[0m \u001b[0mtheta_n\u001b[0m\u001b[1;33m[\u001b[0m\u001b[1;36m4\u001b[0m\u001b[1;33m]\u001b[0m\u001b[1;33m*\u001b[0m\u001b[1;33m(\u001b[0m\u001b[0mnormalized_x1\u001b[0m\u001b[1;33m)\u001b[0m\u001b[1;33m**\u001b[0m\u001b[1;36m4\u001b[0m  \u001b[1;33m+\u001b[0m \u001b[0mtheta_n\u001b[0m\u001b[1;33m[\u001b[0m\u001b[1;36m5\u001b[0m\u001b[1;33m]\u001b[0m\u001b[1;33m*\u001b[0m\u001b[1;33m(\u001b[0m\u001b[0mnormalized_x1\u001b[0m\u001b[1;33m)\u001b[0m\u001b[1;33m**\u001b[0m\u001b[1;36m5\u001b[0m  \u001b[1;33m+\u001b[0m \u001b[0mtheta_n\u001b[0m\u001b[1;33m[\u001b[0m\u001b[1;36m6\u001b[0m\u001b[1;33m]\u001b[0m\u001b[1;33m*\u001b[0m\u001b[1;33m(\u001b[0m\u001b[0mnormalized_x1\u001b[0m\u001b[1;33m)\u001b[0m\u001b[1;33m**\u001b[0m\u001b[1;36m6\u001b[0m  \u001b[1;33m+\u001b[0m \u001b[0mtheta_n\u001b[0m\u001b[1;33m[\u001b[0m\u001b[1;36m7\u001b[0m\u001b[1;33m]\u001b[0m\u001b[1;33m*\u001b[0m\u001b[1;33m(\u001b[0m\u001b[0mnormalized_x1\u001b[0m\u001b[1;33m)\u001b[0m\u001b[1;33m**\u001b[0m\u001b[1;36m7\u001b[0m \u001b[1;33m+\u001b[0m \u001b[0mtheta_n\u001b[0m\u001b[1;33m[\u001b[0m\u001b[1;36m8\u001b[0m\u001b[1;33m]\u001b[0m\u001b[1;33m*\u001b[0m\u001b[1;33m(\u001b[0m\u001b[0mnormalized_x1\u001b[0m\u001b[1;33m)\u001b[0m\u001b[1;33m**\u001b[0m\u001b[1;36m8\u001b[0m \u001b[1;33m-\u001b[0m \u001b[0my\u001b[0m\u001b[1;33m[\u001b[0m\u001b[0mi\u001b[0m\u001b[1;33m]\u001b[0m\u001b[1;33m)\u001b[0m\u001b[1;33m)\u001b[0m \u001b[1;33m**\u001b[0m \u001b[1;36m2\u001b[0m \u001b[1;32mfor\u001b[0m \u001b[0mi\u001b[0m \u001b[1;32min\u001b[0m \u001b[0mrange\u001b[0m\u001b[1;33m(\u001b[0m\u001b[0mm\u001b[0m\u001b[1;33m)\u001b[0m\u001b[1;33m]\u001b[0m\u001b[1;33m)\u001b[0m\u001b[1;33m\u001b[0m\u001b[1;33m\u001b[0m\u001b[0m\n\u001b[0m\u001b[0;32m      3\u001b[0m \u001b[1;31m#     x1, x2, x3, x4, x5, x6, x7, x8 =  poly_normalization_func(xTrain1, xTrain2, xTrain3, xTrain4, xTrain5, xTrain6, xTrain7, xTrain8)\u001b[0m\u001b[1;33m\u001b[0m\u001b[1;33m\u001b[0m\u001b[1;33m\u001b[0m\u001b[0m\n\u001b[0;32m      4\u001b[0m \u001b[1;31m#     normalization_x_values = x1, x2, x3, x4, x5, x6, x7, x8\u001b[0m\u001b[1;33m\u001b[0m\u001b[1;33m\u001b[0m\u001b[1;33m\u001b[0m\u001b[0m\n\u001b[0;32m      5\u001b[0m     \u001b[1;31m#     normalizing_eighth_degree = normalization_func(eighth_degree)\u001b[0m\u001b[1;33m\u001b[0m\u001b[1;33m\u001b[0m\u001b[1;33m\u001b[0m\u001b[0m\n",
      "\u001b[1;31mTypeError\u001b[0m: unsupported operand type(s) for +: 'int' and 'list'"
     ]
    }
   ],
   "source": [
    "plot_poly()"
   ]
  },
  {
   "cell_type": "code",
   "execution_count": 298,
   "metadata": {},
   "outputs": [],
   "source": [
    "def polynomial_descent(alpha, x, y, lamb=0, conv=0.0001, max_iter=10000): # input alpha=learning rate, x and = data,\n",
    "    converged = False                                                   #  convergence thresh= 0.0001, max_iter = 10000                                                 \n",
    "    iteration = 0  # set iteration counter to 0\n",
    "    normalizing_x = normalization_func(x) # making x values be normalized\n",
    "    m = x.shape[0] # number of samples\n",
    "    t_n = [0.0, 0.0, 0.0, 0.0, 0.0, 0.0, 0.0, 0.0, 0.0]   # initial thetas\n",
    "    num_thetas = len(t_n) # length of theta array\n",
    "\n",
    "    # total error, J(theta)\n",
    "    j = sum([ (t_n[0] + t_n[1]*x[i] + t_n[2]*x[i] **2 + t_n[3]*x[i] **3 + t_n[4]*x[i] **4 + t_n[5]*x[i] **5 + \n",
    "                t_n[6]*x[i] **6 + t_n[7]*x[i] **7 + t_n[8]*x[i] **8 - y[i])**2 for i in range(m)]) + (lamb * sum([t_n[i]**2 for i in range(num_thetas)])) \n",
    "\n",
    "    while not converged: # Iterate Loop until convergence has happened\n",
    "        \n",
    "        # for each training sample, compute the gradient (d/d_theta j(theta))\n",
    "        grad0 = 1.0/m * sum([(t_n[0] + t_n[1]*x[i] - y[i]) for i in range(m)]) \n",
    "        grad1 = 1.0/m * sum([(t_n[0] + t_n[1]*x[i] - y[i])*x[i] for i in range(m)])\n",
    "        grad2 = 1.0/m * sum([(t_n[0] + t_n[1]*x[i] + t_n[2]*x[i] - y[i])*x[i] for i in range(m)])\n",
    "        grad3 = 1.0/m * sum([(t_n[0] + t_n[1]*x[i] +t_n[2]*x[i] + t_n[3]*x[i] - y[i])*x[i] for i in range(m)])\n",
    "        grad4 = 1.0/m * sum([(t_n[0] + t_n[1]*x[i] + t_n[2]*x[i] +t_n[3]*x[i] + t_n[4]*x[i]  - y[i])*x[i] for i in range(m)])\n",
    "        grad5 = 1.0/m * sum([(t_n[0] + t_n[1]*x[i] + t_n[2]*x[i] + t_n[3]*x[i] +t_n[4]*x[i] + t_n[5]*x[i] - y[i])*x[i] for i in range(m)])\n",
    "        grad6 = 1.0/m * sum([(t_n[0] + t_n[1]*x[i] + t_n[2]*x[i] + t_n[3]*x[i] + t_n[4]*x[i] +t_n[5]*x[i] + t_n[6]*x[i] - y[i])*x[i] for i in range(m)])\n",
    "        grad7 = 1.0/m * sum([(t_n[0] + t_n[1]*x[i] + t_n[2]*x[i] + t_n[3]*x[i] + t_n[4]*x[i] +t_n[5]*x[i] + t_n[6]*x[i] + t_n[7]*x[i] - y[i])*x[i] for i in range(m)])\n",
    "        grad8 = 1.0/m * sum([(t_n[0] + t_n[1]*x[i] + t_n[2]*x[i] + t_n[3]*x[i] + t_n[4]*x[i] +t_n[5]*x[i] + t_n[6]*x[i] + t_n[7]*x[i] + t_n[8]*x[i] - y[i])*x[i] for i in range(m)])\n",
    "\n",
    "        # update the theta_temp\n",
    "        temp0 = t_n[0] - alpha * grad0\n",
    "        temp1 = ((1.0 -((alpha * lamb)/m)) * t_n[1]) - alpha * grad1\n",
    "        temp2 = ((1.0 -((alpha * lamb)/m)) * t_n[2]) - alpha * grad2\n",
    "        temp3 = ((1.0 -((alpha * lamb)/m)) * t_n[3]) - alpha * grad3\n",
    "        temp4 = ((1.0 -((alpha * lamb)/m)) * t_n[4]) - alpha * grad4\n",
    "        temp5 = ((1.0 -((alpha * lamb)/m)) * t_n[5]) - alpha * grad5\n",
    "        temp6 = ((1.0 -((alpha * lamb)/m)) * t_n[6]) - alpha * grad6\n",
    "        temp7 = ((1.0 -((alpha * lamb)/m)) * t_n[7]) - alpha * grad7\n",
    "        temp8 = ((1.0 -((alpha * lamb)/m)) * t_n[8]) - alpha * grad8\n",
    "        \n",
    "    \n",
    "        # update theta\n",
    "        t_n[0] = (temp0)\n",
    "        t_n[1] = (temp1)\n",
    "        t_n[2] = (temp2)\n",
    "        t_n[3] = (temp3)\n",
    "        t_n[4] = (temp4)\n",
    "        t_n[5] = (temp5)\n",
    "        t_n[6] = (temp6)\n",
    "        t_n[7] = (temp7)\n",
    "        t_n[8] = (temp8)\n",
    "        \n",
    "\n",
    "        # mean squared error\n",
    "        e = sum([ (t_n[0] + t_n[1]*x[i] + t_n[2]*x[i] **2 + t_n[3]*x[i] **3 + t_n[4]*x[i] **4 + t_n[5]*x[i] **5 + \n",
    "                   t_n[6]*x[i] **6 + t_n[7]*x[i] **7 + t_n[8]*x[i] **8 - y[i])**2 for i in range(m)]) + (lamb * sum([t_n[i]**2 for i in range(num_thetas)])) \n",
    "        \n",
    "        if abs(j-e) <= conv:\n",
    "            converged = True\n",
    "    \n",
    "        J = e   # update error \n",
    "        iteration += 1  # update iter\n",
    "    \n",
    "        if iteration == max_iter:\n",
    "            converged = True\n",
    "    \n",
    "    \n",
    "    eighth_degree =  t_n[0] + t_n[1]*x + t_n[2]*x**2 + t_n[3]*x**3 + t_n[4]*x**4 + t_n[5]*x**5 + t_n[6]*x**6 + t_n[7]*x**7 + t_n[8]*x**8\n",
    "    normalizing_eighth_degree = normalization_func(eighth_degree)\n",
    "    zip(*sorted(zip(normalizing_eighth_degree, y)))\n",
    "#     normalizing_eighth_degree.sort()\n",
    "#     plt.plot(normalizing_x, y, c= \"blue\", label = \"original data\")\n",
    "    plt.plot(normalizing_x, y, 'o', c='blue')\n",
    "    plt.plot(normalizing_eighth_degree, y, c = \"r\", linestyle = ':')\n",
    "    plt.xlabel('x')  # labels x-axis\n",
    "    plt.ylabel('y')  # labels y-axis\n",
    "    \n",
    "    return t_n[0], t_n[1], t_n[2], t_n[3], t_n[4], t_n[5], t_n[6], t_n[7], t_n[8], J"
   ]
  },
  {
   "cell_type": "code",
   "execution_count": 299,
   "metadata": {},
   "outputs": [
    {
     "data": {
      "text/plain": [
       "(13.087124889657002,\n",
       " 0.36777425075792103,\n",
       " 5.5023789230748304e-09,\n",
       " -6.291204112737735e-12,\n",
       " 7.229208386899799e-15,\n",
       " 7.007428009526106e-19,\n",
       " -3.850399922041795e-17,\n",
       " -1.1978685954190068e-16,\n",
       " -2.7739279707400678e-16,\n",
       " 537.1836946923835)"
      ]
     },
     "execution_count": 299,
     "metadata": {},
     "output_type": "execute_result"
    },
    {
     "data": {
      "image/png": "[encoded data removed]",
      "text/plain": [
       "<Figure size 432x288 with 1 Axes>"
      ]
     },
     "metadata": {
      "needs_background": "light"
     },
     "output_type": "display_data"
    }
   ],
   "source": [
    "polynomial_descent(0.001, x ,y)"
   ]
  },
  {
   "cell_type": "code",
   "execution_count": 301,
   "metadata": {},
   "outputs": [
    {
     "data": {
      "image/png": "[encoded data removed]",
      "text/plain": [
       "<Figure size 432x288 with 1 Axes>"
      ]
     },
     "metadata": {
      "needs_background": "light"
     },
     "output_type": "display_data"
    }
   ],
   "source": [
    "poly = PolynomialFeatures(degree = 8)   # really close to figuring out the plot just missing a fundamental concept here \n",
    "x_2d = np.reshape(x, (-1,1))\n",
    "x_2d.sort()\n",
    "# X_poly = np.reshape(X_poly, (1,-1))\n",
    "X_poly = poly.fit_transform(x_2d)\n",
    "normalize = normalization_func(x_2d)\n",
    "  \n",
    "poly.fit(X_poly, y) \n",
    "lin2 = LinearRegression() \n",
    "# lin2= Ridge(alpha= 0.001, normalize=True)\n",
    "lin2.fit(X_poly, y)\n",
    "\n",
    "# zip(*sorted(zip(X_poly, y)))\n",
    "plt.scatter(x_2d, y, color = 'blue') \n",
    "  \n",
    "plt.plot(x_2d, lin2.predict(poly.fit_transform(x_2d)), color = 'red', linestyle =':') \n",
    "plt.title('Polynomial Regression') \n",
    "plt.xlabel('x') \n",
    "plt.ylabel('y') \n",
    "  \n",
    "plt.show() "
   ]
  },
  {
   "cell_type": "markdown",
   "metadata": {},
   "source": [
    "###############################################################################################################################"
   ]
  },
  {
   "cell_type": "markdown",
   "metadata": {},
   "source": [
    "## Step 11"
   ]
  },
  {
   "cell_type": "code",
   "execution_count": 309,
   "metadata": {},
   "outputs": [],
   "source": [
    "def polynomial_learning_curves(x, y, x_val, y_val, size = 12): # attempt at learning curve but ran out of time \n",
    "    validation_error = []\n",
    "    training_error = []\n",
    "    \n",
    "\n",
    "    for i in range(1,13):\n",
    "        thetas = polynomial_descent(0.001, x[0:i], y[0:i])\n",
    "        validation_predictions = poly_regression_prediction(theta0, theta1, x_val)\n",
    "        training_predictions = poly_regression_prediction(theta0, theta1, x[0:i])\n",
    "        MSE_poly_validation = evaluate_poly_MSE(validation_predictions, y_val, len(y_val))\n",
    "        MSE_poly_train = evaluate_poly_MSE(training_predictions, y[0:i], i)\n",
    "        validation_error.append(MSE_validation)\n",
    "        training_error.append(MSE_train)\n",
    "\n",
    "    \n",
    "    plt.title(\"Learning Curves for Regularized Polynomial Regression\")\n",
    "    plt.xlabel('Number of Training Examples')  # labels x-axis\n",
    "    plt.ylabel('Error')  # labels y-axis \n",
    "    plt.plot(range(len(x)), validation_error, c= \"blue\", label=\"validation\")\n",
    "    plt.plot(range(len(x)), training_error, c=\"r\", label= \"training\")\n",
    "    plt.legend(loc = \"best\") # puts legend in best location\n",
    "    plt.show()\n",
    "  "
   ]
  },
  {
   "cell_type": "code",
   "execution_count": 310,
   "metadata": {},
   "outputs": [
    {
     "name": "stderr",
     "output_type": "stream",
     "text": [
      "<ipython-input-23-132cdb80d992>:4: RuntimeWarning: invalid value encountered in double_scalars\n",
      "  normalize= (i-np.min(x))/(np.max(x)-np.min(x))\n"
     ]
    },
    {
     "ename": "TypeError",
     "evalue": "poly_regression_prediction() takes 2 positional arguments but 3 were given",
     "output_type": "error",
     "traceback": [
      "\u001b[1;31m---------------------------------------------------------------------------\u001b[0m",
      "\u001b[1;31mTypeError\u001b[0m                                 Traceback (most recent call last)",
      "\u001b[1;32m<ipython-input-310-5889bfe4009f>\u001b[0m in \u001b[0;36m<module>\u001b[1;34m\u001b[0m\n\u001b[1;32m----> 1\u001b[1;33m \u001b[0mpolynomial_learning_curves\u001b[0m\u001b[1;33m(\u001b[0m\u001b[0mx\u001b[0m\u001b[1;33m,\u001b[0m \u001b[0my\u001b[0m\u001b[1;33m,\u001b[0m \u001b[0mx_val\u001b[0m\u001b[1;33m,\u001b[0m \u001b[0my_val\u001b[0m\u001b[1;33m)\u001b[0m\u001b[1;33m\u001b[0m\u001b[1;33m\u001b[0m\u001b[0m\n\u001b[0m",
      "\u001b[1;32m<ipython-input-309-510829ed123b>\u001b[0m in \u001b[0;36mpolynomial_learning_curves\u001b[1;34m(x, y, x_val, y_val, size)\u001b[0m\n\u001b[0;32m      6\u001b[0m     \u001b[1;32mfor\u001b[0m \u001b[0mi\u001b[0m \u001b[1;32min\u001b[0m \u001b[0mrange\u001b[0m\u001b[1;33m(\u001b[0m\u001b[1;36m1\u001b[0m\u001b[1;33m,\u001b[0m\u001b[1;36m13\u001b[0m\u001b[1;33m)\u001b[0m\u001b[1;33m:\u001b[0m\u001b[1;33m\u001b[0m\u001b[1;33m\u001b[0m\u001b[0m\n\u001b[0;32m      7\u001b[0m         \u001b[0mthetas\u001b[0m \u001b[1;33m=\u001b[0m \u001b[0mpolynomial_descent\u001b[0m\u001b[1;33m(\u001b[0m\u001b[1;36m0.001\u001b[0m\u001b[1;33m,\u001b[0m \u001b[0mx\u001b[0m\u001b[1;33m[\u001b[0m\u001b[1;36m0\u001b[0m\u001b[1;33m:\u001b[0m\u001b[0mi\u001b[0m\u001b[1;33m]\u001b[0m\u001b[1;33m,\u001b[0m \u001b[0my\u001b[0m\u001b[1;33m[\u001b[0m\u001b[1;36m0\u001b[0m\u001b[1;33m:\u001b[0m\u001b[0mi\u001b[0m\u001b[1;33m]\u001b[0m\u001b[1;33m)\u001b[0m\u001b[1;33m\u001b[0m\u001b[1;33m\u001b[0m\u001b[0m\n\u001b[1;32m----> 8\u001b[1;33m         \u001b[0mvalidation_predictions\u001b[0m \u001b[1;33m=\u001b[0m \u001b[0mpoly_regression_prediction\u001b[0m\u001b[1;33m(\u001b[0m\u001b[0mtheta0\u001b[0m\u001b[1;33m,\u001b[0m \u001b[0mtheta1\u001b[0m\u001b[1;33m,\u001b[0m \u001b[0mx_val\u001b[0m\u001b[1;33m)\u001b[0m\u001b[1;33m\u001b[0m\u001b[1;33m\u001b[0m\u001b[0m\n\u001b[0m\u001b[0;32m      9\u001b[0m         \u001b[0mtraining_predictions\u001b[0m \u001b[1;33m=\u001b[0m \u001b[0mpoly_regression_prediction\u001b[0m\u001b[1;33m(\u001b[0m\u001b[0mtheta0\u001b[0m\u001b[1;33m,\u001b[0m \u001b[0mtheta1\u001b[0m\u001b[1;33m,\u001b[0m \u001b[0mx\u001b[0m\u001b[1;33m[\u001b[0m\u001b[1;36m0\u001b[0m\u001b[1;33m:\u001b[0m\u001b[0mi\u001b[0m\u001b[1;33m]\u001b[0m\u001b[1;33m)\u001b[0m\u001b[1;33m\u001b[0m\u001b[1;33m\u001b[0m\u001b[0m\n\u001b[0;32m     10\u001b[0m         \u001b[0mMSE_poly_validation\u001b[0m \u001b[1;33m=\u001b[0m \u001b[0mevaluate_poly_MSE\u001b[0m\u001b[1;33m(\u001b[0m\u001b[0mvalidation_predictions\u001b[0m\u001b[1;33m,\u001b[0m \u001b[0my_val\u001b[0m\u001b[1;33m,\u001b[0m \u001b[0mlen\u001b[0m\u001b[1;33m(\u001b[0m\u001b[0my_val\u001b[0m\u001b[1;33m)\u001b[0m\u001b[1;33m)\u001b[0m\u001b[1;33m\u001b[0m\u001b[1;33m\u001b[0m\u001b[0m\n",
      "\u001b[1;31mTypeError\u001b[0m: poly_regression_prediction() takes 2 positional arguments but 3 were given"
     ]
    },
    {
     "data": {
      "image/png": "[encoded data removed]",
      "text/plain": [
       "<Figure size 432x288 with 1 Axes>"
      ]
     },
     "metadata": {
      "needs_background": "light"
     },
     "output_type": "display_data"
    }
   ],
   "source": [
    "polynomial_learning_curves(x, y, x_val, y_val)"
   ]
  },
  {
   "cell_type": "markdown",
   "metadata": {},
   "source": [
    "################################################################################################################################"
   ]
  },
  {
   "cell_type": "markdown",
   "metadata": {},
   "source": [
    "## Step 12:"
   ]
  },
  {
   "cell_type": "code",
   "execution_count": null,
   "metadata": {},
   "outputs": [],
   "source": [
    "# def regression_validation_func(t0, t1, xval):\n",
    "#     f_theta = t0\n",
    "#     f_theta += t1*xval\n",
    "#     return f_theta\n",
    "\n",
    "# validate_predicted_values = []\n",
    "\n",
    "# for i in np.nditer(x_val):\n",
    "#     val_predicted_value = regression_validation_func(theta0, theta1, i)\n",
    "#     validate_predicted_values.append(val_predicted_value)\n",
    "# print(validate_predicted_values)"
   ]
  },
  {
   "cell_type": "code",
   "execution_count": null,
   "metadata": {},
   "outputs": [],
   "source": [
    "# def evaluate_validation_func(pred, yval):\n",
    "#     m = x_val.shape[0]\n",
    "#     MSE = (1/(2*m))*sum([(pred[i]-yval[i])**2 for i in range(m)])\n",
    "#     return MSE\n",
    "              \n",
    "# evaluation = evaluate_validation_func(validate_predicted_values, y_val)\n",
    "# print(\"MSE:\", evaluation)"
   ]
  },
  {
   "cell_type": "code",
   "execution_count": null,
   "metadata": {},
   "outputs": [],
   "source": [
    "# def exhaustive_search(t0, t1, x_val, y_val):\n",
    "#     lamb = [0, 0.001, 0.003, 0.01, 0.03, 0.1, 0.3, 1, 3, 10]\n",
    "#     m = x_val.shape[0]\n",
    "#     arr = []\n",
    "\n",
    "#     for i in lamb:\n",
    "#         hi = (lamb) * (t0**2 + t1**2)\n",
    "#         J_bye = sum([(t0 + t1*x_val[i] - y_val[i])**2 for i in range(m)])\n",
    "#         J_total = hi + J_bye\n",
    "#         print(J_total)\n",
    "\n",
    "# hpo = exhaustive_search(theta0, theta1, x_val, y_val)\n",
    "# print(hpo)"
   ]
  },
  {
   "cell_type": "code",
   "execution_count": 120,
   "metadata": {},
   "outputs": [
    {
     "ename": "ValueError",
     "evalue": "operands could not be broadcast together with shapes (12,8) (12,) (12,8) ",
     "output_type": "error",
     "traceback": [
      "\u001b[1;31m---------------------------------------------------------------------------\u001b[0m",
      "\u001b[1;31mValueError\u001b[0m                                Traceback (most recent call last)",
      "\u001b[1;32m<ipython-input-120-75685a9af008>\u001b[0m in \u001b[0;36m<module>\u001b[1;34m\u001b[0m\n\u001b[0;32m      2\u001b[0m \u001b[0mvalidation_error\u001b[0m \u001b[1;33m=\u001b[0m \u001b[1;33m[\u001b[0m\u001b[1;33m]\u001b[0m\u001b[1;33m\u001b[0m\u001b[1;33m\u001b[0m\u001b[0m\n\u001b[0;32m      3\u001b[0m \u001b[1;32mfor\u001b[0m \u001b[0mlamb\u001b[0m \u001b[1;32min\u001b[0m \u001b[0mlambda_values\u001b[0m\u001b[1;33m:\u001b[0m\u001b[1;33m\u001b[0m\u001b[1;33m\u001b[0m\u001b[0m\n\u001b[1;32m----> 4\u001b[1;33m     \u001b[0mtheta\u001b[0m \u001b[1;33m=\u001b[0m \u001b[0mlinear_regression_prediction\u001b[0m\u001b[1;33m(\u001b[0m\u001b[0mX_train_poly\u001b[0m\u001b[1;33m,\u001b[0m \u001b[0my\u001b[0m\u001b[1;33m,\u001b[0m \u001b[0mlamb\u001b[0m\u001b[1;33m)\u001b[0m\u001b[1;33m\u001b[0m\u001b[1;33m\u001b[0m\u001b[0m\n\u001b[0m\u001b[0;32m      5\u001b[0m     \u001b[0mvalidation_error\u001b[0m\u001b[1;33m.\u001b[0m\u001b[0mappend\u001b[0m\u001b[1;33m(\u001b[0m\u001b[0mj_theta\u001b[0m\u001b[1;33m(\u001b[0m\u001b[0mtheta\u001b[0m\u001b[1;33m,\u001b[0m \u001b[0mX_val_poly\u001b[0m\u001b[1;33m,\u001b[0m \u001b[0my_val\u001b[0m\u001b[1;33m)\u001b[0m\u001b[1;33m)\u001b[0m\u001b[1;33m\u001b[0m\u001b[1;33m\u001b[0m\u001b[0m\n\u001b[0;32m      6\u001b[0m \u001b[0mplt\u001b[0m\u001b[1;33m.\u001b[0m\u001b[0mplot\u001b[0m\u001b[1;33m(\u001b[0m\u001b[0mlambda_values\u001b[0m\u001b[1;33m,\u001b[0m \u001b[0mval_err\u001b[0m\u001b[1;33m,\u001b[0m \u001b[0mc\u001b[0m\u001b[1;33m=\u001b[0m\u001b[1;34m\"b\"\u001b[0m\u001b[1;33m,\u001b[0m \u001b[0mlinewidth\u001b[0m\u001b[1;33m=\u001b[0m\u001b[1;36m2\u001b[0m\u001b[1;33m)\u001b[0m\u001b[1;33m\u001b[0m\u001b[1;33m\u001b[0m\u001b[0m\n",
      "\u001b[1;32m<ipython-input-119-2641acd3784d>\u001b[0m in \u001b[0;36mlinear_regression_prediction\u001b[1;34m(t0, t1, x)\u001b[0m\n\u001b[0;32m      1\u001b[0m \u001b[1;32mdef\u001b[0m \u001b[0mlinear_regression_prediction\u001b[0m\u001b[1;33m(\u001b[0m\u001b[0mt0\u001b[0m\u001b[1;33m,\u001b[0m \u001b[0mt1\u001b[0m\u001b[1;33m,\u001b[0m \u001b[0mx\u001b[0m\u001b[1;33m)\u001b[0m\u001b[1;33m:\u001b[0m\u001b[1;33m\u001b[0m\u001b[1;33m\u001b[0m\u001b[0m\n\u001b[0;32m      2\u001b[0m    \u001b[0mregression\u001b[0m \u001b[1;33m=\u001b[0m \u001b[0mt0\u001b[0m\u001b[1;33m\u001b[0m\u001b[1;33m\u001b[0m\u001b[0m\n\u001b[1;32m----> 3\u001b[1;33m    \u001b[0mregression\u001b[0m \u001b[1;33m+=\u001b[0m \u001b[0mt1\u001b[0m\u001b[1;33m*\u001b[0m\u001b[0mx\u001b[0m\u001b[1;33m\u001b[0m\u001b[1;33m\u001b[0m\u001b[0m\n\u001b[0m\u001b[0;32m      4\u001b[0m    \u001b[1;32mreturn\u001b[0m \u001b[0mregression\u001b[0m\u001b[1;33m\u001b[0m\u001b[1;33m\u001b[0m\u001b[0m\n\u001b[0;32m      5\u001b[0m \u001b[1;33m\u001b[0m\u001b[0m\n",
      "\u001b[1;31mValueError\u001b[0m: operands could not be broadcast together with shapes (12,8) (12,) (12,8) "
     ]
    }
   ],
   "source": [
    "lambda_values = [0, 0.001, 0.003, 0.01, 0.03, 0.1, 0.3, 1, 3, 10]; # attempt at finding best lambda but ran out of time \n",
    "validation_error = []                                              # and could not figure out polynomial regression\n",
    "for lamb in lambda_values:\n",
    "    theta = linear_regression_prediction(X_train_poly, y, lamb)\n",
    "    validation_error.append(j_theta(theta, X_val_poly, y_val))\n",
    "plt.plot(lambda_values, val_err, c=\"b\", linewidth=2)\n",
    "plt.axis([0, len(lambda_values), 0, val_err[-1] + 1])\n",
    "plt.xlabel(\"Lambda\", fontsize=14)\n",
    "plt.ylabel(\"Error\", fontsize=14)\n",
    "plt.title(\"Validation Curve\", fontsize=16)\n",
    "plt.show()"
   ]
  },
  {
   "cell_type": "code",
   "execution_count": null,
   "metadata": {},
   "outputs": [],
   "source": []
  },
  {
   "cell_type": "markdown",
   "metadata": {},
   "source": [
    "################################################################################################################################"
   ]
  },
  {
   "cell_type": "markdown",
   "metadata": {},
   "source": [
    "## Step 13"
   ]
  },
  {
   "cell_type": "code",
   "execution_count": null,
   "metadata": {},
   "outputs": [],
   "source": []
  }
 ],
 "metadata": {
  "kernelspec": {
   "display_name": "Python 3",
   "language": "python",
   "name": "python3"
  },
  "language_info": {
   "codemirror_mode": {
    "name": "ipython",
    "version": 3
   },
   "file_extension": ".py",
   "mimetype": "text/x-python",
   "name": "python",
   "nbconvert_exporter": "python",
   "pygments_lexer": "ipython3",
   "version": "3.8.3"
  }
 },
 "nbformat": 4,
 "nbformat_minor": 2
}
