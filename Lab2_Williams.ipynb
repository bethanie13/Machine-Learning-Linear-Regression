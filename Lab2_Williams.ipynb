{
 "cells": [
  {
   "cell_type": "code",
   "execution_count": 42,
   "metadata": {},
   "outputs": [],
   "source": [
    "import pandas as pd\n",
    "import numpy as np\n",
    "import matplotlib\n",
    "import pylab\n",
    "import sklearn\n",
    "import scipy"
   ]
  },
  {
   "cell_type": "code",
   "execution_count": 43,
   "metadata": {},
   "outputs": [],
   "source": [
    "from pandas import read_csv\n",
    "from matplotlib import pyplot as plt\n",
    "from pandas.plotting import scatter_matrix\n",
    "from sklearn.datasets.samples_generator import make_regression \n",
    "from sklearn.model_selection import train_test_split\n",
    "from sklearn.model_selection import cross_val_score\n",
    "from sklearn.model_selection import StratifiedKFold\n",
    "from sklearn.metrics import classification_report\n",
    "from sklearn.metrics import confusion_matrix\n",
    "from sklearn.metrics import accuracy_score\n",
    "from sklearn.linear_model import LogisticRegression\n",
    "from sklearn.tree import DecisionTreeClassifier\n",
    "from sklearn.neighbors import KNeighborsClassifier\n",
    "from sklearn.discriminant_analysis import LinearDiscriminantAnalysis\n",
    "from sklearn.naive_bayes import GaussianNB\n",
    "from sklearn.svm import SVC\n",
    "from scipy import stats"
   ]
  },
  {
   "cell_type": "code",
   "execution_count": 44,
   "metadata": {},
   "outputs": [
    {
     "name": "stdout",
     "output_type": "stream",
     "text": [
      "    x_training  y_training   x_test    y_test    x_val      y_val\n",
      "0     -15.9368      2.1343 -33.3180   3.31690 -16.7465   4.170200\n",
      "1     -29.1530      1.1733 -37.9122   5.39770 -14.5775   4.067300\n",
      "2      36.1895     34.3591 -51.2069   0.13043  34.5158  31.873100\n",
      "3      37.4922     36.8380  -6.1326   6.19260 -47.0101  10.623700\n",
      "4     -48.0588      2.8090  21.2612  17.08850  36.9751  31.836000\n",
      "5      -8.9415      2.1211 -40.3195   0.79951 -40.6861   4.959400\n",
      "6      15.3078     14.7103 -14.5415   2.82480  -4.4720   4.451600\n",
      "7     -34.7063      2.6142  32.5598  28.62120  26.5336  22.276300\n",
      "8       1.3892      3.7402  13.3934  17.04640 -42.7977  -0.000044\n",
      "9     -44.3838      3.7317  44.2099  55.38440  25.3741  20.503800\n",
      "10      7.0135      7.6277  -1.1427   4.07940 -31.1096   3.858300\n",
      "11     22.7627     22.7524 -12.7669   8.27040  27.3118  19.365100\n",
      "12         NaN         NaN  34.0545  31.32360  -3.2639   4.883800\n",
      "13         NaN         NaN  39.2235  39.15910  -1.8183  11.097200\n",
      "14         NaN         NaN   1.9745   8.08730 -40.7197   7.461700\n",
      "15         NaN         NaN  29.6218  24.11130 -50.0132   1.476900\n",
      "16         NaN         NaN -23.6696   2.47740 -17.4118   2.719200\n",
      "17         NaN         NaN  -9.0118   6.56610   3.5882  10.926900\n",
      "18         NaN         NaN -55.9406   6.03810   7.0855   8.348700\n",
      "19         NaN         NaN -35.7086   4.69270  46.2824  52.781900\n",
      "20         NaN         NaN   9.5102  10.83000  14.6123  13.357300\n"
     ]
    }
   ],
   "source": [
    "dataset = read_csv(r'C:\\Users\\betha\\OneDrive\\Documents\\CSC5220\\Lab2_dataset.csv')  # importing csv\n",
    "print(dataset)"
   ]
  },
  {
   "cell_type": "code",
   "execution_count": 45,
   "metadata": {},
   "outputs": [
    {
     "name": "stdout",
     "output_type": "stream",
     "text": [
      "Training Set: \n",
      "    x_training  y_training\n",
      "0     -15.9368      2.1343\n",
      "1     -29.1530      1.1733\n",
      "2      36.1895     34.3591\n",
      "3      37.4922     36.8380\n",
      "4     -48.0588      2.8090\n",
      "5      -8.9415      2.1211\n",
      "6      15.3078     14.7103\n",
      "7     -34.7063      2.6142\n",
      "8       1.3892      3.7402\n",
      "9     -44.3838      3.7317\n",
      "10      7.0135      7.6277\n",
      "11     22.7627     22.7524\n",
      "12         NaN         NaN\n",
      "13         NaN         NaN\n",
      "14         NaN         NaN\n",
      "15         NaN         NaN\n",
      "16         NaN         NaN\n",
      "17         NaN         NaN\n",
      "18         NaN         NaN\n",
      "19         NaN         NaN\n",
      "20         NaN         NaN\n",
      "\n",
      "Test Set:\n",
      "     x_test    y_test\n",
      "0  -33.3180   3.31690\n",
      "1  -37.9122   5.39770\n",
      "2  -51.2069   0.13043\n",
      "3   -6.1326   6.19260\n",
      "4   21.2612  17.08850\n",
      "5  -40.3195   0.79951\n",
      "6  -14.5415   2.82480\n",
      "7   32.5598  28.62120\n",
      "8   13.3934  17.04640\n",
      "9   44.2099  55.38440\n",
      "10  -1.1427   4.07940\n",
      "11 -12.7669   8.27040\n",
      "12  34.0545  31.32360\n",
      "13  39.2235  39.15910\n",
      "14   1.9745   8.08730\n",
      "15  29.6218  24.11130\n",
      "16 -23.6696   2.47740\n",
      "17  -9.0118   6.56610\n",
      "18 -55.9406   6.03810\n",
      "19 -35.7086   4.69270\n",
      "20   9.5102  10.83000\n",
      "\n",
      "Validation Set:\n",
      "      x_val      y_val\n",
      "0  -16.7465   4.170200\n",
      "1  -14.5775   4.067300\n",
      "2   34.5158  31.873100\n",
      "3  -47.0101  10.623700\n",
      "4   36.9751  31.836000\n",
      "5  -40.6861   4.959400\n",
      "6   -4.4720   4.451600\n",
      "7   26.5336  22.276300\n",
      "8  -42.7977  -0.000044\n",
      "9   25.3741  20.503800\n",
      "10 -31.1096   3.858300\n",
      "11  27.3118  19.365100\n",
      "12  -3.2639   4.883800\n",
      "13  -1.8183  11.097200\n",
      "14 -40.7197   7.461700\n",
      "15 -50.0132   1.476900\n",
      "16 -17.4118   2.719200\n",
      "17   3.5882  10.926900\n",
      "18   7.0855   8.348700\n",
      "19  46.2824  52.781900\n",
      "20  14.6123  13.357300\n",
      "\n"
     ]
    }
   ],
   "source": [
    "print(\"Training Set: \")  # defining training set\n",
    "x_training = dataset.iloc[:12, :1]  # gets rows until the 12th row and first two columns\n",
    "y_training = dataset.iloc[:12, 1:2]\n",
    "training_set = print(dataset[[\"x_training\", \"y_training\"]])\n",
    "print()\n",
    "\n",
    "print(\"Test Set:\")  # defining test set\n",
    "x_testing = dataset.iloc[:, 2:3]  # gets all rows and next two columns\n",
    "y_testing = dataset.iloc[:, 3:4]\n",
    "testing_set =  print(dataset[[\"x_test\", \"y_test\"]])\n",
    "print()\n",
    "\n",
    "print(\"Validation Set:\")  # defining validation set\n",
    "x_validate = dataset.iloc[:, 4:5]  # gets all rows and last two columns\n",
    "y_validate = dataset.iloc[:, 5:6]\n",
    "validation_set =  print(dataset[[\"x_val\", \"y_val\"]])\n",
    "print()"
   ]
  },
  {
   "cell_type": "code",
   "execution_count": 46,
   "metadata": {},
   "outputs": [],
   "source": [
    "# Turning data sets into arrays\n",
    "x = np.array(x_training.values)  # array = dataset.values\n",
    "x = x[np.logical_not(np.isnan(x))]  # remove nan values from my array\n",
    "# print(x)\n",
    "# print()\n",
    "\n",
    "y = np.array(y_training.values)\n",
    "y = y[np.logical_not(np.isnan(y))]  # remove nan values from my array\n",
    "# print(y)\n",
    "# print()\n",
    "\n",
    "x_test = np.array(x_testing.values)\n",
    "# print(x_test)\n",
    "# print()\n",
    "\n",
    "y_test = np.array(y_testing.values)\n",
    "# print(y_test)\n",
    "# print()\n",
    "\n",
    "x_val = np.array(x_validate.values)\n",
    "# print(x_val)\n",
    "# print()\n",
    "\n",
    "y_val = np.array(y_validate.values)\n",
    "# print(y_val)\n",
    "# print()"
   ]
  },
  {
   "cell_type": "code",
   "execution_count": 47,
   "metadata": {},
   "outputs": [
    {
     "name": "stdout",
     "output_type": "stream",
     "text": [
      "Training Data:\n",
      "\n",
      "[-15.9368 -29.153   36.1895  37.4922 -48.0588  -8.9415  15.3078 -34.7063\n",
      "   1.3892 -44.3838   7.0135  22.7627]\n",
      "\n",
      "[ 2.1343  1.1733 34.3591 36.838   2.809   2.1211 14.7103  2.6142  3.7402\n",
      "  3.7317  7.6277 22.7524]\n"
     ]
    }
   ],
   "source": [
    "print(\"Training Data:\")\n",
    "print()\n",
    "\n",
    "print(x)\n",
    "print()\n",
    "print(y)"
   ]
  },
  {
   "cell_type": "code",
   "execution_count": 48,
   "metadata": {},
   "outputs": [
    {
     "data": {
      "image/png": "[encoded data removed]",
      "text/plain": [
       "<Figure size 432x288 with 1 Axes>"
      ]
     },
     "metadata": {
      "needs_background": "light"
     },
     "output_type": "display_data"
    }
   ],
   "source": [
    "x_train = dataset['x_training'].tolist()\n",
    "y_train = dataset['y_training'].tolist()\n",
    "plt.scatter(x_train, y_train)\n",
    "plt.xlabel('x-training')  # labels x-axis\n",
    "plt.ylabel('y-training')  # labels y-axis\n",
    "plt.show()  # displays scatter plot"
   ]
  },
  {
   "cell_type": "code",
   "execution_count": 49,
   "metadata": {},
   "outputs": [],
   "source": [
    "def gradient_descent(alpha, x, y, lamb=0, conv=0.0001, max_iter=10000): # input alpha=learning rate, x and = data,\n",
    "    converged = False                                                   #  convergence thresh= 0.0001, max_iter = 10000\n",
    "    iteration = 0\n",
    "    m = x.shape[0] # number of samples\n",
    "\n",
    "    # initial theta\n",
    "    t_n = ([0.0,0.0])\n",
    "    num_thetas = len(t_n)\n",
    "#     t0 = np.random.random(x.shape[1])\n",
    "#     t1 = np.random.random(x.shape[1])\n",
    "\n",
    "    # total error, J(theta)\n",
    "    J = sum([(t_n[0] + t_n[1]*x[i] - y[i])**2 for i in range(m)]) + (lamb * sum(t_n[i] ** 2 for i in range(num_thetas)))\n",
    "\n",
    "    # Iterate Loop\n",
    "    while not converged:\n",
    "        # for each training sample, compute the gradient (d/d_theta j(theta))\n",
    "        grad0 = 1.0/m * sum([(t_n[0] + t_n[1]*x[i] - y[i]) for i in range(m)]) \n",
    "        grad1 = 1.0/m * sum([(t_n[0] + t_n[1]*x[i] - y[i])*x[i] for i in range(m)])\n",
    "\n",
    "        # update the theta_temp\n",
    "        temp0 = t_n[0] - alpha * grad0\n",
    "        temp1 = ((1.0 -((alpha * lamb)/m)) * t_n[1]) - alpha * grad1\n",
    "    \n",
    "        # update theta\n",
    "        t_n[0] = (temp0)\n",
    "        t_n[1] = (temp1)\n",
    "\n",
    "        # mean squared error\n",
    "        e = sum([ (t_n[0] + t_n[1]*x[i] - y[i])**2 for i in range(m)]) + (lamb * sum([t_n[i]**2 for i in range(num_thetas)])) \n",
    "        \n",
    "        if abs(J-e) <= conv:\n",
    "            print('Converged, iterations: ', iteration, '!!!')\n",
    "            converged = True\n",
    "    \n",
    "        J = e   # update error \n",
    "        iteration += 1  # update iter\n",
    "    \n",
    "        if iteration == max_iter:\n",
    "            print('Max interactions exceeded!')\n",
    "            converged = True\n",
    "    \n",
    "    print(t_n, iteration-1, \"iterations\")\n",
    "            \n",
    "    for i in range(num_thetas):\n",
    "        y_predict = t_n[0] + t_n[1]*x\n",
    "\n",
    "    plt.plot(x, y, 'o', label = \"original data\")\n",
    "    plt.plot(x, y_predict, label = \"predicted data\")\n",
    "    plt.xlabel('x')  # labels x-axis\n",
    "    plt.ylabel('y')  # labels y-axis\n",
    "    plt.legend(loc = \"best\")\n",
    "    plt.show()\n",
    "\n",
    "    return t_n[0], t_n[1]"
   ]
  },
  {
   "cell_type": "code",
   "execution_count": 50,
   "metadata": {},
   "outputs": [
    {
     "name": "stdout",
     "output_type": "stream",
     "text": [
      "Converged, iterations:  5445 !!!\n",
      "[13.021432891787487, 0.36738026698713894] 5445 iterations\n"
     ]
    },
    {
     "data": {
      "image/png": "[encoded data removed]",
      "text/plain": [
       "<Figure size 432x288 with 1 Axes>"
      ]
     },
     "metadata": {
      "needs_background": "light"
     },
     "output_type": "display_data"
    },
    {
     "name": "stdout",
     "output_type": "stream",
     "text": [
      "13.021432891787487 0.36738026698713894\n"
     ]
    }
   ],
   "source": [
    "theta0, theta1= gradient_descent(0.001, x, y)\n",
    "print (theta0, theta1)"
   ]
  },
  {
   "cell_type": "code",
   "execution_count": 55,
   "metadata": {},
   "outputs": [],
   "source": [
    "def work_properly(alpha, x, y, lamb=0, conv=0.0001, max_iter=10000): # input alpha=learning rate, x and = data,\n",
    "    converged = False                                                   #  convergence thresh= 0.0001, max_iter = 10000\n",
    "    iteration = 0\n",
    "    m = x.shape[0] # number of samples\n",
    "\n",
    "    # initial theta\n",
    "    t_n = ([0.0,0.0])\n",
    "    num_thetas = len(t_n)\n",
    "\n",
    "    # total error, J(theta)\n",
    "    J = sum([(t_n[0] + t_n[1]*x[i] - y[i])**2 for i in range(m)]) + (lamb * sum(t_n[i] ** 2 for i in range(num_thetas)))\n",
    "\n",
    "    # Iterate Loop\n",
    "    while not converged:\n",
    "        # for each training sample, compute the gradient (d/d_theta j(theta))\n",
    "        grad0 = 1.0/m * sum([(t_n[0] + t_n[1]*x[i] - y[i]) for i in range(m)]) \n",
    "        grad1 = 1.0/m * sum([(t_n[0] + t_n[1]*x[i] - y[i])*x[i] for i in range(m)])\n",
    "\n",
    "        # update the theta_temp\n",
    "        temp0 = t_n[0] - alpha * grad0\n",
    "        temp1 = ((1.0 -((alpha * lamb)/m)) * t_n[1]) - alpha * grad1\n",
    "    \n",
    "        # update theta\n",
    "        t_n[0] = (temp0)\n",
    "        t_n[1] = (temp1)\n",
    "\n",
    "        # mean squared error\n",
    "        e = sum([ (t_n[0] + t_n[1]*x[i] - y[i])**2 for i in range(m)]) + (lamb * sum([t_n[i]**2 for i in range(num_thetas)])) \n",
    "        \n",
    "        if abs(J-e) <= conv:\n",
    "            converged = True\n",
    "    \n",
    "        J = e   # update error \n",
    "        iteration += 1  # update iter\n",
    "    \n",
    "        if iteration == max_iter:\n",
    "            print('Max interactions exceeded!')\n",
    "            converged = True\n",
    "        \n",
    "        for i in range(num_thetas):\n",
    "            y_predict = t_n[0] + t_n[1]*x\n",
    "\n",
    "            plt.plot(iteration, J, 'o', label = \"original data\")\n",
    "            plt.xlabel('Iterations')  # labels x-axis\n",
    "            plt.ylabel('J theta')  # labels y-axis\n",
    "\n",
    "\n",
    "    return J, iteration-1"
   ]
  },
  {
   "cell_type": "code",
   "execution_count": 56,
   "metadata": {},
   "outputs": [
    {
     "name": "stdout",
     "output_type": "stream",
     "text": [
      "(537.024955872586, 5445)\n"
     ]
    },
    {
     "data": {
      "image/png": "[encoded data removed]",
      "text/plain": [
       "<Figure size 432x288 with 1 Axes>"
      ]
     },
     "metadata": {
      "needs_background": "light"
     },
     "output_type": "display_data"
    }
   ],
   "source": [
    "results= work_properly(0.001, x, y)\n",
    "print (results)"
   ]
  },
  {
   "cell_type": "code",
   "execution_count": 53,
   "metadata": {},
   "outputs": [
    {
     "name": "stdout",
     "output_type": "stream",
     "text": [
      "Predicted Values:\n",
      "[7.166567052866852, 2.3111959683114254, 26.316741063918553, 26.795327337722696, -4.634421883294024, 9.736502234521986, 18.645216542773213, 0.27102313165174685, 13.531797558686021, -3.2842994021162895, 15.598054394301787, 21.383999695135635]\n"
     ]
    }
   ],
   "source": [
    "print(\"Predicted Values:\")\n",
    "\n",
    "def regression_func(t0, t1, x):\n",
    "    f_theta = t0\n",
    "    f_theta += t1*x\n",
    "    return f_theta\n",
    "\n",
    "predicted_values = []\n",
    "\n",
    "for i in np.nditer(x):\n",
    "    predicted_value = regression_func(theta0, theta1, i)\n",
    "    predicted_values.append(predicted_value)\n",
    "print(predicted_values)"
   ]
  },
  {
   "cell_type": "code",
   "execution_count": 57,
   "metadata": {},
   "outputs": [
    {
     "name": "stdout",
     "output_type": "stream",
     "text": [
      "MSE: 22.376039828024417\n"
     ]
    }
   ],
   "source": [
    "def evaluate_func(pred, y):\n",
    "    m = x.shape[0]\n",
    "    MSE = (1/(2*m))*sum([(pred[i]-y[i])**2 for i in range(m)])\n",
    "    return MSE\n",
    "              \n",
    "evaluation = evaluate_func(predicted_values, y)\n",
    "print(\"MSE:\", evaluation)"
   ]
  },
  {
   "cell_type": "code",
   "execution_count": null,
   "metadata": {},
   "outputs": [],
   "source": []
  }
 ],
 "metadata": {
  "kernelspec": {
   "display_name": "Python 3",
   "language": "python",
   "name": "python3"
  },
  "language_info": {
   "codemirror_mode": {
    "name": "ipython",
    "version": 3
   },
   "file_extension": ".py",
   "mimetype": "text/x-python",
   "name": "python",
   "nbconvert_exporter": "python",
   "pygments_lexer": "ipython3",
   "version": "3.8.3"
  }
 },
 "nbformat": 4,
 "nbformat_minor": 2
}
