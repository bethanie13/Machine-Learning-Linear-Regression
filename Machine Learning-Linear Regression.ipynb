{
 "cells": [
  {
   "cell_type": "markdown",
   "metadata": {},
   "source": [
    "####  Bethanie Williams\n",
    "####  Data Mining and Machine Learning\n",
    "####  Supervised Learning: Linear Regression\n",
    "####  Date: 9/17/20"
   ]
  },
  {
   "cell_type": "code",
   "execution_count": 1,
   "metadata": {},
   "outputs": [],
   "source": [
    "import pandas as pd\n",
    "import numpy as np\n",
    "import matplotlib   # import python libraries that I will need to use\n",
    "import pylab\n",
    "import sklearn\n",
    "import scipy"
   ]
  },
  {
   "cell_type": "code",
   "execution_count": 2,
   "metadata": {},
   "outputs": [],
   "source": [
    "from pandas import read_csv\n",
    "from matplotlib import pyplot as plt\n",
    "from pandas.plotting import scatter_matrix\n",
    "from sklearn import linear_model \n",
    "from sklearn.linear_model import LinearRegression\n",
    "from sklearn.model_selection import learning_curve\n",
    "from sklearn.preprocessing import PolynomialFeatures\n",
    "from scipy import optimize\n",
    "from sklearn.linear_model import Ridge\n",
    "from sklearn.metrics import mean_squared_error\n",
    "from sklearn.metrics import r2_score"
   ]
  },
  {
   "cell_type": "markdown",
   "metadata": {},
   "source": [
    "## Step 1: Importing Data "
   ]
  },
  {
   "cell_type": "code",
   "execution_count": 3,
   "metadata": {},
   "outputs": [
    {
     "name": "stdout",
     "output_type": "stream",
     "text": [
      "          X        y    Xtest     ytest     Xval       yval\n",
      "0  -15.9368   2.1343 -33.3180   3.31690 -16.7465   4.170200\n",
      "1  -29.1530   1.1733 -37.9122   5.39770 -14.5775   4.067300\n",
      "2   36.1895  34.3591 -51.2069   0.13043  34.5158  31.873100\n",
      "3   37.4922  36.8380  -6.1326   6.19260 -47.0101  10.623700\n",
      "4  -48.0588   2.8090  21.2612  17.08850  36.9751  31.836000\n",
      "5   -8.9415   2.1211 -40.3195   0.79951 -40.6861   4.959400\n",
      "6   15.3078  14.7103 -14.5415   2.82480  -4.4720   4.451600\n",
      "7  -34.7063   2.6142  32.5598  28.62120  26.5336  22.276300\n",
      "8    1.3892   3.7402  13.3934  17.04640 -42.7977  -0.000044\n",
      "9  -44.3838   3.7317  44.2099  55.38440  25.3741  20.503800\n",
      "10   7.0135   7.6277  -1.1427   4.07940 -31.1096   3.858300\n",
      "11  22.7627  22.7524 -12.7669   8.27040  27.3118  19.365100\n",
      "12      NaN      NaN  34.0545  31.32360  -3.2639   4.883800\n",
      "13      NaN      NaN  39.2235  39.15910  -1.8183  11.097200\n",
      "14      NaN      NaN   1.9745   8.08730 -40.7197   7.461700\n",
      "15      NaN      NaN  29.6218  24.11130 -50.0132   1.476900\n",
      "16      NaN      NaN -23.6696   2.47740 -17.4118   2.719200\n",
      "17      NaN      NaN  -9.0118   6.56610   3.5882  10.926900\n",
      "18      NaN      NaN -55.9406   6.03810   7.0855   8.348700\n",
      "19      NaN      NaN -35.7086   4.69270  46.2824  52.781900\n",
      "20      NaN      NaN   9.5102  10.83000  14.6123  13.357300\n"
     ]
    }
   ],
   "source": [
    "dataset = read_csv(r'C:\\Users\\betha\\OneDrive\\Documents\\CSC 5220\\Lab2_dataset.csv')  # importing csv\n",
    "print(dataset)  # you will probably need to change the file directory"
   ]
  },
  {
   "cell_type": "code",
   "execution_count": 4,
   "metadata": {},
   "outputs": [
    {
     "name": "stdout",
     "output_type": "stream",
     "text": [
      "Training Set: \n",
      "          X        y\n",
      "0  -15.9368   2.1343\n",
      "1  -29.1530   1.1733\n",
      "2   36.1895  34.3591\n",
      "3   37.4922  36.8380\n",
      "4  -48.0588   2.8090\n",
      "5   -8.9415   2.1211\n",
      "6   15.3078  14.7103\n",
      "7  -34.7063   2.6142\n",
      "8    1.3892   3.7402\n",
      "9  -44.3838   3.7317\n",
      "10   7.0135   7.6277\n",
      "11  22.7627  22.7524\n",
      "12      NaN      NaN\n",
      "13      NaN      NaN\n",
      "14      NaN      NaN\n",
      "15      NaN      NaN\n",
      "16      NaN      NaN\n",
      "17      NaN      NaN\n",
      "18      NaN      NaN\n",
      "19      NaN      NaN\n",
      "20      NaN      NaN\n",
      "\n",
      "Test Set:\n",
      "      Xtest     ytest\n",
      "0  -33.3180   3.31690\n",
      "1  -37.9122   5.39770\n",
      "2  -51.2069   0.13043\n",
      "3   -6.1326   6.19260\n",
      "4   21.2612  17.08850\n",
      "5  -40.3195   0.79951\n",
      "6  -14.5415   2.82480\n",
      "7   32.5598  28.62120\n",
      "8   13.3934  17.04640\n",
      "9   44.2099  55.38440\n",
      "10  -1.1427   4.07940\n",
      "11 -12.7669   8.27040\n",
      "12  34.0545  31.32360\n",
      "13  39.2235  39.15910\n",
      "14   1.9745   8.08730\n",
      "15  29.6218  24.11130\n",
      "16 -23.6696   2.47740\n",
      "17  -9.0118   6.56610\n",
      "18 -55.9406   6.03810\n",
      "19 -35.7086   4.69270\n",
      "20   9.5102  10.83000\n",
      "\n",
      "Validation Set:\n",
      "       Xval       yval\n",
      "0  -16.7465   4.170200\n",
      "1  -14.5775   4.067300\n",
      "2   34.5158  31.873100\n",
      "3  -47.0101  10.623700\n",
      "4   36.9751  31.836000\n",
      "5  -40.6861   4.959400\n",
      "6   -4.4720   4.451600\n",
      "7   26.5336  22.276300\n",
      "8  -42.7977  -0.000044\n",
      "9   25.3741  20.503800\n",
      "10 -31.1096   3.858300\n",
      "11  27.3118  19.365100\n",
      "12  -3.2639   4.883800\n",
      "13  -1.8183  11.097200\n",
      "14 -40.7197   7.461700\n",
      "15 -50.0132   1.476900\n",
      "16 -17.4118   2.719200\n",
      "17   3.5882  10.926900\n",
      "18   7.0855   8.348700\n",
      "19  46.2824  52.781900\n",
      "20  14.6123  13.357300\n",
      "\n"
     ]
    }
   ],
   "source": [
    "print(\"Training Set: \")  # defining training set\n",
    "x_training = dataset.iloc[:12, :1]  # gets rows until the 12th row and first two columns\n",
    "y_training = dataset.iloc[:12, 1:2]\n",
    "training_set = print(dataset[[\"X\", \"y\"]])\n",
    "print()\n",
    "\n",
    "print(\"Test Set:\")  # defining test set\n",
    "x_testing = dataset.iloc[:, 2:3]  # gets all rows and next two columns\n",
    "y_testing = dataset.iloc[:, 3:4]\n",
    "testing_set =  print(dataset[[\"Xtest\", \"ytest\"]])\n",
    "print()\n",
    "\n",
    "print(\"Validation Set:\")  # defining validation set\n",
    "x_validate = dataset.iloc[:, 4:5]  # gets all rows and last two columns\n",
    "y_validate = dataset.iloc[:, 5:6]\n",
    "validation_set =  print(dataset[[\"Xval\", \"yval\"]])\n",
    "print()"
   ]
  },
  {
   "cell_type": "markdown",
   "metadata": {},
   "source": [
    "## Step 2: Defining train, test, and validation sets"
   ]
  },
  {
   "cell_type": "code",
   "execution_count": 5,
   "metadata": {},
   "outputs": [],
   "source": [
    "# Turning data sets into arrays\n",
    "x = np.array(x_training.values)  # array = dataset.values\n",
    "x = x[np.logical_not(np.isnan(x))]  # remove nan values from my array\n",
    "# print(x)\n",
    "# print()\n",
    "\n",
    "y = np.array(y_training.values)\n",
    "y = y[np.logical_not(np.isnan(y))]  # remove nan values from my array\n",
    "# print(y)\n",
    "# print()\n",
    "\n",
    "x_test = np.array(x_testing.values)\n",
    "# print(x_test)\n",
    "# print()\n",
    "\n",
    "y_test = np.array(y_testing.values)\n",
    "# print(y_test)\n",
    "# print()\n",
    "\n",
    "x_val = np.array(x_validate.values)\n",
    "# print(x_val)\n",
    "# print()\n",
    "\n",
    "y_val = np.array(y_validate.values)\n",
    "# print(y_val)\n",
    "# print()"
   ]
  },
  {
   "cell_type": "code",
   "execution_count": 6,
   "metadata": {},
   "outputs": [
    {
     "name": "stdout",
     "output_type": "stream",
     "text": [
      "Training Data:\n",
      "\n",
      "[-15.9368 -29.153   36.1895  37.4922 -48.0588  -8.9415  15.3078 -34.7063\n",
      "   1.3892 -44.3838   7.0135  22.7627]\n",
      "\n",
      "[ 2.1343  1.1733 34.3591 36.838   2.809   2.1211 14.7103  2.6142  3.7402\n",
      "  3.7317  7.6277 22.7524]\n"
     ]
    }
   ],
   "source": [
    "print(\"Training Data:\") # print training data out to ensure correct values\n",
    "print()\n",
    "\n",
    "print(x)  # printing x training values\n",
    "print()\n",
    "print(y)  # printing y training values"
   ]
  },
  {
   "cell_type": "markdown",
   "metadata": {},
   "source": [
    "###############################################################################################################################"
   ]
  },
  {
   "cell_type": "markdown",
   "metadata": {},
   "source": [
    "## Step 3: Plot Training Data"
   ]
  },
  {
   "cell_type": "code",
   "execution_count": 7,
   "metadata": {},
   "outputs": [
    {
     "data": {
      "image/png": "[encoded data removed]",
      "text/plain": [
       "<Figure size 432x288 with 1 Axes>"
      ]
     },
     "metadata": {
      "needs_background": "light"
     },
     "output_type": "display_data"
    }
   ],
   "source": [
    "plt.title(\"Training Data\")\n",
    "x_train = dataset['X'].tolist()  # plotting training data\n",
    "y_train = dataset['y'].tolist()\n",
    "plt.scatter(x_train, y_train)  # scatter plot of data\n",
    "plt.xlabel('Change in water level (x)')  # labels x-axis\n",
    "plt.ylabel('Water flowing out of the dam (y)')  # labels y-axis\n",
    "plt.show()  # displays scatter plot"
   ]
  },
  {
   "cell_type": "markdown",
   "metadata": {},
   "source": [
    "###############################################################################################################################"
   ]
  },
  {
   "cell_type": "markdown",
   "metadata": {},
   "source": [
    "## Step 4: Create Gradient Descent "
   ]
  },
  {
   "cell_type": "code",
   "execution_count": 8,
   "metadata": {},
   "outputs": [],
   "source": [
    "def gradient_descent(alpha, x, y, lamb=0, conv=0.0001, max_iter=10000): # input alpha=learning rate, x and = data,\n",
    "    converged = False                                                   #  convergence thresh= 0.0001, max_iter = 10000\n",
    "    iteration = 0 # set iteration counter to 0\n",
    "    m = x.shape[0] # number of samples\n",
    "    t_n = ([0.0,0.0])  # initial theta\n",
    "    num_thetas = len(t_n) # length of theta array\n",
    "\n",
    "    # total error, J(theta)\n",
    "    J = sum([(t_n[0] + t_n[1]*x[i] - y[i])**2 for i in range(m)]) + (lamb * sum(t_n[i] ** 2 for i in range(num_thetas)))\n",
    "\n",
    "    while not converged:# Iterate Loop until convergence has happened\n",
    "        \n",
    "        # for each training sample, compute the gradient (d/d_theta j(theta))\n",
    "        grad0 = 1.0/m * sum([(t_n[0] + t_n[1]*x[i] - y[i]) for i in range(m)]) \n",
    "        grad1 = 1.0/m * sum([(t_n[0] + t_n[1]*x[i] - y[i])*x[i] for i in range(m)])\n",
    "\n",
    "        # update the theta_temp\n",
    "        temp0 = t_n[0] - alpha * grad0\n",
    "        temp1 = ((1.0 -((alpha * lamb)/m)) * t_n[1]) - alpha * grad1\n",
    "    \n",
    "        # update theta\n",
    "        t_n[0] = (temp0)\n",
    "        t_n[1] = (temp1)\n",
    "\n",
    "        # mean squared error\n",
    "        e = sum([ (t_n[0] + t_n[1]*x[i] - y[i])**2 for i in range(m)]) + (lamb * sum([t_n[i]**2 for i in range(num_thetas)])) \n",
    "        \n",
    "        if abs(J-e) <= conv: \n",
    "            print('Converged, iterations: ', iteration, '!!!')\n",
    "            converged = True\n",
    "    \n",
    "        J = e   # update error \n",
    "        iteration += 1  # update iter\n",
    "    \n",
    "        if iteration == max_iter:\n",
    "            print('Max interactions exceeded!')\n",
    "            converged = True\n",
    "            \n",
    "        for i in range(num_thetas):\n",
    "            y_predict = t_n[0] + t_n[1]*x\n",
    "    \n",
    "    print(\"Theta0 =\", t_n[0], \"Theta1 =\", t_n[1]) # theta0 is y-intercept, theta1 is slope\n",
    "\n",
    "    return t_n[0], t_n[1]  # returns theta0 and theta1"
   ]
  },
  {
   "cell_type": "code",
   "execution_count": 9,
   "metadata": {},
   "outputs": [
    {
     "name": "stdout",
     "output_type": "stream",
     "text": [
      "Converged, iterations:  5445 !!!\n",
      "Theta0 = 13.021432891787487 Theta1 = 0.36738026698713894\n"
     ]
    }
   ],
   "source": [
    "theta0, theta1= gradient_descent(0.001, x, y)\n",
    "# print (theta0, theta1)"
   ]
  },
  {
   "cell_type": "markdown",
   "metadata": {},
   "source": [
    "################################################################################################################################"
   ]
  },
  {
   "cell_type": "markdown",
   "metadata": {},
   "source": [
    "## Step 5: Plot J-Theta with respect to Iterations"
   ]
  },
  {
   "cell_type": "code",
   "execution_count": 10,
   "metadata": {},
   "outputs": [],
   "source": [
    "def work_properly(alpha, x, y, lamb=0, conv=0.0001, max_iter=10000): # input alpha=learning rate, x and = data,\n",
    "    converged = False                                                   #  convergence thresh= 0.0001, max_iter = 10000\n",
    "    iteration = 0  # set iteration counter to 0\n",
    "    m = x.shape[0] # number of samples\n",
    "    t_n = ([0.0,0.0]) # initial theta\n",
    "    num_thetas = len(t_n) # length of theta array\n",
    "\n",
    "    # total error, J(theta)\n",
    "    J = sum([(t_n[0] + t_n[1]*x[i] - y[i])**2 for i in range(m)]) + (lamb * sum(t_n[i] ** 2 for i in range(num_thetas)))\n",
    "\n",
    "    while not converged: # Iterate Loop until convergence has happened\n",
    "        \n",
    "        # for each training sample, compute the gradient (d/d_theta j(theta))\n",
    "        grad0 = 1.0/m * sum([(t_n[0] + t_n[1]*x[i] - y[i]) for i in range(m)]) \n",
    "        grad1 = 1.0/m * sum([(t_n[0] + t_n[1]*x[i] - y[i])*x[i] for i in range(m)])\n",
    "\n",
    "        # update the theta_temp\n",
    "        temp0 = t_n[0] - alpha * grad0\n",
    "        temp1 = ((1.0 -((alpha * lamb)/m)) * t_n[1]) - alpha * grad1\n",
    "    \n",
    "        # update theta\n",
    "        t_n[0] = (temp0)\n",
    "        t_n[1] = (temp1)\n",
    "\n",
    "        # mean squared error\n",
    "        e = sum([ (t_n[0] + t_n[1]*x[i] - y[i])**2 for i in range(m)]) + (lamb * sum([t_n[i]**2 for i in range(num_thetas)])) \n",
    "        \n",
    "        if abs(J-e) <= conv:\n",
    "            converged = True\n",
    "    \n",
    "        J = e   # update error \n",
    "        iteration += 1  # update iter\n",
    "    \n",
    "        if iteration == max_iter:\n",
    "            print('Max interactions exceeded!')\n",
    "            converged = True\n",
    "        \n",
    "        for i in range(num_thetas):\n",
    "            y_predict = t_n[0] + t_n[1]*x\n",
    "\n",
    "            plt.plot(iteration, J, 'o')\n",
    "            plt.xlabel('Iterations')  # labels x-axis\n",
    "            plt.ylabel('J theta')  # labels y-axis\n",
    "\n",
    "\n",
    "    return J, iteration-1"
   ]
  },
  {
   "cell_type": "code",
   "execution_count": 11,
   "metadata": {},
   "outputs": [
    {
     "name": "stdout",
     "output_type": "stream",
     "text": [
      "Jtheta and Number of Iterations:\n",
      "(537.024955872586, 5445)\n"
     ]
    },
    {
     "data": {
      "image/png": "[encoded data removed]",
      "text/plain": [
       "<Figure size 432x288 with 1 Axes>"
      ]
     },
     "metadata": {
      "needs_background": "light"
     },
     "output_type": "display_data"
    }
   ],
   "source": [
    "print(\"Jtheta and Number of Iterations:\")\n",
    "results= work_properly(0.001, x, y)\n",
    "print (results)"
   ]
  },
  {
   "cell_type": "markdown",
   "metadata": {},
   "source": [
    "################################################################################################################################"
   ]
  },
  {
   "cell_type": "markdown",
   "metadata": {},
   "source": [
    "## Step 6: Create Linear Regression"
   ]
  },
  {
   "cell_type": "code",
   "execution_count": 12,
   "metadata": {},
   "outputs": [
    {
     "name": "stdout",
     "output_type": "stream",
     "text": [
      "[0.7810571563099895, -0.9067612662823201, -5.790971701796238, 10.76843666646216, 20.832378224254445, -1.7911557830004607, 7.679172739394007, 24.983260908835334, 17.941903759653034, 29.263277757262202, 12.601627460701284, 8.331125761189384, 25.53238419390101, 27.431372793957532, 13.746825228953593, 23.903897684427122, 4.325688924308704, 9.71067540175279, -7.530039671633258, -0.09720210994946044, 16.515292706888577]\n"
     ]
    }
   ],
   "source": [
    " def linear_regression_prediction(t0, t1, x):\n",
    "    regression = t0  # linear regression thet0 + theta1 * x\n",
    "    regression += t1*x\n",
    "    return regression\n",
    "\n",
    "test_predicted_values = []  # make empty array for predicted values\n",
    "\n",
    "for i in np.nditer(x_test):  # use test data in linear regression \n",
    "    test_predicted_value = linear_regression_prediction(theta0, theta1, i)\n",
    "    test_predicted_values.append(test_predicted_value)\n",
    "print(test_predicted_values)  # will use these predicted values for the MSE"
   ]
  },
  {
   "cell_type": "code",
   "execution_count": 13,
   "metadata": {},
   "outputs": [],
   "source": [
    "# regression_prediction(theta0, theta1, x_test)"
   ]
  },
  {
   "cell_type": "markdown",
   "metadata": {},
   "source": [
    "################################################################################################################################"
   ]
  },
  {
   "cell_type": "markdown",
   "metadata": {},
   "source": [
    "## Step 7: Create MSE calculation"
   ]
  },
  {
   "cell_type": "code",
   "execution_count": 14,
   "metadata": {},
   "outputs": [],
   "source": [
    "def evaluate_MSE(pred, ytest, m):  # for MSE we use the predicted y values and test data\n",
    "    MSE = (1/(m))*sum([(pred[i]-ytest[i])**2 for i in range(m)])\n",
    "    return MSE\n",
    "\n",
    "train = x.shape[0]    # the length of all our sets of data\n",
    "test = x_test.shape[0]\n",
    "validate = x_val.shape[0]"
   ]
  },
  {
   "cell_type": "code",
   "execution_count": 15,
   "metadata": {},
   "outputs": [
    {
     "name": "stdout",
     "output_type": "stream",
     "text": [
      "MSE:\n"
     ]
    },
    {
     "data": {
      "text/plain": [
       "array([65.29849453])"
      ]
     },
     "execution_count": 15,
     "metadata": {},
     "output_type": "execute_result"
    }
   ],
   "source": [
    "print(\"MSE:\")\n",
    "evaluate_MSE(test_predicted_values, y_test, test)"
   ]
  },
  {
   "cell_type": "markdown",
   "metadata": {},
   "source": [
    "################################################################################################################################"
   ]
  },
  {
   "cell_type": "markdown",
   "metadata": {},
   "source": [
    "## Step 8: Plot Linear Regression "
   ]
  },
  {
   "cell_type": "code",
   "execution_count": 16,
   "metadata": {},
   "outputs": [],
   "source": [
    "def plot_test():\n",
    "    x_2d = np.reshape(x, (-1,1))  # need to reshape arrays for two dimensions\n",
    "    x_2d_test = np.reshape(x_test, (-1,1))\n",
    "    skit = linear_model.LinearRegression()  # using skit learn\n",
    "    skit.fit(x_2d, y)   # fitting data\n",
    "    y_test_predict = skit.predict(x_2d_test) # predicting y test value\n",
    "\n",
    "    plt.scatter(x_2d, y, c= \"blue\", label = \"original data\")\n",
    "    plt.plot(x_test, test_predicted_values, label = \"my linear version\")\n",
    "    plt.plot(x_test, y_test_predict, linestyle = \":\", c= \"orange\", label = \"skit version\")\n",
    "    plt.xlabel('x')  # labels x-axis\n",
    "    plt.ylabel('y')  # labels y-axis\n",
    "    plt.legend(loc = \"best\")  # puts legend in best location\n",
    "    plt.show()"
   ]
  },
  {
   "cell_type": "code",
   "execution_count": 17,
   "metadata": {},
   "outputs": [
    {
     "data": {
      "image/png": "[encoded data removed]",
      "text/plain": [
       "<Figure size 432x288 with 1 Axes>"
      ]
     },
     "metadata": {
      "needs_background": "light"
     },
     "output_type": "display_data"
    }
   ],
   "source": [
    "plot_test()  # my model overlaps with skit version"
   ]
  },
  {
   "cell_type": "code",
   "execution_count": 18,
   "metadata": {},
   "outputs": [],
   "source": [
    "################################################################################################################################"
   ]
  },
  {
   "cell_type": "markdown",
   "metadata": {},
   "source": [
    "## Step 9: Plot Learning Curves"
   ]
  },
  {
   "cell_type": "code",
   "execution_count": 19,
   "metadata": {},
   "outputs": [],
   "source": [
    "def learning_curves(x, y, x_val, y_val, size = 12):\n",
    "    validation_error = []\n",
    "    training_error = []  # create empty arrays for errors of both validation and training data\n",
    "    \n",
    "\n",
    "    for i in range(1,13):\n",
    "        theta0, theta1 = gradient_descent(0.001, x[0:i], y[0:i])  # call gradient descent \n",
    "        validation_predictions = regression_prediction(theta0, theta1, x_val)  # call regression function for both validation \n",
    "        training_predictions = regression_prediction(theta0, theta1, x[0:i])  # and training\n",
    "        MSE_validation = evaluate_MSE(validation_predictions, y_val, len(y_val))  # call MSE to evaluate training and validation\n",
    "        MSE_train = evaluate_MSE(training_predictions, y[0:i], i)\n",
    "        validation_error.append(MSE_validation)  # put MSE error into the empty error we had\n",
    "        training_error.append(MSE_train)\n",
    "\n",
    "    \n",
    "    plt.title(\"Learning Curves\")\n",
    "    plt.xlabel('Number of Training Examples')  # labels x-axis\n",
    "    plt.ylabel('Error')  # labels y-axis \n",
    "    plt.plot(range(len(x)), validation_error, c= \"blue\", label=\"validation\")\n",
    "    plt.plot(range(len(x)), training_error, c=\"r\", label= \"training\")\n",
    "    plt.legend(loc = \"best\") # puts legend in best location\n",
    "    plt.show()\n"
   ]
  },
  {
   "cell_type": "code",
   "execution_count": 20,
   "metadata": {},
   "outputs": [
    {
     "name": "stdout",
     "output_type": "stream",
     "text": [
      "Converged, iterations:  17 !!!\n",
      "Theta0 = 0.008328552579825068 Theta1 = -0.13273047675415606\n"
     ]
    },
    {
     "ename": "NameError",
     "evalue": "name 'regression_prediction' is not defined",
     "output_type": "error",
     "traceback": [
      "\u001b[1;31m---------------------------------------------------------------------------\u001b[0m",
      "\u001b[1;31mNameError\u001b[0m                                 Traceback (most recent call last)",
      "\u001b[1;32m<ipython-input-20-b9c05ade3cd5>\u001b[0m in \u001b[0;36m<module>\u001b[1;34m\u001b[0m\n\u001b[1;32m----> 1\u001b[1;33m \u001b[0mlearning_curves\u001b[0m\u001b[1;33m(\u001b[0m\u001b[0mx\u001b[0m\u001b[1;33m,\u001b[0m \u001b[0my\u001b[0m\u001b[1;33m,\u001b[0m \u001b[0mx_val\u001b[0m\u001b[1;33m,\u001b[0m \u001b[0my_val\u001b[0m\u001b[1;33m)\u001b[0m\u001b[1;33m\u001b[0m\u001b[1;33m\u001b[0m\u001b[0m\n\u001b[0m",
      "\u001b[1;32m<ipython-input-19-255e49ee46bf>\u001b[0m in \u001b[0;36mlearning_curves\u001b[1;34m(x, y, x_val, y_val, size)\u001b[0m\n\u001b[0;32m      6\u001b[0m     \u001b[1;32mfor\u001b[0m \u001b[0mi\u001b[0m \u001b[1;32min\u001b[0m \u001b[0mrange\u001b[0m\u001b[1;33m(\u001b[0m\u001b[1;36m1\u001b[0m\u001b[1;33m,\u001b[0m\u001b[1;36m13\u001b[0m\u001b[1;33m)\u001b[0m\u001b[1;33m:\u001b[0m\u001b[1;33m\u001b[0m\u001b[1;33m\u001b[0m\u001b[0m\n\u001b[0;32m      7\u001b[0m         \u001b[0mtheta0\u001b[0m\u001b[1;33m,\u001b[0m \u001b[0mtheta1\u001b[0m \u001b[1;33m=\u001b[0m \u001b[0mgradient_descent\u001b[0m\u001b[1;33m(\u001b[0m\u001b[1;36m0.001\u001b[0m\u001b[1;33m,\u001b[0m \u001b[0mx\u001b[0m\u001b[1;33m[\u001b[0m\u001b[1;36m0\u001b[0m\u001b[1;33m:\u001b[0m\u001b[0mi\u001b[0m\u001b[1;33m]\u001b[0m\u001b[1;33m,\u001b[0m \u001b[0my\u001b[0m\u001b[1;33m[\u001b[0m\u001b[1;36m0\u001b[0m\u001b[1;33m:\u001b[0m\u001b[0mi\u001b[0m\u001b[1;33m]\u001b[0m\u001b[1;33m)\u001b[0m  \u001b[1;31m# call gradient descent\u001b[0m\u001b[1;33m\u001b[0m\u001b[1;33m\u001b[0m\u001b[0m\n\u001b[1;32m----> 8\u001b[1;33m         \u001b[0mvalidation_predictions\u001b[0m \u001b[1;33m=\u001b[0m \u001b[0mregression_prediction\u001b[0m\u001b[1;33m(\u001b[0m\u001b[0mtheta0\u001b[0m\u001b[1;33m,\u001b[0m \u001b[0mtheta1\u001b[0m\u001b[1;33m,\u001b[0m \u001b[0mx_val\u001b[0m\u001b[1;33m)\u001b[0m  \u001b[1;31m# call regression function for both validation\u001b[0m\u001b[1;33m\u001b[0m\u001b[1;33m\u001b[0m\u001b[0m\n\u001b[0m\u001b[0;32m      9\u001b[0m         \u001b[0mtraining_predictions\u001b[0m \u001b[1;33m=\u001b[0m \u001b[0mregression_prediction\u001b[0m\u001b[1;33m(\u001b[0m\u001b[0mtheta0\u001b[0m\u001b[1;33m,\u001b[0m \u001b[0mtheta1\u001b[0m\u001b[1;33m,\u001b[0m \u001b[0mx\u001b[0m\u001b[1;33m[\u001b[0m\u001b[1;36m0\u001b[0m\u001b[1;33m:\u001b[0m\u001b[0mi\u001b[0m\u001b[1;33m]\u001b[0m\u001b[1;33m)\u001b[0m  \u001b[1;31m# and training\u001b[0m\u001b[1;33m\u001b[0m\u001b[1;33m\u001b[0m\u001b[0m\n\u001b[0;32m     10\u001b[0m         \u001b[0mMSE_validation\u001b[0m \u001b[1;33m=\u001b[0m \u001b[0mevaluate_MSE\u001b[0m\u001b[1;33m(\u001b[0m\u001b[0mvalidation_predictions\u001b[0m\u001b[1;33m,\u001b[0m \u001b[0my_val\u001b[0m\u001b[1;33m,\u001b[0m \u001b[0mlen\u001b[0m\u001b[1;33m(\u001b[0m\u001b[0my_val\u001b[0m\u001b[1;33m)\u001b[0m\u001b[1;33m)\u001b[0m  \u001b[1;31m# call MSE to evaluate training and validation\u001b[0m\u001b[1;33m\u001b[0m\u001b[1;33m\u001b[0m\u001b[0m\n",
      "\u001b[1;31mNameError\u001b[0m: name 'regression_prediction' is not defined"
     ]
    }
   ],
   "source": [
    "learning_curves(x, y, x_val, y_val)"
   ]
  },
  {
   "cell_type": "markdown",
   "metadata": {},
   "source": [
    "###############################################################################################################################"
   ]
  },
  {
   "cell_type": "markdown",
   "metadata": {},
   "source": [
    "## Step 10: Create Normalization Function"
   ]
  },
  {
   "cell_type": "code",
   "execution_count": null,
   "metadata": {},
   "outputs": [],
   "source": [
    "def normalization_func(x):  # reference to slide 14\n",
    "    normalized_array = []   # empty normalization array\n",
    "    for i in x:\n",
    "        normalize= (i-np.min(x))/(np.max(x)-np.min(x))  # normalization equation \n",
    "        normalized_array.append(normalize)\n",
    "    return normalized_array"
   ]
  },
  {
   "cell_type": "code",
   "execution_count": null,
   "metadata": {},
   "outputs": [],
   "source": [
    "normalization_func(x)"
   ]
  },
  {
   "cell_type": "markdown",
   "metadata": {},
   "source": [
    "###############################################################################################################################"
   ]
  }
 ],
 "metadata": {
  "kernelspec": {
   "display_name": "Python 3",
   "language": "python",
   "name": "python3"
  },
  "language_info": {
   "codemirror_mode": {
    "name": "ipython",
    "version": 3
   },
   "file_extension": ".py",
   "mimetype": "text/x-python",
   "name": "python",
   "nbconvert_exporter": "python",
   "pygments_lexer": "ipython3",
   "version": "3.8.3"
  }
 },
 "nbformat": 4,
 "nbformat_minor": 2
}
