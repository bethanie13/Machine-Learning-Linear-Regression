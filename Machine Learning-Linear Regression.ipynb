{
 "cells": [
  {
   "cell_type": "markdown",
   "metadata": {},
   "source": [
    "####  Bethanie Williams\n",
    "####  Data Mining and Machine Learning\n",
    "####  Supervised Learning: Linear Regression\n",
    "####  Date: 9/17/20"
   ]
  },
  {
   "cell_type": "code",
   "execution_count": 1,
   "metadata": {},
   "outputs": [],
   "source": [
    "import pandas as pd\n",
    "import numpy as np\n",
    "import matplotlib as mpl   # import python libraries that I will need to use\n",
    "import pylab\n",
    "import sklearn\n",
    "import scipy\n",
    "mpl.rcParams['figure.figsize'] = (12, 8)"
   ]
  },
  {
   "cell_type": "code",
   "execution_count": 2,
   "metadata": {},
   "outputs": [],
   "source": [
    "from pandas import read_csv\n",
    "from matplotlib import pyplot as plt\n",
    "from pandas.plotting import scatter_matrix\n",
    "from sklearn import linear_model \n",
    "from sklearn.linear_model import LinearRegression\n",
    "from sklearn.model_selection import learning_curve\n",
    "from sklearn.preprocessing import PolynomialFeatures\n",
    "from scipy.optimize import minimize\n",
    "from scipy.io import loadmat\n",
    "from sklearn.model_selection import learning_curve\n",
    "from sklearn.linear_model import Ridge\n",
    "from sklearn.metrics import mean_squared_error\n",
    "from sklearn.metrics import r2_score"
   ]
  },
  {
   "cell_type": "markdown",
   "metadata": {},
   "source": [
    "## Step 1: Importing Data "
   ]
  },
  {
   "cell_type": "code",
   "execution_count": 3,
   "metadata": {},
   "outputs": [
    {
     "name": "stdout",
     "output_type": "stream",
     "text": [
      "          X        y    Xtest     ytest     Xval       yval\n",
      "0  -15.9368   2.1343 -33.3180   3.31690 -16.7465   4.170200\n",
      "1  -29.1530   1.1733 -37.9122   5.39770 -14.5775   4.067300\n",
      "2   36.1895  34.3591 -51.2069   0.13043  34.5158  31.873100\n",
      "3   37.4922  36.8380  -6.1326   6.19260 -47.0101  10.623700\n",
      "4  -48.0588   2.8090  21.2612  17.08850  36.9751  31.836000\n",
      "5   -8.9415   2.1211 -40.3195   0.79951 -40.6861   4.959400\n",
      "6   15.3078  14.7103 -14.5415   2.82480  -4.4720   4.451600\n",
      "7  -34.7063   2.6142  32.5598  28.62120  26.5336  22.276300\n",
      "8    1.3892   3.7402  13.3934  17.04640 -42.7977  -0.000044\n",
      "9  -44.3838   3.7317  44.2099  55.38440  25.3741  20.503800\n",
      "10   7.0135   7.6277  -1.1427   4.07940 -31.1096   3.858300\n",
      "11  22.7627  22.7524 -12.7669   8.27040  27.3118  19.365100\n",
      "12      NaN      NaN  34.0545  31.32360  -3.2639   4.883800\n",
      "13      NaN      NaN  39.2235  39.15910  -1.8183  11.097200\n",
      "14      NaN      NaN   1.9745   8.08730 -40.7197   7.461700\n",
      "15      NaN      NaN  29.6218  24.11130 -50.0132   1.476900\n",
      "16      NaN      NaN -23.6696   2.47740 -17.4118   2.719200\n",
      "17      NaN      NaN  -9.0118   6.56610   3.5882  10.926900\n",
      "18      NaN      NaN -55.9406   6.03810   7.0855   8.348700\n",
      "19      NaN      NaN -35.7086   4.69270  46.2824  52.781900\n",
      "20      NaN      NaN   9.5102  10.83000  14.6123  13.357300\n"
     ]
    }
   ],
   "source": [
    "dataset = read_csv(r'C:\\Users\\betha\\OneDrive\\Documents\\CSC 5220\\Lab2_dataset.csv')  # importing csv\n",
    "print(dataset)  # you will probably need to change the file directory"
   ]
  },
  {
   "cell_type": "code",
   "execution_count": 4,
   "metadata": {},
   "outputs": [
    {
     "name": "stdout",
     "output_type": "stream",
     "text": [
      "Training Set: \n",
      "          X        y\n",
      "0  -15.9368   2.1343\n",
      "1  -29.1530   1.1733\n",
      "2   36.1895  34.3591\n",
      "3   37.4922  36.8380\n",
      "4  -48.0588   2.8090\n",
      "5   -8.9415   2.1211\n",
      "6   15.3078  14.7103\n",
      "7  -34.7063   2.6142\n",
      "8    1.3892   3.7402\n",
      "9  -44.3838   3.7317\n",
      "10   7.0135   7.6277\n",
      "11  22.7627  22.7524\n",
      "12      NaN      NaN\n",
      "13      NaN      NaN\n",
      "14      NaN      NaN\n",
      "15      NaN      NaN\n",
      "16      NaN      NaN\n",
      "17      NaN      NaN\n",
      "18      NaN      NaN\n",
      "19      NaN      NaN\n",
      "20      NaN      NaN\n",
      "\n",
      "Test Set:\n",
      "      Xtest     ytest\n",
      "0  -33.3180   3.31690\n",
      "1  -37.9122   5.39770\n",
      "2  -51.2069   0.13043\n",
      "3   -6.1326   6.19260\n",
      "4   21.2612  17.08850\n",
      "5  -40.3195   0.79951\n",
      "6  -14.5415   2.82480\n",
      "7   32.5598  28.62120\n",
      "8   13.3934  17.04640\n",
      "9   44.2099  55.38440\n",
      "10  -1.1427   4.07940\n",
      "11 -12.7669   8.27040\n",
      "12  34.0545  31.32360\n",
      "13  39.2235  39.15910\n",
      "14   1.9745   8.08730\n",
      "15  29.6218  24.11130\n",
      "16 -23.6696   2.47740\n",
      "17  -9.0118   6.56610\n",
      "18 -55.9406   6.03810\n",
      "19 -35.7086   4.69270\n",
      "20   9.5102  10.83000\n",
      "\n",
      "Validation Set:\n",
      "       Xval       yval\n",
      "0  -16.7465   4.170200\n",
      "1  -14.5775   4.067300\n",
      "2   34.5158  31.873100\n",
      "3  -47.0101  10.623700\n",
      "4   36.9751  31.836000\n",
      "5  -40.6861   4.959400\n",
      "6   -4.4720   4.451600\n",
      "7   26.5336  22.276300\n",
      "8  -42.7977  -0.000044\n",
      "9   25.3741  20.503800\n",
      "10 -31.1096   3.858300\n",
      "11  27.3118  19.365100\n",
      "12  -3.2639   4.883800\n",
      "13  -1.8183  11.097200\n",
      "14 -40.7197   7.461700\n",
      "15 -50.0132   1.476900\n",
      "16 -17.4118   2.719200\n",
      "17   3.5882  10.926900\n",
      "18   7.0855   8.348700\n",
      "19  46.2824  52.781900\n",
      "20  14.6123  13.357300\n",
      "\n"
     ]
    }
   ],
   "source": [
    "print(\"Training Set: \")  # defining training set\n",
    "x_training = dataset.iloc[:12, :1]  # gets rows until the 12th row and first two columns\n",
    "y_training = dataset.iloc[:12, 1:2]\n",
    "training_set = print(dataset[[\"X\", \"y\"]])\n",
    "print()\n",
    "\n",
    "print(\"Test Set:\")  # defining test set\n",
    "x_testing = dataset.iloc[:, 2:3]  # gets all rows and next two columns\n",
    "y_testing = dataset.iloc[:, 3:4]\n",
    "testing_set =  print(dataset[[\"Xtest\", \"ytest\"]])\n",
    "print()\n",
    "\n",
    "print(\"Validation Set:\")  # defining validation set\n",
    "x_validate = dataset.iloc[:, 4:5]  # gets all rows and last two columns\n",
    "y_validate = dataset.iloc[:, 5:6]\n",
    "validation_set =  print(dataset[[\"Xval\", \"yval\"]])\n",
    "print()"
   ]
  },
  {
   "cell_type": "markdown",
   "metadata": {},
   "source": [
    "## Step 2: Defining train, test, and validation sets"
   ]
  },
  {
   "cell_type": "code",
   "execution_count": 5,
   "metadata": {},
   "outputs": [],
   "source": [
    "# Turning data sets into arrays\n",
    "x = np.array(x_training.values)  # array = dataset.values\n",
    "x = x[np.logical_not(np.isnan(x))]  # remove nan values from my array\n",
    "# print(x)\n",
    "# print()\n",
    "\n",
    "y = np.array(y_training.values)\n",
    "y = y[np.logical_not(np.isnan(y))]  # remove nan values from my array\n",
    "# print(y)\n",
    "# print()\n",
    "\n",
    "x_test = np.array(x_testing.values)\n",
    "# print(x_test)\n",
    "# print()\n",
    "\n",
    "y_test = np.array(y_testing.values)\n",
    "# print(y_test)\n",
    "# print()\n",
    "\n",
    "x_val = np.array(x_validate.values)\n",
    "# print(x_val)\n",
    "# print()\n",
    "\n",
    "y_val = np.array(y_validate.values)\n",
    "# print(y_val)\n",
    "# print()"
   ]
  },
  {
   "cell_type": "code",
   "execution_count": 6,
   "metadata": {},
   "outputs": [
    {
     "name": "stdout",
     "output_type": "stream",
     "text": [
      "Training Data:\n",
      "\n",
      "[-15.9368 -29.153   36.1895  37.4922 -48.0588  -8.9415  15.3078 -34.7063\n",
      "   1.3892 -44.3838   7.0135  22.7627]\n",
      "\n",
      "[ 2.1343  1.1733 34.3591 36.838   2.809   2.1211 14.7103  2.6142  3.7402\n",
      "  3.7317  7.6277 22.7524]\n"
     ]
    }
   ],
   "source": [
    "print(\"Training Data:\") # print training data out to ensure correct values\n",
    "print()\n",
    "\n",
    "print(x)  # printing x training values\n",
    "print()\n",
    "print(y)  # printing y training values"
   ]
  },
  {
   "cell_type": "markdown",
   "metadata": {},
   "source": [
    "###############################################################################################################################"
   ]
  },
  {
   "cell_type": "markdown",
   "metadata": {},
   "source": [
    "## Step 3: Plot Training Data"
   ]
  },
  {
   "cell_type": "code",
   "execution_count": 7,
   "metadata": {},
   "outputs": [],
   "source": [
    "def plot_data(x, y, theta = np.array(([0],[0])), lamb = 0):\n",
    "    x_train = dataset['X'].tolist()  # plotting training data\n",
    "    y_train = dataset['y'].tolist()\n",
    "    plt.scatter(x_train, y_train, c = \"blue\", marker = \"o\", label = \"Data\")  # scatter plot of data\n",
    "    plt.title(\"Water Data\")\n",
    "    plt.xlabel('Change in water level (x)')  # labels x-axis\n",
    "    plt.ylabel('Water flowing out of the dam (y)')  # labels y-axis\n",
    "    plt.legend()\n",
    "    plt.show()  # displays scatter plotplt.title(\"Training Data\")"
   ]
  },
  {
   "cell_type": "code",
   "execution_count": 8,
   "metadata": {},
   "outputs": [
    {
     "data": {
      "image/png": "[encoded data removed]",
      "text/plain": [
       "<Figure size 864x576 with 1 Axes>"
      ]
     },
     "metadata": {
      "needs_background": "light"
     },
     "output_type": "display_data"
    }
   ],
   "source": [
    "plot_data(x, y)"
   ]
  },
  {
   "cell_type": "markdown",
   "metadata": {},
   "source": [
    "###############################################################################################################################"
   ]
  },
  {
   "cell_type": "markdown",
   "metadata": {},
   "source": [
    "## Step 4: Create Gradient Descent "
   ]
  },
  {
   "cell_type": "code",
   "execution_count": 9,
   "metadata": {},
   "outputs": [],
   "source": [
    "def gradient_descent(alpha, x, y, lamb=0, conv=0.0001, max_iter=10000): # input alpha=learning rate, x and = data,\n",
    "    converged = False                                                   #  convergence thresh= 0.0001, max_iter = 10000\n",
    "    iteration = 0 # set iteration counter to 0\n",
    "    m = x.shape[0] # number of samples\n",
    "    t_n = ([0.0,0.0])  # initial theta\n",
    "    num_thetas = len(t_n) # length of theta array\n",
    "\n",
    "    # total error, J(theta)\n",
    "    J = sum([(t_n[0] + t_n[1]*x[i] - y[i])**2 for i in range(m)]) + (lamb * sum(t_n[i] ** 2 for i in range(num_thetas)))\n",
    "\n",
    "    while not converged:# Iterate Loop until convergence has happened\n",
    "        \n",
    "        # for each training sample, compute the gradient (d/d_theta j(theta))\n",
    "        grad0 = 1.0/m * sum([(t_n[0] + t_n[1]*x[i] - y[i]) for i in range(m)]) \n",
    "        grad1 = 1.0/m * sum([(t_n[0] + t_n[1]*x[i] - y[i])*x[i] for i in range(m)])\n",
    "\n",
    "        # update the theta_temp\n",
    "        temp0 = t_n[0] - alpha * grad0\n",
    "        temp1 = ((1.0 -((alpha * lamb)/m)) * t_n[1]) - alpha * grad1\n",
    "    \n",
    "        # update theta\n",
    "        t_n[0] = (temp0)\n",
    "        t_n[1] = (temp1)\n",
    "\n",
    "        # mean squared error\n",
    "        e = sum([ (t_n[0] + t_n[1]*x[i] - y[i])**2 for i in range(m)]) + (lamb * sum([t_n[i]**2 for i in range(num_thetas)])) \n",
    "        \n",
    "        if abs(J-e) <= conv: \n",
    "            print('Converged, iterations: ', iteration, '!!!')\n",
    "            converged = True\n",
    "    \n",
    "        J = e   # update error \n",
    "        iteration += 1  # update iter\n",
    "    \n",
    "        if iteration == max_iter:\n",
    "            print('Max interactions exceeded!')\n",
    "            converged = True\n",
    "            \n",
    "        for i in range(num_thetas):\n",
    "            y_predict = t_n[0] + t_n[1]*x\n",
    "    \n",
    "    print(\"Theta0 =\", t_n[0], \"Theta1 =\", t_n[1]) # theta0 is y-intercept, theta1 is slope\n",
    "\n",
    "    return t_n[0], t_n[1]  # returns theta0 and theta1"
   ]
  },
  {
   "cell_type": "code",
   "execution_count": 10,
   "metadata": {},
   "outputs": [
    {
     "name": "stdout",
     "output_type": "stream",
     "text": [
      "Converged, iterations:  5445 !!!\n",
      "Theta0 = 13.021432891787487 Theta1 = 0.36738026698713894\n"
     ]
    }
   ],
   "source": [
    "theta0, theta1= gradient_descent(0.001, x, y)\n",
    "# print (theta0, theta1)"
   ]
  },
  {
   "cell_type": "markdown",
   "metadata": {},
   "source": [
    "################################################################################################################################"
   ]
  },
  {
   "cell_type": "markdown",
   "metadata": {},
   "source": [
    "## Step 5: Plot J-Theta with respect to Iterations"
   ]
  },
  {
   "cell_type": "code",
   "execution_count": 11,
   "metadata": {},
   "outputs": [],
   "source": [
    "def work_properly(alpha, x, y, lamb=0, conv=0.0001, max_iter=10000): # input alpha=learning rate, x and = data,\n",
    "    converged = False                                                   #  convergence thresh= 0.0001, max_iter = 10000\n",
    "    iteration = 0  # set iteration counter to 0\n",
    "    m = x.shape[0] # number of samples\n",
    "    t_n = ([0.0,0.0]) # initial theta\n",
    "    num_thetas = len(t_n) # length of theta array\n",
    "\n",
    "    # total error, J(theta)\n",
    "    J = sum([(t_n[0] + t_n[1]*x[i] - y[i])**2 for i in range(m)]) + (lamb * sum(t_n[i] ** 2 for i in range(num_thetas)))\n",
    "\n",
    "    while not converged: # Iterate Loop until convergence has happened\n",
    "        \n",
    "        # for each training sample, compute the gradient (d/d_theta j(theta))\n",
    "        grad0 = 1.0/m * sum([(t_n[0] + t_n[1]*x[i] - y[i]) for i in range(m)]) \n",
    "        grad1 = 1.0/m * sum([(t_n[0] + t_n[1]*x[i] - y[i])*x[i] for i in range(m)])\n",
    "\n",
    "        # update the theta_temp\n",
    "        temp0 = t_n[0] - alpha * grad0\n",
    "        temp1 = ((1.0 -((alpha * lamb)/m)) * t_n[1]) - alpha * grad1\n",
    "    \n",
    "        # update theta\n",
    "        t_n[0] = (temp0)\n",
    "        t_n[1] = (temp1)\n",
    "\n",
    "        # mean squared error\n",
    "        e = sum([ (t_n[0] + t_n[1]*x[i] - y[i])**2 for i in range(m)]) + (lamb * sum([t_n[i]**2 for i in range(num_thetas)])) \n",
    "        \n",
    "        if abs(J-e) <= conv:\n",
    "            converged = True\n",
    "    \n",
    "        J = e   # update error \n",
    "        iteration += 1  # update iter\n",
    "    \n",
    "        if iteration == max_iter:\n",
    "            print('Max interactions exceeded!')\n",
    "            converged = True\n",
    "        \n",
    "        for i in range(num_thetas):\n",
    "            y_predict = t_n[0] + t_n[1]*x\n",
    "\n",
    "            plt.plot(iteration, J, 'o')\n",
    "            plt.xlabel('Iterations')  # labels x-axis\n",
    "            plt.ylabel('J theta')  # labels y-axis\n",
    "\n",
    "\n",
    "    return J, iteration-1"
   ]
  },
  {
   "cell_type": "code",
   "execution_count": 12,
   "metadata": {},
   "outputs": [
    {
     "name": "stdout",
     "output_type": "stream",
     "text": [
      "Jtheta and Number of Iterations:\n",
      "(537.024955872586, 5445)\n"
     ]
    },
    {
     "data": {
      "image/png": "[encoded data removed]",
      "text/plain": [
       "<Figure size 864x576 with 1 Axes>"
      ]
     },
     "metadata": {
      "needs_background": "light"
     },
     "output_type": "display_data"
    }
   ],
   "source": [
    "print(\"Jtheta and Number of Iterations:\")\n",
    "results= work_properly(0.001, x, y)\n",
    "print (results)"
   ]
  },
  {
   "cell_type": "markdown",
   "metadata": {},
   "source": [
    "################################################################################################################################"
   ]
  },
  {
   "cell_type": "markdown",
   "metadata": {},
   "source": [
    "## Step 6: Create Linear Regression"
   ]
  },
  {
   "cell_type": "code",
   "execution_count": 13,
   "metadata": {},
   "outputs": [
    {
     "name": "stdout",
     "output_type": "stream",
     "text": [
      "[0.7810571563099895, -0.9067612662823201, -5.790971701796238, 10.76843666646216, 20.832378224254445, -1.7911557830004607, 7.679172739394007, 24.983260908835334, 17.941903759653034, 29.263277757262202, 12.601627460701284, 8.331125761189384, 25.53238419390101, 27.431372793957532, 13.746825228953593, 23.903897684427122, 4.325688924308704, 9.71067540175279, -7.530039671633258, -0.09720210994946044, 16.515292706888577]\n"
     ]
    }
   ],
   "source": [
    " def linear_regression_prediction(t0, t1, x):\n",
    "    regression = t0  # linear regression thet0 + theta1 * x\n",
    "    regression += t1*x\n",
    "    return regression\n",
    "\n",
    "test_predicted_values = []  # make empty array for predicted values\n",
    "\n",
    "for i in np.nditer(x_test):  # use test data in linear regression \n",
    "    test_predicted_value = linear_regression_prediction(theta0, theta1, i)\n",
    "    test_predicted_values.append(test_predicted_value)\n",
    "print(test_predicted_values)  # will use these predicted values for the MSE"
   ]
  },
  {
   "cell_type": "code",
   "execution_count": 14,
   "metadata": {},
   "outputs": [],
   "source": [
    "# regression_prediction(theta0, theta1, x_test)"
   ]
  },
  {
   "cell_type": "markdown",
   "metadata": {},
   "source": [
    "################################################################################################################################"
   ]
  },
  {
   "cell_type": "markdown",
   "metadata": {},
   "source": [
    "## Step 7: Create MSE calculation"
   ]
  },
  {
   "cell_type": "code",
   "execution_count": 15,
   "metadata": {},
   "outputs": [],
   "source": [
    "def evaluate_MSE(pred, ytest, m):  # for MSE we use the predicted y values and test data\n",
    "    MSE = (1/(m))*sum([(pred[i]-ytest[i])**2 for i in range(m)])\n",
    "    return MSE\n",
    "\n",
    "train = x.shape[0]    # the length of all our sets of data\n",
    "test = x_test.shape[0]\n",
    "validate = x_val.shape[0]"
   ]
  },
  {
   "cell_type": "code",
   "execution_count": 16,
   "metadata": {},
   "outputs": [
    {
     "name": "stdout",
     "output_type": "stream",
     "text": [
      "MSE:\n"
     ]
    },
    {
     "data": {
      "text/plain": [
       "array([65.29849453])"
      ]
     },
     "execution_count": 16,
     "metadata": {},
     "output_type": "execute_result"
    }
   ],
   "source": [
    "print(\"MSE:\")\n",
    "evaluate_MSE(test_predicted_values, y_test, test)"
   ]
  },
  {
   "cell_type": "markdown",
   "metadata": {},
   "source": [
    "################################################################################################################################"
   ]
  },
  {
   "cell_type": "markdown",
   "metadata": {},
   "source": [
    "## Step 8: Plot Linear Regression "
   ]
  },
  {
   "cell_type": "code",
   "execution_count": 17,
   "metadata": {},
   "outputs": [],
   "source": [
    "def plot_test():\n",
    "    x_2d = np.reshape(x, (-1,1))  # need to reshape arrays for two dimensions\n",
    "    x_2d_test = np.reshape(x_test, (-1,1))\n",
    "    skit = linear_model.LinearRegression()  # using skit learn\n",
    "    skit.fit(x_2d, y)   # fitting data\n",
    "    y_test_predict = skit.predict(x_2d_test) # predicting y test value\n",
    "\n",
    "    plt.scatter(x_2d, y, c= \"blue\", label = \"original data\")\n",
    "    plt.plot(x_test, test_predicted_values, label = \"my linear version\")\n",
    "    plt.plot(x_test, y_test_predict, linestyle = \":\", c= \"orange\", label = \"skit version\")\n",
    "    plt.xlabel('x')  # labels x-axis\n",
    "    plt.ylabel('y')  # labels y-axis\n",
    "    plt.legend(loc = \"best\")  # puts legend in best location\n",
    "    plt.show()"
   ]
  },
  {
   "cell_type": "code",
   "execution_count": 18,
   "metadata": {},
   "outputs": [
    {
     "data": {
      "image/png": "[encoded data removed]",
      "text/plain": [
       "<Figure size 864x576 with 1 Axes>"
      ]
     },
     "metadata": {
      "needs_background": "light"
     },
     "output_type": "display_data"
    }
   ],
   "source": [
    "plot_test()  # my model overlaps with skit version"
   ]
  },
  {
   "cell_type": "code",
   "execution_count": 19,
   "metadata": {},
   "outputs": [],
   "source": [
    "################################################################################################################################"
   ]
  },
  {
   "cell_type": "markdown",
   "metadata": {},
   "source": [
    "## Step 9: Plot Linear Regression Learning Curves"
   ]
  },
  {
   "cell_type": "code",
   "execution_count": 20,
   "metadata": {},
   "outputs": [],
   "source": [
    "def learning_curves(x, y, x_val, y_val, size = 12):\n",
    "    validation_error = []\n",
    "    training_error = []  # create empty arrays for errors of both validation and training data\n",
    "    \n",
    "\n",
    "    for i in range(1,13):\n",
    "        theta0, theta1 = gradient_descent(0.001, x[0:i], y[0:i])  # call gradient descent \n",
    "        validation_predictions = linear_regression_prediction(theta0, theta1, x_val)  # call regression function for both validation \n",
    "        training_predictions = linear_regression_prediction(theta0, theta1, x[0:i])  # and training\n",
    "        MSE_validation = evaluate_MSE(validation_predictions, y_val, len(y_val))  # call MSE to evaluate training and validation\n",
    "        MSE_train = evaluate_MSE(training_predictions, y[0:i], i)\n",
    "        validation_error.append(MSE_validation)  # put MSE error into the empty error we had\n",
    "        training_error.append(MSE_train)\n",
    "\n",
    "    \n",
    "    plt.title(\"Learning Curves\")\n",
    "    plt.xlabel('Number of Training Examples')  # labels x-axis\n",
    "    plt.ylabel('Error')  # labels y-axis \n",
    "    plt.plot(range(len(x)), validation_error, c= \"blue\", label=\"validation\")\n",
    "    plt.plot(range(len(x)), training_error, c=\"r\", label= \"training\")\n",
    "    plt.legend(loc = \"best\") # puts legend in best location\n",
    "    plt.show()\n"
   ]
  },
  {
   "cell_type": "code",
   "execution_count": 21,
   "metadata": {},
   "outputs": [
    {
     "name": "stdout",
     "output_type": "stream",
     "text": [
      "Converged, iterations:  17 !!!\n",
      "Theta0 = 0.008328552579825068 Theta1 = -0.13273047675415606\n",
      "Converged, iterations:  6303 !!!\n",
      "Theta0 = 1.2931434851907957 Theta1 = -0.00899052578731535\n",
      "Converged, iterations:  4736 !!!\n",
      "Theta0 = 14.024627880980153 Theta1 = 0.5386408768155477\n",
      "Converged, iterations:  5089 !!!\n",
      "Theta0 = 14.506356227670068 Theta1 = 0.5607412030617652\n",
      "Converged, iterations:  5198 !!!\n",
      "Theta0 = 17.112663007251403 Theta1 = 0.44942834907624657\n",
      "Converged, iterations:  5218 !!!\n",
      "Theta0 = 15.311730433159068 Theta1 = 0.45699057902188095\n",
      "Converged, iterations:  5142 !!!\n",
      "Theta0 = 14.18205298561993 Theta1 = 0.436644827863477\n",
      "Converged, iterations:  5381 !!!\n",
      "Theta0 = 14.541423430049319 Theta1 = 0.4226150038570011\n",
      "Converged, iterations:  5317 !!!\n",
      "Theta0 = 13.219810961947283 Theta1 = 0.4125273006340378\n",
      "Converged, iterations:  5673 !!!\n",
      "Theta0 = 13.776451358209943 Theta1 = 0.37707994774154846\n",
      "Converged, iterations:  5554 !!!\n",
      "Theta0 = 12.865195774171497 Theta1 = 0.36280457677238914\n",
      "Converged, iterations:  5445 !!!\n",
      "Theta0 = 13.021432891787487 Theta1 = 0.36738026698713894\n"
     ]
    },
    {
     "data": {
      "image/png": "[encoded data removed]",
      "text/plain": [
       "<Figure size 864x576 with 1 Axes>"
      ]
     },
     "metadata": {
      "needs_background": "light"
     },
     "output_type": "display_data"
    }
   ],
   "source": [
    "learning_curves(x, y, x_val, y_val)"
   ]
  },
  {
   "cell_type": "markdown",
   "metadata": {},
   "source": [
    "###############################################################################################################################"
   ]
  },
  {
   "cell_type": "markdown",
   "metadata": {},
   "source": [
    "## Step 10: Create Normalization Functions"
   ]
  },
  {
   "cell_type": "code",
   "execution_count": 22,
   "metadata": {},
   "outputs": [],
   "source": [
    "def normalization_func(x):  # reference to slide 14\n",
    "    normalized_array = []   # empty normalization array\n",
    "    for i in x:\n",
    "        normalize= (i-np.min(x))/(np.max(x)-np.min(x))  # normalization equation \n",
    "        normalized_array.append(normalize)\n",
    "    return normalized_array"
   ]
  },
  {
   "cell_type": "code",
   "execution_count": 23,
   "metadata": {},
   "outputs": [
    {
     "data": {
      "text/plain": [
       "[0.37547194071372636,\n",
       " 0.22098865004500237,\n",
       " 0.9847728255660367,\n",
       " 1.0,\n",
       " 0.0,\n",
       " 0.4572395413262265,\n",
       " 0.740688010660308,\n",
       " 0.15607649238465945,\n",
       " 0.5779944126895069,\n",
       " 0.042956832766420004,\n",
       " 0.643736484669963,\n",
       " 0.8278278453787801]"
      ]
     },
     "execution_count": 23,
     "metadata": {},
     "output_type": "execute_result"
    }
   ],
   "source": [
    "normalization_func(x)"
   ]
  },
  {
   "cell_type": "code",
   "execution_count": 24,
   "metadata": {},
   "outputs": [],
   "source": [
    "def poly_normalize(x, p):\n",
    "    for i in np.arange(p):\n",
    "        dim = i + 2\n",
    "        x = np.insert(x, x.shape[1], np.power(x[:,1], dim), axis = 1)\n",
    "    \n",
    "    x_normalize = x\n",
    "    #column wise\n",
    "    means = np.mean(x_normalize, axis=0)\n",
    "    x_normalize[:, 1:] = x_normalize[:, 1:] - means[1:]\n",
    "    stds = np.std(x_normalize, axis = 0)\n",
    "    x_normalize[:, 1:] = x_normalize[:, 1:] / stds[1:]\n",
    "    \n",
    "    return x, x_normalize"
   ]
  },
  {
   "cell_type": "markdown",
   "metadata": {},
   "source": [
    "###############################################################################################################################"
   ]
  },
  {
   "cell_type": "markdown",
   "metadata": {},
   "source": [
    "## Step 10.5 Backtracking and Creating more Useful Functions"
   ]
  },
  {
   "cell_type": "code",
   "execution_count": 25,
   "metadata": {},
   "outputs": [],
   "source": [
    "dataset_train = dataset.loc[0:11,['X', 'y']]  # .loc accesses a group of rows and columns by their label\n",
    "dataset_test = dataset.loc[0:20,['Xtest', 'ytest']]  \n",
    "dataset_val = dataset.loc[0:20,['Xval', 'yval']]  # above we are definining train, test, and validation set\n",
    "\n",
    "x_train = np.c_[np.ones_like(dataset_train['X']), dataset_train['X']] # Include a column of 1s in X to represent X_0 \n",
    "y_train = np.c_[dataset_train['y']]                                   # that will be multiplied by theta_0 \n",
    "\n",
    "x_val = np.c_[np.ones_like(dataset_val['Xval']), dataset_val['Xval']]  # np.c_Stacks 1-D arrays as columns into a 2-D array\n",
    "y_val = np.c_[dataset_val['yval']]\n",
    "\n",
    "x_test = np.c_[np.ones_like(dataset_test['Xtest']), dataset_test['Xtest']]\n",
    "y_test = np.c_[dataset_test['ytest']]"
   ]
  },
  {
   "cell_type": "code",
   "execution_count": 26,
   "metadata": {},
   "outputs": [],
   "source": [
    "def cost_jtheta(theta, x, y, lamb):  # create a general function to find j theta\n",
    "    m = y.size\n",
    "    hypothesis = np.dot(x,theta).reshape((m, 1))    # our hypothesis or prediction \n",
    "    J1 = (1 / (2 * m)) * np.sum(np.square(hypothesis - y))\n",
    "    J2 = (lamb / (2 * m)) * theta[1:].T.dot(theta[1:])  # adding regularization in here\n",
    "    J = J1 + J2\n",
    "    gradient = ((1 / m)*(x.T.dot(hypothesis - y)) + (lamb / m) * np.r_[[[0]], theta[1:].reshape(-1, 1)]).ravel() \n",
    "    return J, gradient"
   ]
  },
  {
   "cell_type": "code",
   "execution_count": 27,
   "metadata": {},
   "outputs": [],
   "source": [
    "def optimal_theta(theta, x, y, lamb):  # create function to find the optimal/best theta\n",
    "    optimal_result = minimize(fun = cost_jtheta, x0 = theta, args = (x, y, lamb), method = 'Nelder-Mead', jac=True)\n",
    "    return optimal_result.x   # above we use Nelder-Mead yields best fit"
   ]
  },
  {
   "cell_type": "code",
   "execution_count": 28,
   "metadata": {},
   "outputs": [
    {
     "name": "stdout",
     "output_type": "stream",
     "text": [
      "Optimized theta: [13.0879157   0.36777795]\n"
     ]
    },
    {
     "name": "stderr",
     "output_type": "stream",
     "text": [
      "C:\\Users\\betha\\anaconda3\\lib\\site-packages\\scipy\\optimize\\_minimize.py:505: RuntimeWarning: Method Nelder-Mead does not use gradient information (jac).\n",
      "  warn('Method %s does not use gradient information (jac).' % method,\n"
     ]
    }
   ],
   "source": [
    "initial_theta = np.ones((x_train.shape[1], 1))\n",
    "opt_theta = optimal_theta(initial_theta, x_train, y_train, 0)\n",
    "print(\"Optimized theta: {0}\".format(opt_theta))"
   ]
  },
  {
   "cell_type": "markdown",
   "metadata": {},
   "source": [
    "###############################################################################################################################"
   ]
  },
  {
   "cell_type": "markdown",
   "metadata": {},
   "source": [
    "## Step 11: Polynomial Regression"
   ]
  },
  {
   "cell_type": "code",
   "execution_count": 29,
   "metadata": {},
   "outputs": [],
   "source": [
    "def plot_poly(x, y, degree, num_points, lamb = 0):\n",
    "    x_poly = poly_normalize(x, degree)[1]\n",
    "    starting_theta = np.ones((x_poly.shape[1], 1))\n",
    "    opt_theta = optimal_theta(starting_theta, x_poly, y, lamb)\n",
    "    x_range = np.linspace(-55, 50, num_points)\n",
    "    x_range_poly = np.ones((num_points, 1))\n",
    "    x_range_poly = np.insert(x_range_poly, x_range_poly.shape[1], x_range.T, axis = 1)\n",
    "    x_range_poly = poly_normalize(x_range_poly, len(starting_theta)-2)[0]\n",
    "    y_range = x_range_poly @ opt_theta\n",
    "    plt.plot(x_range, y_range, \"--\", color = \"red\", label = \"Polynomial regression fit\")\n",
    "    plt.title('Polynomial Regression Fit: No Regularization')\n",
    "    plot_data(x, y)"
   ]
  },
  {
   "cell_type": "code",
   "execution_count": 30,
   "metadata": {},
   "outputs": [
    {
     "name": "stdout",
     "output_type": "stream",
     "text": [
      "\u001b[1mMSE: 30.120566295054502\n"
     ]
    },
    {
     "data": {
      "image/png": "[encoded data removed]",
      "text/plain": [
       "<Figure size 864x576 with 1 Axes>"
      ]
     },
     "metadata": {
      "needs_background": "light"
     },
     "output_type": "display_data"
    },
    {
     "name": "stdout",
     "output_type": "stream",
     "text": [
      "\n",
      "\u001b[1mThe graph above represents Polynomial Regression with No Regularization\n"
     ]
    }
   ],
   "source": [
    "initial_theta1 = np.ones((x_test.shape[1], 1))\n",
    "opt_theta_poly = optimal_theta(initial_theta1, x_test, y_test, 0)\n",
    "MSE = cost_jtheta(opt_theta_poly, x_test, y_test, 0)[0]\n",
    "print('\\033[1m' + \"MSE:\", MSE)\n",
    "plot_poly(x_train, y_train, 8, 1000)\n",
    "print()\n",
    "print('\\033[1m' + \"The graph above represents Polynomial Regression with No Regularization\")"
   ]
  },
  {
   "cell_type": "markdown",
   "metadata": {},
   "source": [
    "###############################################################################################################################"
   ]
  },
  {
   "cell_type": "markdown",
   "metadata": {},
   "source": [
    "## Step 12: Polynomial Regression with Built-In Skit Learn and Ridge Functions"
   ]
  },
  {
   "cell_type": "code",
   "execution_count": 31,
   "metadata": {},
   "outputs": [
    {
     "name": "stderr",
     "output_type": "stream",
     "text": [
      "C:\\Users\\betha\\anaconda3\\lib\\site-packages\\sklearn\\linear_model\\_ridge.py:147: LinAlgWarning: Ill-conditioned matrix (rcond=1.17832e-27): result may not be accurate.\n",
      "  return linalg.solve(A, Xy, sym_pos=True,\n"
     ]
    }
   ],
   "source": [
    "degree = 8\n",
    "poly = PolynomialFeatures(degree)\n",
    "x_train_poly = poly.fit_transform(x_train[:, 1].reshape(-1, 1))\n",
    "\n",
    "ridge = Ridge()\n",
    "ridge.fit(x_train_poly, y_train)\n",
    "skit = linear_model.LinearRegression()  # using skit learn\n",
    "skit.fit(x_train[:, 1].reshape(-1, 1), y_train.ravel())\n",
    "\n",
    "x_range = np.linspace(x_train.min(), x_train.max())\n",
    "x_values =  poly.fit_transform(x_range.reshape(-1, 1))\n",
    "y_range_lr = skit.intercept_+ np.sum(skit.coef_ * x_values, axis = 1)\n",
    "y_range_ridge = ridge.intercept_ + np.sum(ridge.coef_ * x_values, axis = 1)"
   ]
  },
  {
   "cell_type": "code",
   "execution_count": 32,
   "metadata": {},
   "outputs": [],
   "source": [
    "def plot_poly_skit():\n",
    "    plt.figure(figsize=(12, 8))\n",
    "    plt.plot(x_range, y_range_ridge, c  = 'red', label='Ridge Regression')\n",
    "    plt.scatter(x_train[:,1], y_train, c = 'blue', marker = 'o', linewidths = 1, label = \"Data\")\n",
    "    plt.xlabel('Change in water level (x)')\n",
    "    plt.ylabel('Water flowing out of the dam (y)')\n",
    "    plt.title('Polynomial Regression with Scikit Learn')\n",
    "    plt.legend(loc = \"best\")\n",
    "    plt.show()"
   ]
  },
  {
   "cell_type": "code",
   "execution_count": 33,
   "metadata": {},
   "outputs": [
    {
     "data": {
      "image/png": "[encoded data removed]",
      "text/plain": [
       "<Figure size 864x576 with 1 Axes>"
      ]
     },
     "metadata": {
      "needs_background": "light"
     },
     "output_type": "display_data"
    }
   ],
   "source": [
    "plot_poly_skit()"
   ]
  },
  {
   "cell_type": "markdown",
   "metadata": {},
   "source": [
    "###############################################################################################################################"
   ]
  },
  {
   "cell_type": "markdown",
   "metadata": {},
   "source": [
    "## Step 13: Plot Polynomial Regression Learning Curves"
   ]
  },
  {
   "cell_type": "code",
   "execution_count": 36,
   "metadata": {},
   "outputs": [],
   "source": [
    "def poly_learning_curves(theta, x, y, x_val, y_val, lamb = 0):\n",
    "    m = y.size\n",
    "    \n",
    "    validation_error = np.zeros((m, 1))\n",
    "    training_error = np.zeros((m, 1))\n",
    "    \n",
    "    example_num = np.arange(1, (x.shape[0] + 1))\n",
    "    for i in np.arange(m):\n",
    "        \n",
    "        opt_theta = optimal_theta(theta, x[:i + 1], y[:i + 1], lamb)\n",
    "        training_error[i] = cost_jtheta(opt_theta, x[:i + 1], y[:i + 1], lamb)[0]\n",
    "        validation_error[i] = cost_jtheta(opt_theta, x_val, y_val, lamb)[0]\n",
    "    \n",
    "    plt.figure(figsize = (12, 8))\n",
    "    plt.plot(example_num, validation_error, label = 'Cross Validation Error', color = \"b\")\n",
    "    plt.plot(example_num, training_error, label = 'Training Error', color = \"r\")\n",
    "    plt.title('Learning Curve: No Regularization')\n",
    "    if lamb != 0:\n",
    "        plt.title('Learning Curve: Lambda = {0}'.format(lamb))\n",
    "    plt.xlabel('Number of training examples')\n",
    "    plt.ylabel('Error')\n",
    "    plt.legend()"
   ]
  },
  {
   "cell_type": "code",
   "execution_count": 37,
   "metadata": {},
   "outputs": [
    {
     "name": "stderr",
     "output_type": "stream",
     "text": [
      "C:\\Users\\betha\\anaconda3\\lib\\site-packages\\scipy\\optimize\\_minimize.py:505: RuntimeWarning: Method Nelder-Mead does not use gradient information (jac).\n",
      "  warn('Method %s does not use gradient information (jac).' % method,\n"
     ]
    },
    {
     "data": {
      "image/png": "[encoded data removed]",
      "text/plain": [
       "<Figure size 864x576 with 1 Axes>"
      ]
     },
     "metadata": {
      "needs_background": "light"
     },
     "output_type": "display_data"
    }
   ],
   "source": [
    "x_poly_train = poly_normalize(x_train, degree)[1]\n",
    "x_poly_val = poly_normalize(x_val, degree)[1]\n",
    "x_poly_test = poly_normalize(x_test, degree)[1]\n",
    "starting_theta = np.ones((x_poly_train.shape[1], 1))\n",
    "poly_learning_curves(starting_theta, x_poly_train, y_train, x_poly_val, y_val)"
   ]
  },
  {
   "cell_type": "code",
   "execution_count": null,
   "metadata": {},
   "outputs": [],
   "source": []
  }
 ],
 "metadata": {
  "kernelspec": {
   "display_name": "Python 3",
   "language": "python",
   "name": "python3"
  },
  "language_info": {
   "codemirror_mode": {
    "name": "ipython",
    "version": 3
   },
   "file_extension": ".py",
   "mimetype": "text/x-python",
   "name": "python",
   "nbconvert_exporter": "python",
   "pygments_lexer": "ipython3",
   "version": "3.8.3"
  }
 },
 "nbformat": 4,
 "nbformat_minor": 2
}
